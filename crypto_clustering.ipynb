{
 "cells": [
  {
   "cell_type": "markdown",
   "id": "5948b2ce",
   "metadata": {},
   "source": [
    "# Clustering Crypto"
   ]
  },
  {
   "cell_type": "code",
   "execution_count": 12,
   "id": "0aeeab9b",
   "metadata": {},
   "outputs": [],
   "source": [
    "# Initial imports\n",
    "import pandas as pd\n",
    "import hvplot.pandas\n",
    "from path import Path\n",
    "import plotly.express as px\n",
    "from sklearn.preprocessing import StandardScaler, MinMaxScaler\n",
    "from sklearn.decomposition import PCA\n",
    "from sklearn.cluster import KMeans"
   ]
  },
  {
   "cell_type": "markdown",
   "id": "c56df491",
   "metadata": {},
   "source": [
    "## Deliverable 1: Preprocessing the Data for PCA"
   ]
  },
  {
   "cell_type": "code",
   "execution_count": 13,
   "id": "ec336286",
   "metadata": {},
   "outputs": [
    {
     "data": {
      "text/html": [
       "<div>\n",
       "<style scoped>\n",
       "    .dataframe tbody tr th:only-of-type {\n",
       "        vertical-align: middle;\n",
       "    }\n",
       "\n",
       "    .dataframe tbody tr th {\n",
       "        vertical-align: top;\n",
       "    }\n",
       "\n",
       "    .dataframe thead th {\n",
       "        text-align: right;\n",
       "    }\n",
       "</style>\n",
       "<table border=\"1\" class=\"dataframe\">\n",
       "  <thead>\n",
       "    <tr style=\"text-align: right;\">\n",
       "      <th></th>\n",
       "      <th>CoinName</th>\n",
       "      <th>Algorithm</th>\n",
       "      <th>IsTrading</th>\n",
       "      <th>ProofType</th>\n",
       "      <th>TotalCoinsMined</th>\n",
       "      <th>TotalCoinSupply</th>\n",
       "    </tr>\n",
       "    <tr>\n",
       "      <th>Unnamed: 0</th>\n",
       "      <th></th>\n",
       "      <th></th>\n",
       "      <th></th>\n",
       "      <th></th>\n",
       "      <th></th>\n",
       "      <th></th>\n",
       "    </tr>\n",
       "  </thead>\n",
       "  <tbody>\n",
       "    <tr>\n",
       "      <th>42</th>\n",
       "      <td>42 Coin</td>\n",
       "      <td>Scrypt</td>\n",
       "      <td>True</td>\n",
       "      <td>PoW/PoS</td>\n",
       "      <td>4.199995e+01</td>\n",
       "      <td>42</td>\n",
       "    </tr>\n",
       "    <tr>\n",
       "      <th>365</th>\n",
       "      <td>365Coin</td>\n",
       "      <td>X11</td>\n",
       "      <td>True</td>\n",
       "      <td>PoW/PoS</td>\n",
       "      <td>NaN</td>\n",
       "      <td>2300000000</td>\n",
       "    </tr>\n",
       "    <tr>\n",
       "      <th>404</th>\n",
       "      <td>404Coin</td>\n",
       "      <td>Scrypt</td>\n",
       "      <td>True</td>\n",
       "      <td>PoW/PoS</td>\n",
       "      <td>1.055185e+09</td>\n",
       "      <td>532000000</td>\n",
       "    </tr>\n",
       "    <tr>\n",
       "      <th>611</th>\n",
       "      <td>SixEleven</td>\n",
       "      <td>SHA-256</td>\n",
       "      <td>True</td>\n",
       "      <td>PoW</td>\n",
       "      <td>NaN</td>\n",
       "      <td>611000</td>\n",
       "    </tr>\n",
       "    <tr>\n",
       "      <th>808</th>\n",
       "      <td>808</td>\n",
       "      <td>SHA-256</td>\n",
       "      <td>True</td>\n",
       "      <td>PoW/PoS</td>\n",
       "      <td>0.000000e+00</td>\n",
       "      <td>0</td>\n",
       "    </tr>\n",
       "    <tr>\n",
       "      <th>...</th>\n",
       "      <td>...</td>\n",
       "      <td>...</td>\n",
       "      <td>...</td>\n",
       "      <td>...</td>\n",
       "      <td>...</td>\n",
       "      <td>...</td>\n",
       "    </tr>\n",
       "    <tr>\n",
       "      <th>XBC</th>\n",
       "      <td>BitcoinPlus</td>\n",
       "      <td>Scrypt</td>\n",
       "      <td>True</td>\n",
       "      <td>PoS</td>\n",
       "      <td>1.283270e+05</td>\n",
       "      <td>1000000</td>\n",
       "    </tr>\n",
       "    <tr>\n",
       "      <th>DVTC</th>\n",
       "      <td>DivotyCoin</td>\n",
       "      <td>Scrypt</td>\n",
       "      <td>False</td>\n",
       "      <td>PoW/PoS</td>\n",
       "      <td>2.149121e+07</td>\n",
       "      <td>100000000</td>\n",
       "    </tr>\n",
       "    <tr>\n",
       "      <th>GIOT</th>\n",
       "      <td>Giotto Coin</td>\n",
       "      <td>Scrypt</td>\n",
       "      <td>False</td>\n",
       "      <td>PoW/PoS</td>\n",
       "      <td>NaN</td>\n",
       "      <td>233100000</td>\n",
       "    </tr>\n",
       "    <tr>\n",
       "      <th>OPSC</th>\n",
       "      <td>OpenSourceCoin</td>\n",
       "      <td>SHA-256</td>\n",
       "      <td>False</td>\n",
       "      <td>PoW/PoS</td>\n",
       "      <td>NaN</td>\n",
       "      <td>21000000</td>\n",
       "    </tr>\n",
       "    <tr>\n",
       "      <th>PUNK</th>\n",
       "      <td>SteamPunk</td>\n",
       "      <td>PoS</td>\n",
       "      <td>False</td>\n",
       "      <td>PoS</td>\n",
       "      <td>NaN</td>\n",
       "      <td>40000000</td>\n",
       "    </tr>\n",
       "  </tbody>\n",
       "</table>\n",
       "<p>1252 rows × 6 columns</p>\n",
       "</div>"
      ],
      "text/plain": [
       "                  CoinName Algorithm  IsTrading ProofType  TotalCoinsMined  \\\n",
       "Unnamed: 0                                                                   \n",
       "42                 42 Coin    Scrypt       True   PoW/PoS     4.199995e+01   \n",
       "365                365Coin       X11       True   PoW/PoS              NaN   \n",
       "404                404Coin    Scrypt       True   PoW/PoS     1.055185e+09   \n",
       "611              SixEleven   SHA-256       True       PoW              NaN   \n",
       "808                    808   SHA-256       True   PoW/PoS     0.000000e+00   \n",
       "...                    ...       ...        ...       ...              ...   \n",
       "XBC            BitcoinPlus    Scrypt       True       PoS     1.283270e+05   \n",
       "DVTC            DivotyCoin    Scrypt      False   PoW/PoS     2.149121e+07   \n",
       "GIOT           Giotto Coin    Scrypt      False   PoW/PoS              NaN   \n",
       "OPSC        OpenSourceCoin   SHA-256      False   PoW/PoS              NaN   \n",
       "PUNK             SteamPunk       PoS      False       PoS              NaN   \n",
       "\n",
       "           TotalCoinSupply  \n",
       "Unnamed: 0                  \n",
       "42                      42  \n",
       "365             2300000000  \n",
       "404              532000000  \n",
       "611                 611000  \n",
       "808                      0  \n",
       "...                    ...  \n",
       "XBC                1000000  \n",
       "DVTC             100000000  \n",
       "GIOT             233100000  \n",
       "OPSC              21000000  \n",
       "PUNK              40000000  \n",
       "\n",
       "[1252 rows x 6 columns]"
      ]
     },
     "execution_count": 13,
     "metadata": {},
     "output_type": "execute_result"
    }
   ],
   "source": [
    "# Load the crypto_data.csv dataset.\n",
    "file_path = \"Resources/crypto_data.csv\"\n",
    "crypto_df = pd.read_csv(file_path)\n",
    "crypto_df=crypto_df.set_index(crypto_df.columns[0])\n",
    "crypto_df"
   ]
  },
  {
   "cell_type": "code",
   "execution_count": 14,
   "id": "bd677b93",
   "metadata": {},
   "outputs": [
    {
     "data": {
      "text/html": [
       "<div>\n",
       "<style scoped>\n",
       "    .dataframe tbody tr th:only-of-type {\n",
       "        vertical-align: middle;\n",
       "    }\n",
       "\n",
       "    .dataframe tbody tr th {\n",
       "        vertical-align: top;\n",
       "    }\n",
       "\n",
       "    .dataframe thead th {\n",
       "        text-align: right;\n",
       "    }\n",
       "</style>\n",
       "<table border=\"1\" class=\"dataframe\">\n",
       "  <thead>\n",
       "    <tr style=\"text-align: right;\">\n",
       "      <th></th>\n",
       "      <th>CoinName</th>\n",
       "      <th>Algorithm</th>\n",
       "      <th>IsTrading</th>\n",
       "      <th>ProofType</th>\n",
       "      <th>TotalCoinsMined</th>\n",
       "      <th>TotalCoinSupply</th>\n",
       "    </tr>\n",
       "    <tr>\n",
       "      <th>Unnamed: 0</th>\n",
       "      <th></th>\n",
       "      <th></th>\n",
       "      <th></th>\n",
       "      <th></th>\n",
       "      <th></th>\n",
       "      <th></th>\n",
       "    </tr>\n",
       "  </thead>\n",
       "  <tbody>\n",
       "    <tr>\n",
       "      <th>42</th>\n",
       "      <td>42 Coin</td>\n",
       "      <td>Scrypt</td>\n",
       "      <td>True</td>\n",
       "      <td>PoW/PoS</td>\n",
       "      <td>4.199995e+01</td>\n",
       "      <td>42</td>\n",
       "    </tr>\n",
       "    <tr>\n",
       "      <th>365</th>\n",
       "      <td>365Coin</td>\n",
       "      <td>X11</td>\n",
       "      <td>True</td>\n",
       "      <td>PoW/PoS</td>\n",
       "      <td>NaN</td>\n",
       "      <td>2300000000</td>\n",
       "    </tr>\n",
       "    <tr>\n",
       "      <th>404</th>\n",
       "      <td>404Coin</td>\n",
       "      <td>Scrypt</td>\n",
       "      <td>True</td>\n",
       "      <td>PoW/PoS</td>\n",
       "      <td>1.055185e+09</td>\n",
       "      <td>532000000</td>\n",
       "    </tr>\n",
       "    <tr>\n",
       "      <th>611</th>\n",
       "      <td>SixEleven</td>\n",
       "      <td>SHA-256</td>\n",
       "      <td>True</td>\n",
       "      <td>PoW</td>\n",
       "      <td>NaN</td>\n",
       "      <td>611000</td>\n",
       "    </tr>\n",
       "    <tr>\n",
       "      <th>808</th>\n",
       "      <td>808</td>\n",
       "      <td>SHA-256</td>\n",
       "      <td>True</td>\n",
       "      <td>PoW/PoS</td>\n",
       "      <td>0.000000e+00</td>\n",
       "      <td>0</td>\n",
       "    </tr>\n",
       "    <tr>\n",
       "      <th>...</th>\n",
       "      <td>...</td>\n",
       "      <td>...</td>\n",
       "      <td>...</td>\n",
       "      <td>...</td>\n",
       "      <td>...</td>\n",
       "      <td>...</td>\n",
       "    </tr>\n",
       "    <tr>\n",
       "      <th>SERO</th>\n",
       "      <td>Super Zero</td>\n",
       "      <td>Ethash</td>\n",
       "      <td>True</td>\n",
       "      <td>PoW</td>\n",
       "      <td>NaN</td>\n",
       "      <td>1000000000</td>\n",
       "    </tr>\n",
       "    <tr>\n",
       "      <th>UOS</th>\n",
       "      <td>UOS</td>\n",
       "      <td>SHA-256</td>\n",
       "      <td>True</td>\n",
       "      <td>DPoI</td>\n",
       "      <td>NaN</td>\n",
       "      <td>1000000000</td>\n",
       "    </tr>\n",
       "    <tr>\n",
       "      <th>BDX</th>\n",
       "      <td>Beldex</td>\n",
       "      <td>CryptoNight</td>\n",
       "      <td>True</td>\n",
       "      <td>PoW</td>\n",
       "      <td>9.802226e+08</td>\n",
       "      <td>1400222610</td>\n",
       "    </tr>\n",
       "    <tr>\n",
       "      <th>ZEN</th>\n",
       "      <td>Horizen</td>\n",
       "      <td>Equihash</td>\n",
       "      <td>True</td>\n",
       "      <td>PoW</td>\n",
       "      <td>7.296538e+06</td>\n",
       "      <td>21000000</td>\n",
       "    </tr>\n",
       "    <tr>\n",
       "      <th>XBC</th>\n",
       "      <td>BitcoinPlus</td>\n",
       "      <td>Scrypt</td>\n",
       "      <td>True</td>\n",
       "      <td>PoS</td>\n",
       "      <td>1.283270e+05</td>\n",
       "      <td>1000000</td>\n",
       "    </tr>\n",
       "  </tbody>\n",
       "</table>\n",
       "<p>1144 rows × 6 columns</p>\n",
       "</div>"
      ],
      "text/plain": [
       "               CoinName    Algorithm  IsTrading ProofType  TotalCoinsMined  \\\n",
       "Unnamed: 0                                                                   \n",
       "42              42 Coin       Scrypt       True   PoW/PoS     4.199995e+01   \n",
       "365             365Coin          X11       True   PoW/PoS              NaN   \n",
       "404             404Coin       Scrypt       True   PoW/PoS     1.055185e+09   \n",
       "611           SixEleven      SHA-256       True       PoW              NaN   \n",
       "808                 808      SHA-256       True   PoW/PoS     0.000000e+00   \n",
       "...                 ...          ...        ...       ...              ...   \n",
       "SERO         Super Zero       Ethash       True       PoW              NaN   \n",
       "UOS                 UOS      SHA-256       True      DPoI              NaN   \n",
       "BDX              Beldex  CryptoNight       True       PoW     9.802226e+08   \n",
       "ZEN             Horizen     Equihash       True       PoW     7.296538e+06   \n",
       "XBC         BitcoinPlus       Scrypt       True       PoS     1.283270e+05   \n",
       "\n",
       "           TotalCoinSupply  \n",
       "Unnamed: 0                  \n",
       "42                      42  \n",
       "365             2300000000  \n",
       "404              532000000  \n",
       "611                 611000  \n",
       "808                      0  \n",
       "...                    ...  \n",
       "SERO            1000000000  \n",
       "UOS             1000000000  \n",
       "BDX             1400222610  \n",
       "ZEN               21000000  \n",
       "XBC                1000000  \n",
       "\n",
       "[1144 rows x 6 columns]"
      ]
     },
     "execution_count": 14,
     "metadata": {},
     "output_type": "execute_result"
    }
   ],
   "source": [
    "#Keep all the cryptocurrencies that are being traded.\n",
    "crypto_df=crypto_df[crypto_df.IsTrading==True]\n",
    "crypto_df"
   ]
  },
  {
   "cell_type": "code",
   "execution_count": 15,
   "id": "77ea2f37",
   "metadata": {},
   "outputs": [
    {
     "data": {
      "text/html": [
       "<div>\n",
       "<style scoped>\n",
       "    .dataframe tbody tr th:only-of-type {\n",
       "        vertical-align: middle;\n",
       "    }\n",
       "\n",
       "    .dataframe tbody tr th {\n",
       "        vertical-align: top;\n",
       "    }\n",
       "\n",
       "    .dataframe thead th {\n",
       "        text-align: right;\n",
       "    }\n",
       "</style>\n",
       "<table border=\"1\" class=\"dataframe\">\n",
       "  <thead>\n",
       "    <tr style=\"text-align: right;\">\n",
       "      <th></th>\n",
       "      <th>CoinName</th>\n",
       "      <th>Algorithm</th>\n",
       "      <th>ProofType</th>\n",
       "      <th>TotalCoinsMined</th>\n",
       "      <th>TotalCoinSupply</th>\n",
       "    </tr>\n",
       "    <tr>\n",
       "      <th>Unnamed: 0</th>\n",
       "      <th></th>\n",
       "      <th></th>\n",
       "      <th></th>\n",
       "      <th></th>\n",
       "      <th></th>\n",
       "    </tr>\n",
       "  </thead>\n",
       "  <tbody>\n",
       "    <tr>\n",
       "      <th>42</th>\n",
       "      <td>42 Coin</td>\n",
       "      <td>Scrypt</td>\n",
       "      <td>PoW/PoS</td>\n",
       "      <td>4.199995e+01</td>\n",
       "      <td>42</td>\n",
       "    </tr>\n",
       "    <tr>\n",
       "      <th>365</th>\n",
       "      <td>365Coin</td>\n",
       "      <td>X11</td>\n",
       "      <td>PoW/PoS</td>\n",
       "      <td>NaN</td>\n",
       "      <td>2300000000</td>\n",
       "    </tr>\n",
       "    <tr>\n",
       "      <th>404</th>\n",
       "      <td>404Coin</td>\n",
       "      <td>Scrypt</td>\n",
       "      <td>PoW/PoS</td>\n",
       "      <td>1.055185e+09</td>\n",
       "      <td>532000000</td>\n",
       "    </tr>\n",
       "    <tr>\n",
       "      <th>611</th>\n",
       "      <td>SixEleven</td>\n",
       "      <td>SHA-256</td>\n",
       "      <td>PoW</td>\n",
       "      <td>NaN</td>\n",
       "      <td>611000</td>\n",
       "    </tr>\n",
       "    <tr>\n",
       "      <th>808</th>\n",
       "      <td>808</td>\n",
       "      <td>SHA-256</td>\n",
       "      <td>PoW/PoS</td>\n",
       "      <td>0.000000e+00</td>\n",
       "      <td>0</td>\n",
       "    </tr>\n",
       "    <tr>\n",
       "      <th>...</th>\n",
       "      <td>...</td>\n",
       "      <td>...</td>\n",
       "      <td>...</td>\n",
       "      <td>...</td>\n",
       "      <td>...</td>\n",
       "    </tr>\n",
       "    <tr>\n",
       "      <th>SERO</th>\n",
       "      <td>Super Zero</td>\n",
       "      <td>Ethash</td>\n",
       "      <td>PoW</td>\n",
       "      <td>NaN</td>\n",
       "      <td>1000000000</td>\n",
       "    </tr>\n",
       "    <tr>\n",
       "      <th>UOS</th>\n",
       "      <td>UOS</td>\n",
       "      <td>SHA-256</td>\n",
       "      <td>DPoI</td>\n",
       "      <td>NaN</td>\n",
       "      <td>1000000000</td>\n",
       "    </tr>\n",
       "    <tr>\n",
       "      <th>BDX</th>\n",
       "      <td>Beldex</td>\n",
       "      <td>CryptoNight</td>\n",
       "      <td>PoW</td>\n",
       "      <td>9.802226e+08</td>\n",
       "      <td>1400222610</td>\n",
       "    </tr>\n",
       "    <tr>\n",
       "      <th>ZEN</th>\n",
       "      <td>Horizen</td>\n",
       "      <td>Equihash</td>\n",
       "      <td>PoW</td>\n",
       "      <td>7.296538e+06</td>\n",
       "      <td>21000000</td>\n",
       "    </tr>\n",
       "    <tr>\n",
       "      <th>XBC</th>\n",
       "      <td>BitcoinPlus</td>\n",
       "      <td>Scrypt</td>\n",
       "      <td>PoS</td>\n",
       "      <td>1.283270e+05</td>\n",
       "      <td>1000000</td>\n",
       "    </tr>\n",
       "  </tbody>\n",
       "</table>\n",
       "<p>1144 rows × 5 columns</p>\n",
       "</div>"
      ],
      "text/plain": [
       "               CoinName    Algorithm ProofType  TotalCoinsMined  \\\n",
       "Unnamed: 0                                                        \n",
       "42              42 Coin       Scrypt   PoW/PoS     4.199995e+01   \n",
       "365             365Coin          X11   PoW/PoS              NaN   \n",
       "404             404Coin       Scrypt   PoW/PoS     1.055185e+09   \n",
       "611           SixEleven      SHA-256       PoW              NaN   \n",
       "808                 808      SHA-256   PoW/PoS     0.000000e+00   \n",
       "...                 ...          ...       ...              ...   \n",
       "SERO         Super Zero       Ethash       PoW              NaN   \n",
       "UOS                 UOS      SHA-256      DPoI              NaN   \n",
       "BDX              Beldex  CryptoNight       PoW     9.802226e+08   \n",
       "ZEN             Horizen     Equihash       PoW     7.296538e+06   \n",
       "XBC         BitcoinPlus       Scrypt       PoS     1.283270e+05   \n",
       "\n",
       "           TotalCoinSupply  \n",
       "Unnamed: 0                  \n",
       "42                      42  \n",
       "365             2300000000  \n",
       "404              532000000  \n",
       "611                 611000  \n",
       "808                      0  \n",
       "...                    ...  \n",
       "SERO            1000000000  \n",
       "UOS             1000000000  \n",
       "BDX             1400222610  \n",
       "ZEN               21000000  \n",
       "XBC                1000000  \n",
       "\n",
       "[1144 rows x 5 columns]"
      ]
     },
     "execution_count": 15,
     "metadata": {},
     "output_type": "execute_result"
    }
   ],
   "source": [
    "# Remove the \"IsTrading\" column. \n",
    "crypto_df=crypto_df.drop([\"IsTrading\"], axis=1)\n",
    "crypto_df"
   ]
  },
  {
   "cell_type": "code",
   "execution_count": 16,
   "id": "0897b6ea",
   "metadata": {},
   "outputs": [
    {
     "data": {
      "text/html": [
       "<div>\n",
       "<style scoped>\n",
       "    .dataframe tbody tr th:only-of-type {\n",
       "        vertical-align: middle;\n",
       "    }\n",
       "\n",
       "    .dataframe tbody tr th {\n",
       "        vertical-align: top;\n",
       "    }\n",
       "\n",
       "    .dataframe thead th {\n",
       "        text-align: right;\n",
       "    }\n",
       "</style>\n",
       "<table border=\"1\" class=\"dataframe\">\n",
       "  <thead>\n",
       "    <tr style=\"text-align: right;\">\n",
       "      <th></th>\n",
       "      <th>CoinName</th>\n",
       "      <th>Algorithm</th>\n",
       "      <th>ProofType</th>\n",
       "      <th>TotalCoinsMined</th>\n",
       "      <th>TotalCoinSupply</th>\n",
       "    </tr>\n",
       "    <tr>\n",
       "      <th>Unnamed: 0</th>\n",
       "      <th></th>\n",
       "      <th></th>\n",
       "      <th></th>\n",
       "      <th></th>\n",
       "      <th></th>\n",
       "    </tr>\n",
       "  </thead>\n",
       "  <tbody>\n",
       "    <tr>\n",
       "      <th>42</th>\n",
       "      <td>42 Coin</td>\n",
       "      <td>Scrypt</td>\n",
       "      <td>PoW/PoS</td>\n",
       "      <td>4.199995e+01</td>\n",
       "      <td>42</td>\n",
       "    </tr>\n",
       "    <tr>\n",
       "      <th>404</th>\n",
       "      <td>404Coin</td>\n",
       "      <td>Scrypt</td>\n",
       "      <td>PoW/PoS</td>\n",
       "      <td>1.055185e+09</td>\n",
       "      <td>532000000</td>\n",
       "    </tr>\n",
       "    <tr>\n",
       "      <th>808</th>\n",
       "      <td>808</td>\n",
       "      <td>SHA-256</td>\n",
       "      <td>PoW/PoS</td>\n",
       "      <td>0.000000e+00</td>\n",
       "      <td>0</td>\n",
       "    </tr>\n",
       "    <tr>\n",
       "      <th>1337</th>\n",
       "      <td>EliteCoin</td>\n",
       "      <td>X13</td>\n",
       "      <td>PoW/PoS</td>\n",
       "      <td>2.927942e+10</td>\n",
       "      <td>314159265359</td>\n",
       "    </tr>\n",
       "    <tr>\n",
       "      <th>BTC</th>\n",
       "      <td>Bitcoin</td>\n",
       "      <td>SHA-256</td>\n",
       "      <td>PoW</td>\n",
       "      <td>1.792718e+07</td>\n",
       "      <td>21000000</td>\n",
       "    </tr>\n",
       "    <tr>\n",
       "      <th>...</th>\n",
       "      <td>...</td>\n",
       "      <td>...</td>\n",
       "      <td>...</td>\n",
       "      <td>...</td>\n",
       "      <td>...</td>\n",
       "    </tr>\n",
       "    <tr>\n",
       "      <th>ZEPH</th>\n",
       "      <td>ZEPHYR</td>\n",
       "      <td>SHA-256</td>\n",
       "      <td>DPoS</td>\n",
       "      <td>2.000000e+09</td>\n",
       "      <td>2000000000</td>\n",
       "    </tr>\n",
       "    <tr>\n",
       "      <th>GAP</th>\n",
       "      <td>Gapcoin</td>\n",
       "      <td>Scrypt</td>\n",
       "      <td>PoW/PoS</td>\n",
       "      <td>1.493105e+07</td>\n",
       "      <td>250000000</td>\n",
       "    </tr>\n",
       "    <tr>\n",
       "      <th>BDX</th>\n",
       "      <td>Beldex</td>\n",
       "      <td>CryptoNight</td>\n",
       "      <td>PoW</td>\n",
       "      <td>9.802226e+08</td>\n",
       "      <td>1400222610</td>\n",
       "    </tr>\n",
       "    <tr>\n",
       "      <th>ZEN</th>\n",
       "      <td>Horizen</td>\n",
       "      <td>Equihash</td>\n",
       "      <td>PoW</td>\n",
       "      <td>7.296538e+06</td>\n",
       "      <td>21000000</td>\n",
       "    </tr>\n",
       "    <tr>\n",
       "      <th>XBC</th>\n",
       "      <td>BitcoinPlus</td>\n",
       "      <td>Scrypt</td>\n",
       "      <td>PoS</td>\n",
       "      <td>1.283270e+05</td>\n",
       "      <td>1000000</td>\n",
       "    </tr>\n",
       "  </tbody>\n",
       "</table>\n",
       "<p>685 rows × 5 columns</p>\n",
       "</div>"
      ],
      "text/plain": [
       "               CoinName    Algorithm ProofType  TotalCoinsMined  \\\n",
       "Unnamed: 0                                                        \n",
       "42              42 Coin       Scrypt   PoW/PoS     4.199995e+01   \n",
       "404             404Coin       Scrypt   PoW/PoS     1.055185e+09   \n",
       "808                 808      SHA-256   PoW/PoS     0.000000e+00   \n",
       "1337          EliteCoin          X13   PoW/PoS     2.927942e+10   \n",
       "BTC             Bitcoin      SHA-256       PoW     1.792718e+07   \n",
       "...                 ...          ...       ...              ...   \n",
       "ZEPH             ZEPHYR      SHA-256      DPoS     2.000000e+09   \n",
       "GAP             Gapcoin       Scrypt   PoW/PoS     1.493105e+07   \n",
       "BDX              Beldex  CryptoNight       PoW     9.802226e+08   \n",
       "ZEN             Horizen     Equihash       PoW     7.296538e+06   \n",
       "XBC         BitcoinPlus       Scrypt       PoS     1.283270e+05   \n",
       "\n",
       "           TotalCoinSupply  \n",
       "Unnamed: 0                  \n",
       "42                      42  \n",
       "404              532000000  \n",
       "808                      0  \n",
       "1337          314159265359  \n",
       "BTC               21000000  \n",
       "...                    ...  \n",
       "ZEPH            2000000000  \n",
       "GAP              250000000  \n",
       "BDX             1400222610  \n",
       "ZEN               21000000  \n",
       "XBC                1000000  \n",
       "\n",
       "[685 rows x 5 columns]"
      ]
     },
     "execution_count": 16,
     "metadata": {},
     "output_type": "execute_result"
    }
   ],
   "source": [
    "# Remove rows that have at least 1 null value.\n",
    "crypto_df = crypto_df.dropna()\n",
    "crypto_df"
   ]
  },
  {
   "cell_type": "code",
   "execution_count": 17,
   "id": "ba817610",
   "metadata": {},
   "outputs": [
    {
     "data": {
      "text/html": [
       "<div>\n",
       "<style scoped>\n",
       "    .dataframe tbody tr th:only-of-type {\n",
       "        vertical-align: middle;\n",
       "    }\n",
       "\n",
       "    .dataframe tbody tr th {\n",
       "        vertical-align: top;\n",
       "    }\n",
       "\n",
       "    .dataframe thead th {\n",
       "        text-align: right;\n",
       "    }\n",
       "</style>\n",
       "<table border=\"1\" class=\"dataframe\">\n",
       "  <thead>\n",
       "    <tr style=\"text-align: right;\">\n",
       "      <th></th>\n",
       "      <th>CoinName</th>\n",
       "      <th>Algorithm</th>\n",
       "      <th>ProofType</th>\n",
       "      <th>TotalCoinsMined</th>\n",
       "      <th>TotalCoinSupply</th>\n",
       "    </tr>\n",
       "    <tr>\n",
       "      <th>Unnamed: 0</th>\n",
       "      <th></th>\n",
       "      <th></th>\n",
       "      <th></th>\n",
       "      <th></th>\n",
       "      <th></th>\n",
       "    </tr>\n",
       "  </thead>\n",
       "  <tbody>\n",
       "    <tr>\n",
       "      <th>42</th>\n",
       "      <td>42 Coin</td>\n",
       "      <td>Scrypt</td>\n",
       "      <td>PoW/PoS</td>\n",
       "      <td>4.199995e+01</td>\n",
       "      <td>42</td>\n",
       "    </tr>\n",
       "    <tr>\n",
       "      <th>404</th>\n",
       "      <td>404Coin</td>\n",
       "      <td>Scrypt</td>\n",
       "      <td>PoW/PoS</td>\n",
       "      <td>1.055185e+09</td>\n",
       "      <td>532000000</td>\n",
       "    </tr>\n",
       "    <tr>\n",
       "      <th>1337</th>\n",
       "      <td>EliteCoin</td>\n",
       "      <td>X13</td>\n",
       "      <td>PoW/PoS</td>\n",
       "      <td>2.927942e+10</td>\n",
       "      <td>314159265359</td>\n",
       "    </tr>\n",
       "    <tr>\n",
       "      <th>BTC</th>\n",
       "      <td>Bitcoin</td>\n",
       "      <td>SHA-256</td>\n",
       "      <td>PoW</td>\n",
       "      <td>1.792718e+07</td>\n",
       "      <td>21000000</td>\n",
       "    </tr>\n",
       "    <tr>\n",
       "      <th>ETH</th>\n",
       "      <td>Ethereum</td>\n",
       "      <td>Ethash</td>\n",
       "      <td>PoW</td>\n",
       "      <td>1.076842e+08</td>\n",
       "      <td>0</td>\n",
       "    </tr>\n",
       "    <tr>\n",
       "      <th>...</th>\n",
       "      <td>...</td>\n",
       "      <td>...</td>\n",
       "      <td>...</td>\n",
       "      <td>...</td>\n",
       "      <td>...</td>\n",
       "    </tr>\n",
       "    <tr>\n",
       "      <th>ZEPH</th>\n",
       "      <td>ZEPHYR</td>\n",
       "      <td>SHA-256</td>\n",
       "      <td>DPoS</td>\n",
       "      <td>2.000000e+09</td>\n",
       "      <td>2000000000</td>\n",
       "    </tr>\n",
       "    <tr>\n",
       "      <th>GAP</th>\n",
       "      <td>Gapcoin</td>\n",
       "      <td>Scrypt</td>\n",
       "      <td>PoW/PoS</td>\n",
       "      <td>1.493105e+07</td>\n",
       "      <td>250000000</td>\n",
       "    </tr>\n",
       "    <tr>\n",
       "      <th>BDX</th>\n",
       "      <td>Beldex</td>\n",
       "      <td>CryptoNight</td>\n",
       "      <td>PoW</td>\n",
       "      <td>9.802226e+08</td>\n",
       "      <td>1400222610</td>\n",
       "    </tr>\n",
       "    <tr>\n",
       "      <th>ZEN</th>\n",
       "      <td>Horizen</td>\n",
       "      <td>Equihash</td>\n",
       "      <td>PoW</td>\n",
       "      <td>7.296538e+06</td>\n",
       "      <td>21000000</td>\n",
       "    </tr>\n",
       "    <tr>\n",
       "      <th>XBC</th>\n",
       "      <td>BitcoinPlus</td>\n",
       "      <td>Scrypt</td>\n",
       "      <td>PoS</td>\n",
       "      <td>1.283270e+05</td>\n",
       "      <td>1000000</td>\n",
       "    </tr>\n",
       "  </tbody>\n",
       "</table>\n",
       "<p>533 rows × 5 columns</p>\n",
       "</div>"
      ],
      "text/plain": [
       "               CoinName    Algorithm ProofType  TotalCoinsMined  \\\n",
       "Unnamed: 0                                                        \n",
       "42              42 Coin       Scrypt   PoW/PoS     4.199995e+01   \n",
       "404             404Coin       Scrypt   PoW/PoS     1.055185e+09   \n",
       "1337          EliteCoin          X13   PoW/PoS     2.927942e+10   \n",
       "BTC             Bitcoin      SHA-256       PoW     1.792718e+07   \n",
       "ETH            Ethereum       Ethash       PoW     1.076842e+08   \n",
       "...                 ...          ...       ...              ...   \n",
       "ZEPH             ZEPHYR      SHA-256      DPoS     2.000000e+09   \n",
       "GAP             Gapcoin       Scrypt   PoW/PoS     1.493105e+07   \n",
       "BDX              Beldex  CryptoNight       PoW     9.802226e+08   \n",
       "ZEN             Horizen     Equihash       PoW     7.296538e+06   \n",
       "XBC         BitcoinPlus       Scrypt       PoS     1.283270e+05   \n",
       "\n",
       "           TotalCoinSupply  \n",
       "Unnamed: 0                  \n",
       "42                      42  \n",
       "404              532000000  \n",
       "1337          314159265359  \n",
       "BTC               21000000  \n",
       "ETH                      0  \n",
       "...                    ...  \n",
       "ZEPH            2000000000  \n",
       "GAP              250000000  \n",
       "BDX             1400222610  \n",
       "ZEN               21000000  \n",
       "XBC                1000000  \n",
       "\n",
       "[533 rows x 5 columns]"
      ]
     },
     "execution_count": 17,
     "metadata": {},
     "output_type": "execute_result"
    }
   ],
   "source": [
    "# Keep the rows where coins are mined.\n",
    "crypto_df=crypto_df[crypto_df.TotalCoinsMined!=0]\n",
    "crypto_df"
   ]
  },
  {
   "cell_type": "code",
   "execution_count": 18,
   "id": "b75f4f78",
   "metadata": {},
   "outputs": [
    {
     "data": {
      "text/html": [
       "<div>\n",
       "<style scoped>\n",
       "    .dataframe tbody tr th:only-of-type {\n",
       "        vertical-align: middle;\n",
       "    }\n",
       "\n",
       "    .dataframe tbody tr th {\n",
       "        vertical-align: top;\n",
       "    }\n",
       "\n",
       "    .dataframe thead th {\n",
       "        text-align: right;\n",
       "    }\n",
       "</style>\n",
       "<table border=\"1\" class=\"dataframe\">\n",
       "  <thead>\n",
       "    <tr style=\"text-align: right;\">\n",
       "      <th></th>\n",
       "      <th>CoinName</th>\n",
       "    </tr>\n",
       "    <tr>\n",
       "      <th>Unnamed: 0</th>\n",
       "      <th></th>\n",
       "    </tr>\n",
       "  </thead>\n",
       "  <tbody>\n",
       "    <tr>\n",
       "      <th>42</th>\n",
       "      <td>42 Coin</td>\n",
       "    </tr>\n",
       "    <tr>\n",
       "      <th>404</th>\n",
       "      <td>404Coin</td>\n",
       "    </tr>\n",
       "    <tr>\n",
       "      <th>1337</th>\n",
       "      <td>EliteCoin</td>\n",
       "    </tr>\n",
       "    <tr>\n",
       "      <th>BTC</th>\n",
       "      <td>Bitcoin</td>\n",
       "    </tr>\n",
       "    <tr>\n",
       "      <th>ETH</th>\n",
       "      <td>Ethereum</td>\n",
       "    </tr>\n",
       "    <tr>\n",
       "      <th>...</th>\n",
       "      <td>...</td>\n",
       "    </tr>\n",
       "    <tr>\n",
       "      <th>ZEPH</th>\n",
       "      <td>ZEPHYR</td>\n",
       "    </tr>\n",
       "    <tr>\n",
       "      <th>GAP</th>\n",
       "      <td>Gapcoin</td>\n",
       "    </tr>\n",
       "    <tr>\n",
       "      <th>BDX</th>\n",
       "      <td>Beldex</td>\n",
       "    </tr>\n",
       "    <tr>\n",
       "      <th>ZEN</th>\n",
       "      <td>Horizen</td>\n",
       "    </tr>\n",
       "    <tr>\n",
       "      <th>XBC</th>\n",
       "      <td>BitcoinPlus</td>\n",
       "    </tr>\n",
       "  </tbody>\n",
       "</table>\n",
       "<p>533 rows × 1 columns</p>\n",
       "</div>"
      ],
      "text/plain": [
       "               CoinName\n",
       "Unnamed: 0             \n",
       "42              42 Coin\n",
       "404             404Coin\n",
       "1337          EliteCoin\n",
       "BTC             Bitcoin\n",
       "ETH            Ethereum\n",
       "...                 ...\n",
       "ZEPH             ZEPHYR\n",
       "GAP             Gapcoin\n",
       "BDX              Beldex\n",
       "ZEN             Horizen\n",
       "XBC         BitcoinPlus\n",
       "\n",
       "[533 rows x 1 columns]"
      ]
     },
     "execution_count": 18,
     "metadata": {},
     "output_type": "execute_result"
    }
   ],
   "source": [
    "# Create a new DataFrame that holds only the cryptocurrencies names.\n",
    "names_df=pd.DataFrame([crypto_df.CoinName]).transpose()\n",
    "names_df"
   ]
  },
  {
   "cell_type": "code",
   "execution_count": 19,
   "id": "2cbf919d",
   "metadata": {},
   "outputs": [
    {
     "data": {
      "text/html": [
       "<div>\n",
       "<style scoped>\n",
       "    .dataframe tbody tr th:only-of-type {\n",
       "        vertical-align: middle;\n",
       "    }\n",
       "\n",
       "    .dataframe tbody tr th {\n",
       "        vertical-align: top;\n",
       "    }\n",
       "\n",
       "    .dataframe thead th {\n",
       "        text-align: right;\n",
       "    }\n",
       "</style>\n",
       "<table border=\"1\" class=\"dataframe\">\n",
       "  <thead>\n",
       "    <tr style=\"text-align: right;\">\n",
       "      <th></th>\n",
       "      <th>Algorithm</th>\n",
       "      <th>ProofType</th>\n",
       "      <th>TotalCoinsMined</th>\n",
       "      <th>TotalCoinSupply</th>\n",
       "    </tr>\n",
       "    <tr>\n",
       "      <th>Unnamed: 0</th>\n",
       "      <th></th>\n",
       "      <th></th>\n",
       "      <th></th>\n",
       "      <th></th>\n",
       "    </tr>\n",
       "  </thead>\n",
       "  <tbody>\n",
       "    <tr>\n",
       "      <th>42</th>\n",
       "      <td>Scrypt</td>\n",
       "      <td>PoW/PoS</td>\n",
       "      <td>4.199995e+01</td>\n",
       "      <td>42</td>\n",
       "    </tr>\n",
       "    <tr>\n",
       "      <th>404</th>\n",
       "      <td>Scrypt</td>\n",
       "      <td>PoW/PoS</td>\n",
       "      <td>1.055185e+09</td>\n",
       "      <td>532000000</td>\n",
       "    </tr>\n",
       "    <tr>\n",
       "      <th>1337</th>\n",
       "      <td>X13</td>\n",
       "      <td>PoW/PoS</td>\n",
       "      <td>2.927942e+10</td>\n",
       "      <td>314159265359</td>\n",
       "    </tr>\n",
       "    <tr>\n",
       "      <th>BTC</th>\n",
       "      <td>SHA-256</td>\n",
       "      <td>PoW</td>\n",
       "      <td>1.792718e+07</td>\n",
       "      <td>21000000</td>\n",
       "    </tr>\n",
       "    <tr>\n",
       "      <th>ETH</th>\n",
       "      <td>Ethash</td>\n",
       "      <td>PoW</td>\n",
       "      <td>1.076842e+08</td>\n",
       "      <td>0</td>\n",
       "    </tr>\n",
       "    <tr>\n",
       "      <th>...</th>\n",
       "      <td>...</td>\n",
       "      <td>...</td>\n",
       "      <td>...</td>\n",
       "      <td>...</td>\n",
       "    </tr>\n",
       "    <tr>\n",
       "      <th>ZEPH</th>\n",
       "      <td>SHA-256</td>\n",
       "      <td>DPoS</td>\n",
       "      <td>2.000000e+09</td>\n",
       "      <td>2000000000</td>\n",
       "    </tr>\n",
       "    <tr>\n",
       "      <th>GAP</th>\n",
       "      <td>Scrypt</td>\n",
       "      <td>PoW/PoS</td>\n",
       "      <td>1.493105e+07</td>\n",
       "      <td>250000000</td>\n",
       "    </tr>\n",
       "    <tr>\n",
       "      <th>BDX</th>\n",
       "      <td>CryptoNight</td>\n",
       "      <td>PoW</td>\n",
       "      <td>9.802226e+08</td>\n",
       "      <td>1400222610</td>\n",
       "    </tr>\n",
       "    <tr>\n",
       "      <th>ZEN</th>\n",
       "      <td>Equihash</td>\n",
       "      <td>PoW</td>\n",
       "      <td>7.296538e+06</td>\n",
       "      <td>21000000</td>\n",
       "    </tr>\n",
       "    <tr>\n",
       "      <th>XBC</th>\n",
       "      <td>Scrypt</td>\n",
       "      <td>PoS</td>\n",
       "      <td>1.283270e+05</td>\n",
       "      <td>1000000</td>\n",
       "    </tr>\n",
       "  </tbody>\n",
       "</table>\n",
       "<p>533 rows × 4 columns</p>\n",
       "</div>"
      ],
      "text/plain": [
       "              Algorithm ProofType  TotalCoinsMined TotalCoinSupply\n",
       "Unnamed: 0                                                        \n",
       "42               Scrypt   PoW/PoS     4.199995e+01              42\n",
       "404              Scrypt   PoW/PoS     1.055185e+09       532000000\n",
       "1337                X13   PoW/PoS     2.927942e+10    314159265359\n",
       "BTC             SHA-256       PoW     1.792718e+07        21000000\n",
       "ETH              Ethash       PoW     1.076842e+08               0\n",
       "...                 ...       ...              ...             ...\n",
       "ZEPH            SHA-256      DPoS     2.000000e+09      2000000000\n",
       "GAP              Scrypt   PoW/PoS     1.493105e+07       250000000\n",
       "BDX         CryptoNight       PoW     9.802226e+08      1400222610\n",
       "ZEN            Equihash       PoW     7.296538e+06        21000000\n",
       "XBC              Scrypt       PoS     1.283270e+05         1000000\n",
       "\n",
       "[533 rows x 4 columns]"
      ]
     },
     "execution_count": 19,
     "metadata": {},
     "output_type": "execute_result"
    }
   ],
   "source": [
    "# Drop the 'CoinName' column since it's not going to be used on the clustering algorithm.\n",
    "crypto_df=crypto_df.drop([\"CoinName\"], axis=1)\n",
    "crypto_df"
   ]
  },
  {
   "cell_type": "code",
   "execution_count": 20,
   "id": "d267c3b6",
   "metadata": {},
   "outputs": [
    {
     "data": {
      "text/html": [
       "<div>\n",
       "<style scoped>\n",
       "    .dataframe tbody tr th:only-of-type {\n",
       "        vertical-align: middle;\n",
       "    }\n",
       "\n",
       "    .dataframe tbody tr th {\n",
       "        vertical-align: top;\n",
       "    }\n",
       "\n",
       "    .dataframe thead th {\n",
       "        text-align: right;\n",
       "    }\n",
       "</style>\n",
       "<table border=\"1\" class=\"dataframe\">\n",
       "  <thead>\n",
       "    <tr style=\"text-align: right;\">\n",
       "      <th></th>\n",
       "      <th>TotalCoinsMined</th>\n",
       "      <th>TotalCoinSupply</th>\n",
       "      <th>Algorithm_1GB AES Pattern Search</th>\n",
       "      <th>Algorithm_536</th>\n",
       "      <th>Algorithm_Argon2d</th>\n",
       "      <th>Algorithm_BLAKE256</th>\n",
       "      <th>Algorithm_Blake</th>\n",
       "      <th>Algorithm_Blake2S</th>\n",
       "      <th>Algorithm_Blake2b</th>\n",
       "      <th>Algorithm_C11</th>\n",
       "      <th>...</th>\n",
       "      <th>ProofType_PoW/PoS</th>\n",
       "      <th>ProofType_PoW/PoS</th>\n",
       "      <th>ProofType_PoW/PoW</th>\n",
       "      <th>ProofType_PoW/nPoS</th>\n",
       "      <th>ProofType_Pos</th>\n",
       "      <th>ProofType_Proof of Authority</th>\n",
       "      <th>ProofType_Proof of Trust</th>\n",
       "      <th>ProofType_TPoS</th>\n",
       "      <th>ProofType_Zero-Knowledge Proof</th>\n",
       "      <th>ProofType_dPoW/PoW</th>\n",
       "    </tr>\n",
       "    <tr>\n",
       "      <th>Unnamed: 0</th>\n",
       "      <th></th>\n",
       "      <th></th>\n",
       "      <th></th>\n",
       "      <th></th>\n",
       "      <th></th>\n",
       "      <th></th>\n",
       "      <th></th>\n",
       "      <th></th>\n",
       "      <th></th>\n",
       "      <th></th>\n",
       "      <th></th>\n",
       "      <th></th>\n",
       "      <th></th>\n",
       "      <th></th>\n",
       "      <th></th>\n",
       "      <th></th>\n",
       "      <th></th>\n",
       "      <th></th>\n",
       "      <th></th>\n",
       "      <th></th>\n",
       "      <th></th>\n",
       "    </tr>\n",
       "  </thead>\n",
       "  <tbody>\n",
       "    <tr>\n",
       "      <th>42</th>\n",
       "      <td>4.199995e+01</td>\n",
       "      <td>42</td>\n",
       "      <td>0</td>\n",
       "      <td>0</td>\n",
       "      <td>0</td>\n",
       "      <td>0</td>\n",
       "      <td>0</td>\n",
       "      <td>0</td>\n",
       "      <td>0</td>\n",
       "      <td>0</td>\n",
       "      <td>...</td>\n",
       "      <td>1</td>\n",
       "      <td>0</td>\n",
       "      <td>0</td>\n",
       "      <td>0</td>\n",
       "      <td>0</td>\n",
       "      <td>0</td>\n",
       "      <td>0</td>\n",
       "      <td>0</td>\n",
       "      <td>0</td>\n",
       "      <td>0</td>\n",
       "    </tr>\n",
       "    <tr>\n",
       "      <th>404</th>\n",
       "      <td>1.055185e+09</td>\n",
       "      <td>532000000</td>\n",
       "      <td>0</td>\n",
       "      <td>0</td>\n",
       "      <td>0</td>\n",
       "      <td>0</td>\n",
       "      <td>0</td>\n",
       "      <td>0</td>\n",
       "      <td>0</td>\n",
       "      <td>0</td>\n",
       "      <td>...</td>\n",
       "      <td>1</td>\n",
       "      <td>0</td>\n",
       "      <td>0</td>\n",
       "      <td>0</td>\n",
       "      <td>0</td>\n",
       "      <td>0</td>\n",
       "      <td>0</td>\n",
       "      <td>0</td>\n",
       "      <td>0</td>\n",
       "      <td>0</td>\n",
       "    </tr>\n",
       "    <tr>\n",
       "      <th>1337</th>\n",
       "      <td>2.927942e+10</td>\n",
       "      <td>314159265359</td>\n",
       "      <td>0</td>\n",
       "      <td>0</td>\n",
       "      <td>0</td>\n",
       "      <td>0</td>\n",
       "      <td>0</td>\n",
       "      <td>0</td>\n",
       "      <td>0</td>\n",
       "      <td>0</td>\n",
       "      <td>...</td>\n",
       "      <td>1</td>\n",
       "      <td>0</td>\n",
       "      <td>0</td>\n",
       "      <td>0</td>\n",
       "      <td>0</td>\n",
       "      <td>0</td>\n",
       "      <td>0</td>\n",
       "      <td>0</td>\n",
       "      <td>0</td>\n",
       "      <td>0</td>\n",
       "    </tr>\n",
       "    <tr>\n",
       "      <th>BTC</th>\n",
       "      <td>1.792718e+07</td>\n",
       "      <td>21000000</td>\n",
       "      <td>0</td>\n",
       "      <td>0</td>\n",
       "      <td>0</td>\n",
       "      <td>0</td>\n",
       "      <td>0</td>\n",
       "      <td>0</td>\n",
       "      <td>0</td>\n",
       "      <td>0</td>\n",
       "      <td>...</td>\n",
       "      <td>0</td>\n",
       "      <td>0</td>\n",
       "      <td>0</td>\n",
       "      <td>0</td>\n",
       "      <td>0</td>\n",
       "      <td>0</td>\n",
       "      <td>0</td>\n",
       "      <td>0</td>\n",
       "      <td>0</td>\n",
       "      <td>0</td>\n",
       "    </tr>\n",
       "    <tr>\n",
       "      <th>ETH</th>\n",
       "      <td>1.076842e+08</td>\n",
       "      <td>0</td>\n",
       "      <td>0</td>\n",
       "      <td>0</td>\n",
       "      <td>0</td>\n",
       "      <td>0</td>\n",
       "      <td>0</td>\n",
       "      <td>0</td>\n",
       "      <td>0</td>\n",
       "      <td>0</td>\n",
       "      <td>...</td>\n",
       "      <td>0</td>\n",
       "      <td>0</td>\n",
       "      <td>0</td>\n",
       "      <td>0</td>\n",
       "      <td>0</td>\n",
       "      <td>0</td>\n",
       "      <td>0</td>\n",
       "      <td>0</td>\n",
       "      <td>0</td>\n",
       "      <td>0</td>\n",
       "    </tr>\n",
       "    <tr>\n",
       "      <th>...</th>\n",
       "      <td>...</td>\n",
       "      <td>...</td>\n",
       "      <td>...</td>\n",
       "      <td>...</td>\n",
       "      <td>...</td>\n",
       "      <td>...</td>\n",
       "      <td>...</td>\n",
       "      <td>...</td>\n",
       "      <td>...</td>\n",
       "      <td>...</td>\n",
       "      <td>...</td>\n",
       "      <td>...</td>\n",
       "      <td>...</td>\n",
       "      <td>...</td>\n",
       "      <td>...</td>\n",
       "      <td>...</td>\n",
       "      <td>...</td>\n",
       "      <td>...</td>\n",
       "      <td>...</td>\n",
       "      <td>...</td>\n",
       "      <td>...</td>\n",
       "    </tr>\n",
       "    <tr>\n",
       "      <th>ZEPH</th>\n",
       "      <td>2.000000e+09</td>\n",
       "      <td>2000000000</td>\n",
       "      <td>0</td>\n",
       "      <td>0</td>\n",
       "      <td>0</td>\n",
       "      <td>0</td>\n",
       "      <td>0</td>\n",
       "      <td>0</td>\n",
       "      <td>0</td>\n",
       "      <td>0</td>\n",
       "      <td>...</td>\n",
       "      <td>0</td>\n",
       "      <td>0</td>\n",
       "      <td>0</td>\n",
       "      <td>0</td>\n",
       "      <td>0</td>\n",
       "      <td>0</td>\n",
       "      <td>0</td>\n",
       "      <td>0</td>\n",
       "      <td>0</td>\n",
       "      <td>0</td>\n",
       "    </tr>\n",
       "    <tr>\n",
       "      <th>GAP</th>\n",
       "      <td>1.493105e+07</td>\n",
       "      <td>250000000</td>\n",
       "      <td>0</td>\n",
       "      <td>0</td>\n",
       "      <td>0</td>\n",
       "      <td>0</td>\n",
       "      <td>0</td>\n",
       "      <td>0</td>\n",
       "      <td>0</td>\n",
       "      <td>0</td>\n",
       "      <td>...</td>\n",
       "      <td>1</td>\n",
       "      <td>0</td>\n",
       "      <td>0</td>\n",
       "      <td>0</td>\n",
       "      <td>0</td>\n",
       "      <td>0</td>\n",
       "      <td>0</td>\n",
       "      <td>0</td>\n",
       "      <td>0</td>\n",
       "      <td>0</td>\n",
       "    </tr>\n",
       "    <tr>\n",
       "      <th>BDX</th>\n",
       "      <td>9.802226e+08</td>\n",
       "      <td>1400222610</td>\n",
       "      <td>0</td>\n",
       "      <td>0</td>\n",
       "      <td>0</td>\n",
       "      <td>0</td>\n",
       "      <td>0</td>\n",
       "      <td>0</td>\n",
       "      <td>0</td>\n",
       "      <td>0</td>\n",
       "      <td>...</td>\n",
       "      <td>0</td>\n",
       "      <td>0</td>\n",
       "      <td>0</td>\n",
       "      <td>0</td>\n",
       "      <td>0</td>\n",
       "      <td>0</td>\n",
       "      <td>0</td>\n",
       "      <td>0</td>\n",
       "      <td>0</td>\n",
       "      <td>0</td>\n",
       "    </tr>\n",
       "    <tr>\n",
       "      <th>ZEN</th>\n",
       "      <td>7.296538e+06</td>\n",
       "      <td>21000000</td>\n",
       "      <td>0</td>\n",
       "      <td>0</td>\n",
       "      <td>0</td>\n",
       "      <td>0</td>\n",
       "      <td>0</td>\n",
       "      <td>0</td>\n",
       "      <td>0</td>\n",
       "      <td>0</td>\n",
       "      <td>...</td>\n",
       "      <td>0</td>\n",
       "      <td>0</td>\n",
       "      <td>0</td>\n",
       "      <td>0</td>\n",
       "      <td>0</td>\n",
       "      <td>0</td>\n",
       "      <td>0</td>\n",
       "      <td>0</td>\n",
       "      <td>0</td>\n",
       "      <td>0</td>\n",
       "    </tr>\n",
       "    <tr>\n",
       "      <th>XBC</th>\n",
       "      <td>1.283270e+05</td>\n",
       "      <td>1000000</td>\n",
       "      <td>0</td>\n",
       "      <td>0</td>\n",
       "      <td>0</td>\n",
       "      <td>0</td>\n",
       "      <td>0</td>\n",
       "      <td>0</td>\n",
       "      <td>0</td>\n",
       "      <td>0</td>\n",
       "      <td>...</td>\n",
       "      <td>0</td>\n",
       "      <td>0</td>\n",
       "      <td>0</td>\n",
       "      <td>0</td>\n",
       "      <td>0</td>\n",
       "      <td>0</td>\n",
       "      <td>0</td>\n",
       "      <td>0</td>\n",
       "      <td>0</td>\n",
       "      <td>0</td>\n",
       "    </tr>\n",
       "  </tbody>\n",
       "</table>\n",
       "<p>533 rows × 100 columns</p>\n",
       "</div>"
      ],
      "text/plain": [
       "            TotalCoinsMined TotalCoinSupply  Algorithm_1GB AES Pattern Search  \\\n",
       "Unnamed: 0                                                                      \n",
       "42             4.199995e+01              42                                 0   \n",
       "404            1.055185e+09       532000000                                 0   \n",
       "1337           2.927942e+10    314159265359                                 0   \n",
       "BTC            1.792718e+07        21000000                                 0   \n",
       "ETH            1.076842e+08               0                                 0   \n",
       "...                     ...             ...                               ...   \n",
       "ZEPH           2.000000e+09      2000000000                                 0   \n",
       "GAP            1.493105e+07       250000000                                 0   \n",
       "BDX            9.802226e+08      1400222610                                 0   \n",
       "ZEN            7.296538e+06        21000000                                 0   \n",
       "XBC            1.283270e+05         1000000                                 0   \n",
       "\n",
       "            Algorithm_536  Algorithm_Argon2d  Algorithm_BLAKE256  \\\n",
       "Unnamed: 0                                                         \n",
       "42                      0                  0                   0   \n",
       "404                     0                  0                   0   \n",
       "1337                    0                  0                   0   \n",
       "BTC                     0                  0                   0   \n",
       "ETH                     0                  0                   0   \n",
       "...                   ...                ...                 ...   \n",
       "ZEPH                    0                  0                   0   \n",
       "GAP                     0                  0                   0   \n",
       "BDX                     0                  0                   0   \n",
       "ZEN                     0                  0                   0   \n",
       "XBC                     0                  0                   0   \n",
       "\n",
       "            Algorithm_Blake  Algorithm_Blake2S  Algorithm_Blake2b  \\\n",
       "Unnamed: 0                                                          \n",
       "42                        0                  0                  0   \n",
       "404                       0                  0                  0   \n",
       "1337                      0                  0                  0   \n",
       "BTC                       0                  0                  0   \n",
       "ETH                       0                  0                  0   \n",
       "...                     ...                ...                ...   \n",
       "ZEPH                      0                  0                  0   \n",
       "GAP                       0                  0                  0   \n",
       "BDX                       0                  0                  0   \n",
       "ZEN                       0                  0                  0   \n",
       "XBC                       0                  0                  0   \n",
       "\n",
       "            Algorithm_C11  ...  ProofType_PoW/PoS  ProofType_PoW/PoS   \\\n",
       "Unnamed: 0                 ...                                          \n",
       "42                      0  ...                  1                   0   \n",
       "404                     0  ...                  1                   0   \n",
       "1337                    0  ...                  1                   0   \n",
       "BTC                     0  ...                  0                   0   \n",
       "ETH                     0  ...                  0                   0   \n",
       "...                   ...  ...                ...                 ...   \n",
       "ZEPH                    0  ...                  0                   0   \n",
       "GAP                     0  ...                  1                   0   \n",
       "BDX                     0  ...                  0                   0   \n",
       "ZEN                     0  ...                  0                   0   \n",
       "XBC                     0  ...                  0                   0   \n",
       "\n",
       "            ProofType_PoW/PoW  ProofType_PoW/nPoS  ProofType_Pos  \\\n",
       "Unnamed: 0                                                         \n",
       "42                          0                   0              0   \n",
       "404                         0                   0              0   \n",
       "1337                        0                   0              0   \n",
       "BTC                         0                   0              0   \n",
       "ETH                         0                   0              0   \n",
       "...                       ...                 ...            ...   \n",
       "ZEPH                        0                   0              0   \n",
       "GAP                         0                   0              0   \n",
       "BDX                         0                   0              0   \n",
       "ZEN                         0                   0              0   \n",
       "XBC                         0                   0              0   \n",
       "\n",
       "            ProofType_Proof of Authority  ProofType_Proof of Trust  \\\n",
       "Unnamed: 0                                                           \n",
       "42                                     0                         0   \n",
       "404                                    0                         0   \n",
       "1337                                   0                         0   \n",
       "BTC                                    0                         0   \n",
       "ETH                                    0                         0   \n",
       "...                                  ...                       ...   \n",
       "ZEPH                                   0                         0   \n",
       "GAP                                    0                         0   \n",
       "BDX                                    0                         0   \n",
       "ZEN                                    0                         0   \n",
       "XBC                                    0                         0   \n",
       "\n",
       "            ProofType_TPoS  ProofType_Zero-Knowledge Proof  ProofType_dPoW/PoW  \n",
       "Unnamed: 0                                                                      \n",
       "42                       0                               0                   0  \n",
       "404                      0                               0                   0  \n",
       "1337                     0                               0                   0  \n",
       "BTC                      0                               0                   0  \n",
       "ETH                      0                               0                   0  \n",
       "...                    ...                             ...                 ...  \n",
       "ZEPH                     0                               0                   0  \n",
       "GAP                      0                               0                   0  \n",
       "BDX                      0                               0                   0  \n",
       "ZEN                      0                               0                   0  \n",
       "XBC                      0                               0                   0  \n",
       "\n",
       "[533 rows x 100 columns]"
      ]
     },
     "execution_count": 20,
     "metadata": {},
     "output_type": "execute_result"
    }
   ],
   "source": [
    "# Use get_dummies() to create variables for text features.\n",
    "x=pd.get_dummies(crypto_df,columns=['Algorithm'])\n",
    "x=pd.get_dummies(x,columns=[\"ProofType\"])\n",
    "x"
   ]
  },
  {
   "cell_type": "code",
   "execution_count": 21,
   "id": "9c56b2aa",
   "metadata": {},
   "outputs": [
    {
     "data": {
      "text/plain": [
       "array([[-0.11674788, -0.15286468, -0.0433555 , ..., -0.0433555 ,\n",
       "        -0.0433555 , -0.0433555 ],\n",
       "       [-0.09358885, -0.14499604, -0.0433555 , ..., -0.0433555 ,\n",
       "        -0.0433555 , -0.0433555 ],\n",
       "       [ 0.52587231,  4.4937636 , -0.0433555 , ..., -0.0433555 ,\n",
       "        -0.0433555 , -0.0433555 ],\n",
       "       ...,\n",
       "       [-0.09523411, -0.13215444, -0.0433555 , ..., -0.0433555 ,\n",
       "        -0.0433555 , -0.0433555 ],\n",
       "       [-0.11658774, -0.15255408, -0.0433555 , ..., -0.0433555 ,\n",
       "        -0.0433555 , -0.0433555 ],\n",
       "       [-0.11674507, -0.15284989, -0.0433555 , ..., -0.0433555 ,\n",
       "        -0.0433555 , -0.0433555 ]])"
      ]
     },
     "execution_count": 21,
     "metadata": {},
     "output_type": "execute_result"
    }
   ],
   "source": [
    "# Standardize the data with StandardScaler().\n",
    "x_scaled=StandardScaler().fit_transform(x)\n",
    "x_scaled"
   ]
  },
  {
   "cell_type": "markdown",
   "id": "a74df7b2",
   "metadata": {},
   "source": [
    "## Deliverable 2: Reducing Data Dimensions Using PCA\n"
   ]
  },
  {
   "cell_type": "code",
   "execution_count": 22,
   "id": "7c8a0353",
   "metadata": {},
   "outputs": [
    {
     "data": {
      "text/plain": [
       "array([[-0.33197674,  1.03324649, -0.68222215],\n",
       "       [-0.31533441,  1.03348077, -0.68284911],\n",
       "       [ 2.30351813,  1.55331727, -0.69294845],\n",
       "       ...,\n",
       "       [ 0.32154129, -2.29814636,  0.48594913],\n",
       "       [-0.14280059, -2.14003847,  0.6319874 ],\n",
       "       [-0.29111546,  0.85620456, -0.3460362 ]])"
      ]
     },
     "execution_count": 22,
     "metadata": {},
     "output_type": "execute_result"
    }
   ],
   "source": [
    "# Using PCA to reduce dimension to three principal components.\n",
    "pca = PCA(n_components=3)\n",
    "x_pca = pca.fit_transform(x_scaled)\n",
    "x_pca"
   ]
  },
  {
   "cell_type": "code",
   "execution_count": 23,
   "id": "bb6fbe28",
   "metadata": {},
   "outputs": [
    {
     "data": {
      "text/html": [
       "<div>\n",
       "<style scoped>\n",
       "    .dataframe tbody tr th:only-of-type {\n",
       "        vertical-align: middle;\n",
       "    }\n",
       "\n",
       "    .dataframe tbody tr th {\n",
       "        vertical-align: top;\n",
       "    }\n",
       "\n",
       "    .dataframe thead th {\n",
       "        text-align: right;\n",
       "    }\n",
       "</style>\n",
       "<table border=\"1\" class=\"dataframe\">\n",
       "  <thead>\n",
       "    <tr style=\"text-align: right;\">\n",
       "      <th></th>\n",
       "      <th>pc 1</th>\n",
       "      <th>pc 2</th>\n",
       "      <th>pc 3</th>\n",
       "    </tr>\n",
       "    <tr>\n",
       "      <th>Unnamed: 0</th>\n",
       "      <th></th>\n",
       "      <th></th>\n",
       "      <th></th>\n",
       "    </tr>\n",
       "  </thead>\n",
       "  <tbody>\n",
       "    <tr>\n",
       "      <th>42</th>\n",
       "      <td>-0.331977</td>\n",
       "      <td>1.033246</td>\n",
       "      <td>-0.682222</td>\n",
       "    </tr>\n",
       "    <tr>\n",
       "      <th>404</th>\n",
       "      <td>-0.315334</td>\n",
       "      <td>1.033481</td>\n",
       "      <td>-0.682849</td>\n",
       "    </tr>\n",
       "    <tr>\n",
       "      <th>1337</th>\n",
       "      <td>2.303518</td>\n",
       "      <td>1.553317</td>\n",
       "      <td>-0.692948</td>\n",
       "    </tr>\n",
       "    <tr>\n",
       "      <th>BTC</th>\n",
       "      <td>-0.146473</td>\n",
       "      <td>-1.360427</td>\n",
       "      <td>0.288129</td>\n",
       "    </tr>\n",
       "    <tr>\n",
       "      <th>ETH</th>\n",
       "      <td>-0.153370</td>\n",
       "      <td>-2.019555</td>\n",
       "      <td>0.434756</td>\n",
       "    </tr>\n",
       "    <tr>\n",
       "      <th>LTC</th>\n",
       "      <td>-0.163817</td>\n",
       "      <td>-1.063846</td>\n",
       "      <td>-0.055354</td>\n",
       "    </tr>\n",
       "    <tr>\n",
       "      <th>DASH</th>\n",
       "      <td>-0.394066</td>\n",
       "      <td>1.128827</td>\n",
       "      <td>-0.517736</td>\n",
       "    </tr>\n",
       "    <tr>\n",
       "      <th>XMR</th>\n",
       "      <td>-0.151691</td>\n",
       "      <td>-2.194363</td>\n",
       "      <td>0.486918</td>\n",
       "    </tr>\n",
       "    <tr>\n",
       "      <th>ETC</th>\n",
       "      <td>-0.151815</td>\n",
       "      <td>-2.019642</td>\n",
       "      <td>0.434719</td>\n",
       "    </tr>\n",
       "    <tr>\n",
       "      <th>ZEC</th>\n",
       "      <td>-0.142800</td>\n",
       "      <td>-2.140038</td>\n",
       "      <td>0.631987</td>\n",
       "    </tr>\n",
       "  </tbody>\n",
       "</table>\n",
       "</div>"
      ],
      "text/plain": [
       "                pc 1      pc 2      pc 3\n",
       "Unnamed: 0                              \n",
       "42         -0.331977  1.033246 -0.682222\n",
       "404        -0.315334  1.033481 -0.682849\n",
       "1337        2.303518  1.553317 -0.692948\n",
       "BTC        -0.146473 -1.360427  0.288129\n",
       "ETH        -0.153370 -2.019555  0.434756\n",
       "LTC        -0.163817 -1.063846 -0.055354\n",
       "DASH       -0.394066  1.128827 -0.517736\n",
       "XMR        -0.151691 -2.194363  0.486918\n",
       "ETC        -0.151815 -2.019642  0.434719\n",
       "ZEC        -0.142800 -2.140038  0.631987"
      ]
     },
     "execution_count": 23,
     "metadata": {},
     "output_type": "execute_result"
    }
   ],
   "source": [
    "# Create a DataFrame with the three principal components.\n",
    "pcs_df=pd.DataFrame(data=x_pca,columns=['pc 1','pc 2','pc 3'],index=x.index)\n",
    "pcs_df.head(10)"
   ]
  },
  {
   "cell_type": "markdown",
   "id": "3dabe3eb",
   "metadata": {},
   "source": [
    "## Deliverable 3: Clustering Cryptocurrencies Using K-means\n",
    "### Finding the Best Value for `k` Using the Elbow Curve"
   ]
  },
  {
   "cell_type": "code",
   "execution_count": 24,
   "id": "7273de45",
   "metadata": {},
   "outputs": [
    {
     "data": {},
     "metadata": {},
     "output_type": "display_data"
    },
    {
     "data": {
      "application/vnd.holoviews_exec.v0+json": "",
      "text/html": [
       "<div id='1002'>\n",
       "\n",
       "\n",
       "\n",
       "\n",
       "\n",
       "  <div class=\"bk-root\" id=\"09d2a40f-daa5-4928-8485-b83ce25369fe\" data-root-id=\"1002\"></div>\n",
       "</div>\n",
       "<script type=\"application/javascript\">(function(root) {\n",
       "  function embed_document(root) {\n",
       "    var docs_json = {\"96faa215-e6c2-4ebc-94c7-e40a16e4cbfb\":{\"defs\":[{\"extends\":null,\"module\":null,\"name\":\"ReactiveHTML1\",\"overrides\":[],\"properties\":[]},{\"extends\":null,\"module\":null,\"name\":\"FlexBox1\",\"overrides\":[],\"properties\":[{\"default\":\"flex-start\",\"kind\":null,\"name\":\"align_content\"},{\"default\":\"flex-start\",\"kind\":null,\"name\":\"align_items\"},{\"default\":\"row\",\"kind\":null,\"name\":\"flex_direction\"},{\"default\":\"wrap\",\"kind\":null,\"name\":\"flex_wrap\"},{\"default\":\"flex-start\",\"kind\":null,\"name\":\"justify_content\"}]},{\"extends\":null,\"module\":null,\"name\":\"GridStack1\",\"overrides\":[],\"properties\":[{\"default\":\"warn\",\"kind\":null,\"name\":\"mode\"},{\"default\":null,\"kind\":null,\"name\":\"ncols\"},{\"default\":null,\"kind\":null,\"name\":\"nrows\"},{\"default\":true,\"kind\":null,\"name\":\"allow_resize\"},{\"default\":true,\"kind\":null,\"name\":\"allow_drag\"},{\"default\":[],\"kind\":null,\"name\":\"state\"}]},{\"extends\":null,\"module\":null,\"name\":\"click1\",\"overrides\":[],\"properties\":[{\"default\":\"\",\"kind\":null,\"name\":\"terminal_output\"},{\"default\":\"\",\"kind\":null,\"name\":\"debug_name\"},{\"default\":0,\"kind\":null,\"name\":\"clears\"}]},{\"extends\":null,\"module\":null,\"name\":\"NotificationAreaBase1\",\"overrides\":[],\"properties\":[{\"default\":\"bottom-right\",\"kind\":null,\"name\":\"position\"},{\"default\":0,\"kind\":null,\"name\":\"_clear\"}]},{\"extends\":null,\"module\":null,\"name\":\"NotificationArea1\",\"overrides\":[],\"properties\":[{\"default\":[],\"kind\":null,\"name\":\"notifications\"},{\"default\":\"bottom-right\",\"kind\":null,\"name\":\"position\"},{\"default\":0,\"kind\":null,\"name\":\"_clear\"},{\"default\":[{\"background\":\"#ffc107\",\"icon\":{\"className\":\"fas fa-exclamation-triangle\",\"color\":\"white\",\"tagName\":\"i\"},\"type\":\"warning\"},{\"background\":\"#007bff\",\"icon\":{\"className\":\"fas fa-info-circle\",\"color\":\"white\",\"tagName\":\"i\"},\"type\":\"info\"}],\"kind\":null,\"name\":\"types\"}]},{\"extends\":null,\"module\":null,\"name\":\"Notification\",\"overrides\":[],\"properties\":[{\"default\":null,\"kind\":null,\"name\":\"background\"},{\"default\":3000,\"kind\":null,\"name\":\"duration\"},{\"default\":null,\"kind\":null,\"name\":\"icon\"},{\"default\":\"\",\"kind\":null,\"name\":\"message\"},{\"default\":null,\"kind\":null,\"name\":\"notification_type\"},{\"default\":false,\"kind\":null,\"name\":\"_destroyed\"}]},{\"extends\":null,\"module\":null,\"name\":\"TemplateActions1\",\"overrides\":[],\"properties\":[{\"default\":0,\"kind\":null,\"name\":\"open_modal\"},{\"default\":0,\"kind\":null,\"name\":\"close_modal\"}]},{\"extends\":null,\"module\":null,\"name\":\"MaterialTemplateActions1\",\"overrides\":[],\"properties\":[{\"default\":0,\"kind\":null,\"name\":\"open_modal\"},{\"default\":0,\"kind\":null,\"name\":\"close_modal\"}]}],\"roots\":{\"references\":[{\"attributes\":{\"axis\":{\"id\":\"1020\"},\"coordinates\":null,\"dimension\":1,\"grid_line_color\":null,\"group\":null,\"ticker\":null},\"id\":\"1023\",\"type\":\"Grid\"},{\"attributes\":{},\"id\":\"1025\",\"type\":\"PanTool\"},{\"attributes\":{\"axis_label\":\"inertia\",\"coordinates\":null,\"formatter\":{\"id\":\"1053\"},\"group\":null,\"major_label_policy\":{\"id\":\"1054\"},\"ticker\":{\"id\":\"1021\"}},\"id\":\"1020\",\"type\":\"LinearAxis\"},{\"attributes\":{},\"id\":\"1048\",\"type\":\"BasicTickFormatter\"},{\"attributes\":{},\"id\":\"1021\",\"type\":\"BasicTicker\"},{\"attributes\":{\"children\":[{\"id\":\"1003\"},{\"id\":\"1007\"},{\"id\":\"1064\"}],\"margin\":[0,0,0,0],\"name\":\"Row01683\",\"tags\":[\"embedded\"]},\"id\":\"1002\",\"type\":\"Row\"},{\"attributes\":{},\"id\":\"1026\",\"type\":\"WheelZoomTool\"},{\"attributes\":{\"line_color\":\"#30a2da\",\"line_width\":2,\"x\":{\"field\":\"k\"},\"y\":{\"field\":\"inertia\"}},\"id\":\"1045\",\"type\":\"Line\"},{\"attributes\":{\"data\":{\"inertia\":{\"__ndarray__\":\"2pWzYOp7rEAgLlEDJ2CjQNU630+kYpdA/DwiMlZfgUCd9+zBdgt2QHits7PbwXFAXAn0hd3ebUCGdFl/n89oQM8VywRhi2RAimGAse9UYUA=\",\"dtype\":\"float64\",\"order\":\"little\",\"shape\":[10]},\"k\":[1,2,3,4,5,6,7,8,9,10]},\"selected\":{\"id\":\"1038\"},\"selection_policy\":{\"id\":\"1061\"}},\"id\":\"1037\",\"type\":\"ColumnDataSource\"},{\"attributes\":{},\"id\":\"1024\",\"type\":\"SaveTool\"},{\"attributes\":{\"overlay\":{\"id\":\"1029\"}},\"id\":\"1027\",\"type\":\"BoxZoomTool\"},{\"attributes\":{},\"id\":\"1028\",\"type\":\"ResetTool\"},{\"attributes\":{\"axis_label\":\"k\",\"coordinates\":null,\"formatter\":{\"id\":\"1048\"},\"group\":null,\"major_label_policy\":{\"id\":\"1049\"},\"ticker\":{\"id\":\"1046\"}},\"id\":\"1016\",\"type\":\"LinearAxis\"},{\"attributes\":{\"bottom_units\":\"screen\",\"coordinates\":null,\"fill_alpha\":0.5,\"fill_color\":\"lightgrey\",\"group\":null,\"left_units\":\"screen\",\"level\":\"overlay\",\"line_alpha\":1.0,\"line_color\":\"black\",\"line_dash\":[4,4],\"line_width\":2,\"right_units\":\"screen\",\"syncable\":false,\"top_units\":\"screen\"},\"id\":\"1029\",\"type\":\"BoxAnnotation\"},{\"attributes\":{\"callback\":null,\"renderers\":[{\"id\":\"1043\"}],\"tags\":[\"hv_created\"],\"tooltips\":[[\"k\",\"@{k}\"],[\"inertia\",\"@{inertia}\"]]},\"id\":\"1006\",\"type\":\"HoverTool\"},{\"attributes\":{\"end\":10.0,\"reset_end\":10.0,\"reset_start\":1.0,\"start\":1.0,\"tags\":[[[\"k\",\"k\",null]]]},\"id\":\"1004\",\"type\":\"Range1d\"},{\"attributes\":{},\"id\":\"1049\",\"type\":\"AllLabels\"},{\"attributes\":{\"tools\":[{\"id\":\"1006\"},{\"id\":\"1024\"},{\"id\":\"1025\"},{\"id\":\"1026\"},{\"id\":\"1027\"},{\"id\":\"1028\"}]},\"id\":\"1030\",\"type\":\"Toolbar\"},{\"attributes\":{\"ticks\":[1,2,3,4,5,6,7,8,9,10]},\"id\":\"1046\",\"type\":\"FixedTicker\"},{\"attributes\":{\"axis\":{\"id\":\"1016\"},\"coordinates\":null,\"grid_line_color\":null,\"group\":null,\"ticker\":null},\"id\":\"1019\",\"type\":\"Grid\"},{\"attributes\":{\"line_alpha\":0.1,\"line_color\":\"#30a2da\",\"line_width\":2,\"x\":{\"field\":\"k\"},\"y\":{\"field\":\"inertia\"}},\"id\":\"1041\",\"type\":\"Line\"},{\"attributes\":{\"line_alpha\":0.2,\"line_color\":\"#30a2da\",\"line_width\":2,\"x\":{\"field\":\"k\"},\"y\":{\"field\":\"inertia\"}},\"id\":\"1042\",\"type\":\"Line\"},{\"attributes\":{\"source\":{\"id\":\"1037\"}},\"id\":\"1044\",\"type\":\"CDSView\"},{\"attributes\":{\"end\":3996.68811998193,\"reset_end\":3996.68811998193,\"reset_start\":-212.07609151400152,\"start\":-212.07609151400152,\"tags\":[[[\"inertia\",\"inertia\",null]]]},\"id\":\"1005\",\"type\":\"Range1d\"},{\"attributes\":{\"coordinates\":null,\"data_source\":{\"id\":\"1037\"},\"glyph\":{\"id\":\"1040\"},\"group\":null,\"hover_glyph\":null,\"muted_glyph\":{\"id\":\"1042\"},\"nonselection_glyph\":{\"id\":\"1041\"},\"selection_glyph\":{\"id\":\"1045\"},\"view\":{\"id\":\"1044\"}},\"id\":\"1043\",\"type\":\"GlyphRenderer\"},{\"attributes\":{},\"id\":\"1061\",\"type\":\"UnionRenderers\"},{\"attributes\":{\"line_color\":\"#30a2da\",\"line_width\":2,\"x\":{\"field\":\"k\"},\"y\":{\"field\":\"inertia\"}},\"id\":\"1040\",\"type\":\"Line\"},{\"attributes\":{},\"id\":\"1012\",\"type\":\"LinearScale\"},{\"attributes\":{},\"id\":\"1054\",\"type\":\"AllLabels\"},{\"attributes\":{\"below\":[{\"id\":\"1016\"}],\"center\":[{\"id\":\"1019\"},{\"id\":\"1023\"}],\"height\":300,\"left\":[{\"id\":\"1020\"}],\"margin\":[5,5,5,5],\"min_border_bottom\":10,\"min_border_left\":10,\"min_border_right\":10,\"min_border_top\":10,\"renderers\":[{\"id\":\"1043\"}],\"sizing_mode\":\"fixed\",\"title\":{\"id\":\"1008\"},\"toolbar\":{\"id\":\"1030\"},\"width\":700,\"x_range\":{\"id\":\"1004\"},\"x_scale\":{\"id\":\"1012\"},\"y_range\":{\"id\":\"1005\"},\"y_scale\":{\"id\":\"1014\"}},\"id\":\"1007\",\"subtype\":\"Figure\",\"type\":\"Plot\"},{\"attributes\":{\"margin\":[5,5,5,5],\"name\":\"HSpacer01687\",\"sizing_mode\":\"stretch_width\"},\"id\":\"1003\",\"type\":\"Spacer\"},{\"attributes\":{\"margin\":[5,5,5,5],\"name\":\"HSpacer01688\",\"sizing_mode\":\"stretch_width\"},\"id\":\"1064\",\"type\":\"Spacer\"},{\"attributes\":{},\"id\":\"1038\",\"type\":\"Selection\"},{\"attributes\":{},\"id\":\"1014\",\"type\":\"LinearScale\"},{\"attributes\":{\"coordinates\":null,\"group\":null,\"text\":\"Elbow Curve\",\"text_color\":\"black\",\"text_font_size\":\"12pt\"},\"id\":\"1008\",\"type\":\"Title\"},{\"attributes\":{},\"id\":\"1053\",\"type\":\"BasicTickFormatter\"}],\"root_ids\":[\"1002\"]},\"title\":\"Bokeh Application\",\"version\":\"2.4.1\"}};\n",
       "    var render_items = [{\"docid\":\"96faa215-e6c2-4ebc-94c7-e40a16e4cbfb\",\"root_ids\":[\"1002\"],\"roots\":{\"1002\":\"09d2a40f-daa5-4928-8485-b83ce25369fe\"}}];\n",
       "    root.Bokeh.embed.embed_items_notebook(docs_json, render_items);\n",
       "  }\n",
       "  if (root.Bokeh !== undefined && root.Bokeh.Panel !== undefined) {\n",
       "    embed_document(root);\n",
       "  } else {\n",
       "    var attempts = 0;\n",
       "    var timer = setInterval(function(root) {\n",
       "      if (root.Bokeh !== undefined && root.Bokeh.Panel !== undefined) {\n",
       "        clearInterval(timer);\n",
       "        embed_document(root);\n",
       "      } else if (document.readyState == \"complete\") {\n",
       "        attempts++;\n",
       "        if (attempts > 200) {\n",
       "          clearInterval(timer);\n",
       "          console.log(\"Bokeh: ERROR: Unable to run BokehJS code because BokehJS library is missing\");\n",
       "        }\n",
       "      }\n",
       "    }, 25, root)\n",
       "  }\n",
       "})(window);</script>"
      ],
      "text/plain": [
       ":Curve   [k]   (inertia)"
      ]
     },
     "execution_count": 24,
     "metadata": {
      "application/vnd.holoviews_exec.v0+json": {
       "id": "1002"
      }
     },
     "output_type": "execute_result"
    }
   ],
   "source": [
    "# Create an elbow curve to find the best value for K.\n",
    "inertia = []\n",
    "k = list(range(1, 11))\n",
    "# Looking for the best K\n",
    "for i in k:\n",
    "    km = KMeans(n_clusters=i, random_state=0)\n",
    "    km.fit(pcs_df)\n",
    "    inertia.append(km.inertia_)\n",
    "    \n",
    "# Define a DataFrame to plot the Elbow Curve using hvPlot\n",
    "elbow_data = {\"k\": k, \"inertia\": inertia}\n",
    "df_elbow = pd.DataFrame(elbow_data)\n",
    "df_elbow.hvplot.line(x=\"k\", y=\"inertia\", title=\"Elbow Curve\", xticks=k)\n"
   ]
  },
  {
   "cell_type": "markdown",
   "id": "3fffdbce",
   "metadata": {},
   "source": [
    "### Running K-Means with `k=4`"
   ]
  },
  {
   "cell_type": "code",
   "execution_count": 25,
   "id": "fa0678c8",
   "metadata": {},
   "outputs": [],
   "source": [
    "# Initialize the K-Means model.\n",
    "model = KMeans(n_clusters=4, random_state=0)\n",
    "\n",
    "# Fit the model\n",
    "model.fit(pcs_df)\n",
    "\n",
    "# Predict clusters\n",
    "predictions = model.predict(pcs_df)"
   ]
  },
  {
   "cell_type": "code",
   "execution_count": 32,
   "id": "3192023d",
   "metadata": {},
   "outputs": [
    {
     "name": "stdout",
     "output_type": "stream",
     "text": [
      "(533, 9)\n"
     ]
    },
    {
     "data": {
      "text/html": [
       "<div>\n",
       "<style scoped>\n",
       "    .dataframe tbody tr th:only-of-type {\n",
       "        vertical-align: middle;\n",
       "    }\n",
       "\n",
       "    .dataframe tbody tr th {\n",
       "        vertical-align: top;\n",
       "    }\n",
       "\n",
       "    .dataframe thead th {\n",
       "        text-align: right;\n",
       "    }\n",
       "</style>\n",
       "<table border=\"1\" class=\"dataframe\">\n",
       "  <thead>\n",
       "    <tr style=\"text-align: right;\">\n",
       "      <th></th>\n",
       "      <th>Algorithm</th>\n",
       "      <th>ProofType</th>\n",
       "      <th>TotalCoinsMined</th>\n",
       "      <th>TotalCoinSupply</th>\n",
       "      <th>pc 1</th>\n",
       "      <th>pc 2</th>\n",
       "      <th>pc 3</th>\n",
       "      <th>CoinName</th>\n",
       "      <th>class</th>\n",
       "    </tr>\n",
       "    <tr>\n",
       "      <th>Unnamed: 0</th>\n",
       "      <th></th>\n",
       "      <th></th>\n",
       "      <th></th>\n",
       "      <th></th>\n",
       "      <th></th>\n",
       "      <th></th>\n",
       "      <th></th>\n",
       "      <th></th>\n",
       "      <th></th>\n",
       "    </tr>\n",
       "  </thead>\n",
       "  <tbody>\n",
       "    <tr>\n",
       "      <th>42</th>\n",
       "      <td>Scrypt</td>\n",
       "      <td>PoW/PoS</td>\n",
       "      <td>4.199995e+01</td>\n",
       "      <td>42</td>\n",
       "      <td>-0.331977</td>\n",
       "      <td>1.033246</td>\n",
       "      <td>-0.682222</td>\n",
       "      <td>42 Coin</td>\n",
       "      <td>0</td>\n",
       "    </tr>\n",
       "    <tr>\n",
       "      <th>404</th>\n",
       "      <td>Scrypt</td>\n",
       "      <td>PoW/PoS</td>\n",
       "      <td>1.055185e+09</td>\n",
       "      <td>532000000</td>\n",
       "      <td>-0.315334</td>\n",
       "      <td>1.033481</td>\n",
       "      <td>-0.682849</td>\n",
       "      <td>404Coin</td>\n",
       "      <td>0</td>\n",
       "    </tr>\n",
       "    <tr>\n",
       "      <th>1337</th>\n",
       "      <td>X13</td>\n",
       "      <td>PoW/PoS</td>\n",
       "      <td>2.927942e+10</td>\n",
       "      <td>314159265359</td>\n",
       "      <td>2.303518</td>\n",
       "      <td>1.553317</td>\n",
       "      <td>-0.692948</td>\n",
       "      <td>EliteCoin</td>\n",
       "      <td>0</td>\n",
       "    </tr>\n",
       "    <tr>\n",
       "      <th>BTC</th>\n",
       "      <td>SHA-256</td>\n",
       "      <td>PoW</td>\n",
       "      <td>1.792718e+07</td>\n",
       "      <td>21000000</td>\n",
       "      <td>-0.146473</td>\n",
       "      <td>-1.360427</td>\n",
       "      <td>0.288129</td>\n",
       "      <td>Bitcoin</td>\n",
       "      <td>1</td>\n",
       "    </tr>\n",
       "    <tr>\n",
       "      <th>ETH</th>\n",
       "      <td>Ethash</td>\n",
       "      <td>PoW</td>\n",
       "      <td>1.076842e+08</td>\n",
       "      <td>0</td>\n",
       "      <td>-0.153370</td>\n",
       "      <td>-2.019555</td>\n",
       "      <td>0.434756</td>\n",
       "      <td>Ethereum</td>\n",
       "      <td>1</td>\n",
       "    </tr>\n",
       "    <tr>\n",
       "      <th>LTC</th>\n",
       "      <td>Scrypt</td>\n",
       "      <td>PoW</td>\n",
       "      <td>6.303924e+07</td>\n",
       "      <td>84000000</td>\n",
       "      <td>-0.163817</td>\n",
       "      <td>-1.063846</td>\n",
       "      <td>-0.055354</td>\n",
       "      <td>Litecoin</td>\n",
       "      <td>1</td>\n",
       "    </tr>\n",
       "    <tr>\n",
       "      <th>DASH</th>\n",
       "      <td>X11</td>\n",
       "      <td>PoW/PoS</td>\n",
       "      <td>9.031294e+06</td>\n",
       "      <td>22000000</td>\n",
       "      <td>-0.394066</td>\n",
       "      <td>1.128827</td>\n",
       "      <td>-0.517736</td>\n",
       "      <td>Dash</td>\n",
       "      <td>0</td>\n",
       "    </tr>\n",
       "    <tr>\n",
       "      <th>XMR</th>\n",
       "      <td>CryptoNight-V7</td>\n",
       "      <td>PoW</td>\n",
       "      <td>1.720114e+07</td>\n",
       "      <td>0</td>\n",
       "      <td>-0.151691</td>\n",
       "      <td>-2.194363</td>\n",
       "      <td>0.486918</td>\n",
       "      <td>Monero</td>\n",
       "      <td>1</td>\n",
       "    </tr>\n",
       "    <tr>\n",
       "      <th>ETC</th>\n",
       "      <td>Ethash</td>\n",
       "      <td>PoW</td>\n",
       "      <td>1.133597e+08</td>\n",
       "      <td>210000000</td>\n",
       "      <td>-0.151815</td>\n",
       "      <td>-2.019642</td>\n",
       "      <td>0.434719</td>\n",
       "      <td>Ethereum Classic</td>\n",
       "      <td>1</td>\n",
       "    </tr>\n",
       "    <tr>\n",
       "      <th>ZEC</th>\n",
       "      <td>Equihash</td>\n",
       "      <td>PoW</td>\n",
       "      <td>7.383056e+06</td>\n",
       "      <td>21000000</td>\n",
       "      <td>-0.142800</td>\n",
       "      <td>-2.140038</td>\n",
       "      <td>0.631987</td>\n",
       "      <td>ZCash</td>\n",
       "      <td>1</td>\n",
       "    </tr>\n",
       "  </tbody>\n",
       "</table>\n",
       "</div>"
      ],
      "text/plain": [
       "                 Algorithm ProofType  TotalCoinsMined TotalCoinSupply  \\\n",
       "Unnamed: 0                                                              \n",
       "42                  Scrypt   PoW/PoS     4.199995e+01              42   \n",
       "404                 Scrypt   PoW/PoS     1.055185e+09       532000000   \n",
       "1337                   X13   PoW/PoS     2.927942e+10    314159265359   \n",
       "BTC                SHA-256       PoW     1.792718e+07        21000000   \n",
       "ETH                 Ethash       PoW     1.076842e+08               0   \n",
       "LTC                 Scrypt       PoW     6.303924e+07        84000000   \n",
       "DASH                   X11   PoW/PoS     9.031294e+06        22000000   \n",
       "XMR         CryptoNight-V7       PoW     1.720114e+07               0   \n",
       "ETC                 Ethash       PoW     1.133597e+08       210000000   \n",
       "ZEC               Equihash       PoW     7.383056e+06        21000000   \n",
       "\n",
       "                pc 1      pc 2      pc 3          CoinName  class  \n",
       "Unnamed: 0                                                         \n",
       "42         -0.331977  1.033246 -0.682222           42 Coin      0  \n",
       "404        -0.315334  1.033481 -0.682849           404Coin      0  \n",
       "1337        2.303518  1.553317 -0.692948         EliteCoin      0  \n",
       "BTC        -0.146473 -1.360427  0.288129           Bitcoin      1  \n",
       "ETH        -0.153370 -2.019555  0.434756          Ethereum      1  \n",
       "LTC        -0.163817 -1.063846 -0.055354          Litecoin      1  \n",
       "DASH       -0.394066  1.128827 -0.517736              Dash      0  \n",
       "XMR        -0.151691 -2.194363  0.486918            Monero      1  \n",
       "ETC        -0.151815 -2.019642  0.434719  Ethereum Classic      1  \n",
       "ZEC        -0.142800 -2.140038  0.631987             ZCash      1  "
      ]
     },
     "execution_count": 32,
     "metadata": {},
     "output_type": "execute_result"
    }
   ],
   "source": [
    "# Create a new DataFrame including predicted clusters and cryptocurrencies features.\n",
    "# Concatentate the crypto_df and pcs_df DataFrames on the same columns.\n",
    "clustered_df=pd.concat([crypto_df,pcs_df], axis=1)\n",
    "#  Add a new column, \"CoinName\" to the clustered_df DataFrame that holds the names of the cryptocurrencies. \n",
    "clustered_df[\"CoinName\"]=names_df[\"CoinName\"]\n",
    "\n",
    "#  Add a new column, \"Class\" to the clustered_df DataFrame that holds the predictions.\n",
    "clustered_df[\"class\"]= model.labels_\n",
    "\n",
    "# Print the shape of the clustered_df\n",
    "print(clustered_df.shape)\n",
    "clustered_df.head(10)"
   ]
  },
  {
   "cell_type": "markdown",
   "id": "39ec0884",
   "metadata": {},
   "source": [
    "## Deliverable 4: Visualizing Cryptocurrencies Results\n",
    "### 3D-Scatter with Clusters"
   ]
  },
  {
   "cell_type": "code",
   "execution_count": 35,
   "id": "3f20fd66",
   "metadata": {
    "scrolled": true
   },
   "outputs": [
    {
     "data": {
      "application/vnd.plotly.v1+json": {
       "config": {
        "plotlyServerURL": "https://plot.ly"
       },
       "data": [
        {
         "customdata": [
          [
           "Scrypt"
          ],
          [
           "Scrypt"
          ],
          [
           "X13"
          ],
          [
           "X11"
          ],
          [
           "SHA-512"
          ],
          [
           "SHA-256"
          ],
          [
           "SHA-256"
          ],
          [
           "X15"
          ],
          [
           "Scrypt"
          ],
          [
           "Scrypt"
          ],
          [
           "Scrypt"
          ],
          [
           "Scrypt"
          ],
          [
           "Scrypt"
          ],
          [
           "Scrypt"
          ],
          [
           "Groestl"
          ],
          [
           "PoS"
          ],
          [
           "Scrypt"
          ],
          [
           "Scrypt"
          ],
          [
           "X11"
          ],
          [
           "X11"
          ],
          [
           "SHA3"
          ],
          [
           "Scrypt"
          ],
          [
           "SHA-256"
          ],
          [
           "Scrypt"
          ],
          [
           "X13"
          ],
          [
           "X13"
          ],
          [
           "NeoScrypt"
          ],
          [
           "Scrypt"
          ],
          [
           "Scrypt"
          ],
          [
           "Scrypt"
          ],
          [
           "X11"
          ],
          [
           "X11"
          ],
          [
           "Multiple"
          ],
          [
           "PHI1612"
          ],
          [
           "X11"
          ],
          [
           "Scrypt"
          ],
          [
           "Scrypt"
          ],
          [
           "Scrypt"
          ],
          [
           "X11"
          ],
          [
           "Multiple"
          ],
          [
           "X13"
          ],
          [
           "Scrypt"
          ],
          [
           "Shabal256"
          ],
          [
           "Counterparty"
          ],
          [
           "SHA-256"
          ],
          [
           "Groestl"
          ],
          [
           "Scrypt"
          ],
          [
           "X13"
          ],
          [
           "Scrypt"
          ],
          [
           "Scrypt"
          ],
          [
           "X13"
          ],
          [
           "X11"
          ],
          [
           "Scrypt"
          ],
          [
           "X11"
          ],
          [
           "SHA3"
          ],
          [
           "QUAIT"
          ],
          [
           "X11"
          ],
          [
           "Scrypt"
          ],
          [
           "X13"
          ],
          [
           "SHA-256"
          ],
          [
           "X15"
          ],
          [
           "BLAKE256"
          ],
          [
           "SHA-256"
          ],
          [
           "X11"
          ],
          [
           "SHA-256"
          ],
          [
           "NIST5"
          ],
          [
           "Scrypt"
          ],
          [
           "Scrypt"
          ],
          [
           "X11"
          ],
          [
           "Scrypt"
          ],
          [
           "SHA-256"
          ],
          [
           "Scrypt"
          ],
          [
           "PoS"
          ],
          [
           "X11"
          ],
          [
           "SHA-256"
          ],
          [
           "SHA-256"
          ],
          [
           "NIST5"
          ],
          [
           "X11"
          ],
          [
           "POS 3.0"
          ],
          [
           "Scrypt"
          ],
          [
           "Scrypt"
          ],
          [
           "Scrypt"
          ],
          [
           "X13"
          ],
          [
           "X11"
          ],
          [
           "X11"
          ],
          [
           "Scrypt"
          ],
          [
           "SHA-256"
          ],
          [
           "X11"
          ],
          [
           "Scrypt"
          ],
          [
           "Scrypt"
          ],
          [
           "Scrypt"
          ],
          [
           "Scrypt"
          ],
          [
           "SHA-256D"
          ],
          [
           "PoS"
          ],
          [
           "Scrypt"
          ],
          [
           "X11"
          ],
          [
           "PoS"
          ],
          [
           "X13"
          ],
          [
           "X14"
          ],
          [
           "PoS"
          ],
          [
           "SHA-256D"
          ],
          [
           "DPoS"
          ],
          [
           "X11"
          ],
          [
           "X13"
          ],
          [
           "X11"
          ],
          [
           "PoS"
          ],
          [
           "Scrypt"
          ],
          [
           "Scrypt"
          ],
          [
           "PoS"
          ],
          [
           "X11"
          ],
          [
           "SHA-256"
          ],
          [
           "Scrypt"
          ],
          [
           "X11"
          ],
          [
           "Scrypt"
          ],
          [
           "Scrypt"
          ],
          [
           "X11"
          ],
          [
           "Scrypt"
          ],
          [
           "Scrypt"
          ],
          [
           "Scrypt"
          ],
          [
           "Scrypt"
          ],
          [
           "Quark"
          ],
          [
           "QuBit"
          ],
          [
           "Scrypt"
          ],
          [
           "SHA-256"
          ],
          [
           "X11"
          ],
          [
           "Scrypt"
          ],
          [
           "Scrypt"
          ],
          [
           "Scrypt"
          ],
          [
           "Scrypt"
          ],
          [
           "X13"
          ],
          [
           "Scrypt"
          ],
          [
           "Scrypt"
          ],
          [
           "X11"
          ],
          [
           "Blake2S"
          ],
          [
           "X11"
          ],
          [
           "PoS"
          ],
          [
           "X11"
          ],
          [
           "PoS"
          ],
          [
           "X11"
          ],
          [
           "Scrypt"
          ],
          [
           "Scrypt"
          ],
          [
           "Scrypt"
          ],
          [
           "SHA-256"
          ],
          [
           "X11"
          ],
          [
           "Scrypt"
          ],
          [
           "PoS"
          ],
          [
           "Scrypt"
          ],
          [
           "X15"
          ],
          [
           "SHA-256"
          ],
          [
           "POS 3.0"
          ],
          [
           "536"
          ],
          [
           "NIST5"
          ],
          [
           "NIST5"
          ],
          [
           "Skein"
          ],
          [
           "X13"
          ],
          [
           "Scrypt"
          ],
          [
           "X13"
          ],
          [
           "SkunkHash v2 Raptor"
          ],
          [
           "Skein"
          ],
          [
           "X11"
          ],
          [
           "Scrypt"
          ],
          [
           "VeChainThor Authority"
          ],
          [
           "PoS"
          ],
          [
           "Scrypt"
          ],
          [
           "Scrypt"
          ],
          [
           "SHA-512"
          ],
          [
           "Ouroboros"
          ],
          [
           "X11"
          ],
          [
           "NeoScrypt"
          ],
          [
           "Scrypt"
          ],
          [
           "Lyra2REv2"
          ],
          [
           "Scrypt"
          ],
          [
           "SHA-256"
          ],
          [
           "NIST5"
          ],
          [
           "PHI1612"
          ],
          [
           "Scrypt"
          ],
          [
           "Quark"
          ],
          [
           "POS 2.0"
          ],
          [
           "Scrypt"
          ],
          [
           "SHA-256"
          ],
          [
           "X11"
          ],
          [
           "DPoS"
          ],
          [
           "NIST5"
          ],
          [
           "X13"
          ],
          [
           "Scrypt"
          ],
          [
           "NIST5"
          ],
          [
           "Quark"
          ],
          [
           "Scrypt"
          ],
          [
           "Scrypt"
          ],
          [
           "X11"
          ],
          [
           "Quark"
          ],
          [
           "Scrypt"
          ],
          [
           "Scrypt"
          ],
          [
           "X11"
          ],
          [
           "POS 3.0"
          ],
          [
           "Ethash"
          ],
          [
           "Scrypt"
          ],
          [
           "Scrypt"
          ],
          [
           "X13"
          ],
          [
           "C11"
          ],
          [
           "X11"
          ],
          [
           "XEVAN"
          ],
          [
           "Scrypt"
          ],
          [
           "VBFT"
          ],
          [
           "NIST5"
          ],
          [
           "Scrypt"
          ],
          [
           "Scrypt"
          ],
          [
           "Scrypt"
          ],
          [
           "Green Protocol"
          ],
          [
           "PoS"
          ],
          [
           "Scrypt"
          ],
          [
           "Semux BFT consensus"
          ],
          [
           "Quark"
          ],
          [
           "PoS"
          ],
          [
           "X16R"
          ],
          [
           "Scrypt"
          ],
          [
           "XEVAN"
          ],
          [
           "Scrypt"
          ],
          [
           "Scrypt"
          ],
          [
           "Scrypt"
          ],
          [
           "SHA-256D"
          ],
          [
           "Scrypt"
          ],
          [
           "X15"
          ],
          [
           "Scrypt"
          ],
          [
           "Quark"
          ],
          [
           "SHA-256"
          ],
          [
           "DPoS"
          ],
          [
           "X16R"
          ],
          [
           "Quark"
          ],
          [
           "Quark"
          ],
          [
           "Scrypt"
          ],
          [
           "Lyra2REv2"
          ],
          [
           "Quark"
          ],
          [
           "Scrypt"
          ],
          [
           "X11"
          ],
          [
           "X11"
          ],
          [
           "Scrypt"
          ],
          [
           "PoS"
          ],
          [
           "Keccak"
          ],
          [
           "X11"
          ],
          [
           "Scrypt"
          ],
          [
           "SHA-512"
          ],
          [
           "ECC 256K1"
          ],
          [
           "XEVAN"
          ],
          [
           "XEVAN"
          ],
          [
           "X11"
          ],
          [
           "Quark"
          ],
          [
           "Scrypt"
          ],
          [
           "Quark"
          ],
          [
           "Quark"
          ],
          [
           "Scrypt"
          ],
          [
           "X11"
          ],
          [
           "Scrypt"
          ],
          [
           "XEVAN"
          ],
          [
           "SHA-256D"
          ],
          [
           "X11"
          ],
          [
           "X11"
          ],
          [
           "DPoS"
          ],
          [
           "Scrypt"
          ],
          [
           "X11"
          ],
          [
           "Scrypt"
          ],
          [
           "Scrypt"
          ],
          [
           "SHA-256"
          ],
          [
           "Scrypt"
          ],
          [
           "X11"
          ],
          [
           "Scrypt"
          ],
          [
           "SHA-256"
          ],
          [
           "X11"
          ],
          [
           "Scrypt"
          ],
          [
           "Scrypt"
          ],
          [
           "X11"
          ],
          [
           "Scrypt"
          ],
          [
           "PoS"
          ],
          [
           "X11"
          ],
          [
           "SHA-256"
          ],
          [
           "DPoS"
          ],
          [
           "Scrypt"
          ],
          [
           "Scrypt"
          ],
          [
           "NeoScrypt"
          ],
          [
           "X13"
          ],
          [
           "DPoS"
          ],
          [
           "DPoS"
          ],
          [
           "SHA-256"
          ],
          [
           "PoS"
          ],
          [
           "PoS"
          ],
          [
           "SHA-256"
          ],
          [
           "Scrypt"
          ],
          [
           "Scrypt"
          ]
         ],
         "hovertemplate": "<b>%{hovertext}</b><br><br>class=%{marker.color}<br>pc 1=%{x}<br>pc 2=%{y}<br>pc 3=%{z}<br>Algorithm=%{customdata[0]}<extra></extra>",
         "hovertext": [
          "42 Coin",
          "404Coin",
          "EliteCoin",
          "Dash",
          "Bitshares",
          "BitcoinDark",
          "PayCoin",
          "KoboCoin",
          "Aurora Coin",
          "BlueCoin",
          "EnergyCoin",
          "BitBar",
          "CryptoBullion",
          "CasinoCoin",
          "Diamond",
          "Exclusive Coin",
          "FlutterCoin",
          "HoboNickels",
          "HyperStake",
          "IOCoin",
          "MaxCoin",
          "MintCoin",
          "MazaCoin",
          "Nautilus Coin",
          "NavCoin",
          "OpalCoin",
          "Orbitcoin",
          "PotCoin",
          "PhoenixCoin",
          "Reddcoin",
          "SuperCoin",
          "SyncCoin",
          "TeslaCoin",
          "TittieCoin",
          "TorCoin",
          "UnitaryStatus Dollar",
          "UltraCoin",
          "VeriCoin",
          "X11 Coin",
          "Crypti",
          "StealthCoin",
          "ZCC Coin",
          "BurstCoin",
          "StorjCoin",
          "Neutron",
          "FairCoin",
          "RubyCoin",
          "Kore",
          "Dnotes",
          "8BIT Coin",
          "Sativa Coin",
          "Ucoin",
          "Vtorrent",
          "IslaCoin",
          "Nexus",
          "Droidz",
          "Squall Coin",
          "Diggits",
          "Paycon",
          "Emercoin",
          "EverGreenCoin",
          "Decred",
          "EDRCoin",
          "Hitcoin",
          "DubaiCoin",
          "PWR Coin",
          "BillaryCoin",
          "GPU Coin",
          "EuropeCoin",
          "ZeitCoin",
          "SwingCoin",
          "SafeExchangeCoin",
          "Nebuchadnezzar",
          "Ratecoin",
          "Revenu",
          "Clockcoin",
          "VIP Tokens",
          "BitSend",
          "Let it Ride",
          "PutinCoin",
          "iBankCoin",
          "Frankywillcoin",
          "MudraCoin",
          "Lutetium Coin",
          "GoldBlocks",
          "CarterCoin",
          "BitTokens",
          "MustangCoin",
          "ZoneCoin",
          "RootCoin",
          "BitCurrency",
          "Swiscoin",
          "BuzzCoin",
          "Opair",
          "PesoBit",
          "Halloween Coin",
          "CoffeeCoin",
          "RoyalCoin",
          "GanjaCoin V2",
          "TeamUP",
          "LanaCoin",
          "ARK",
          "InsaneCoin",
          "EmberCoin",
          "XenixCoin",
          "FreeCoin",
          "PLNCoin",
          "AquariusCoin",
          "Creatio",
          "Eternity",
          "Eurocoin",
          "BitcoinFast",
          "Stakenet",
          "BitConnect Coin",
          "MoneyCoin",
          "Enigma",
          "Russiacoin",
          "PandaCoin",
          "GameUnits",
          "GAKHcoin",
          "Allsafe",
          "LiteCreed",
          "Klingon Empire Darsek",
          "Internet of People",
          "KushCoin",
          "Printerium",
          "Impeach",
          "Zilbercoin",
          "FirstCoin",
          "FindCoin",
          "OpenChat",
          "RenosCoin",
          "VirtacoinPlus",
          "TajCoin",
          "Impact",
          "Atmos",
          "HappyCoin",
          "MacronCoin",
          "Condensate",
          "Independent Money System",
          "ArgusCoin",
          "LomoCoin",
          "ProCurrency",
          "GoldReserve",
          "GrowthCoin",
          "Phreak",
          "Degas Coin",
          "HTML5 Coin",
          "Ultimate Secure Cash",
          "QTUM",
          "Espers",
          "Denarius",
          "Virta Unique Coin",
          "Bitcoin Planet",
          "BritCoin",
          "Linda",
          "DeepOnion",
          "Signatum",
          "Cream",
          "Monoeci",
          "Draftcoin",
          "Vechain",
          "Stakecoin",
          "CoinonatX",
          "Ethereum Dark",
          "Obsidian",
          "Cardano",
          "Regalcoin",
          "TrezarCoin",
          "TerraNovaCoin",
          "Rupee",
          "WomenCoin",
          "Theresa May Coin",
          "NamoCoin",
          "LUXCoin",
          "Xios",
          "Bitcloud 2.0",
          "KekCoin",
          "BlackholeCoin",
          "Infinity Economics",
          "Magnet",
          "Lamden Tau",
          "Electra",
          "Bitcoin Diamond",
          "Cash & Back Coin",
          "Bulwark",
          "Kalkulus",
          "GermanCoin",
          "LiteCoin Ultra",
          "PhantomX",
          "Digiwage",
          "Trollcoin",
          "Litecoin Plus",
          "Monkey Project",
          "TokenPay",
          "1717 Masonic Commemorative Token",
          "My Big Coin",
          "Unified Society USDEX",
          "Tokyo Coin",
          "Stipend",
          "Pushi",
          "Ellerium",
          "Velox",
          "Ontology",
          "Bitspace",
          "Briacoin",
          "Ignition",
          "MedicCoin",
          "Bitcoin Green",
          "Deviant Coin",
          "Abjcoin",
          "Semux",
          "Carebit",
          "Zealium",
          "Proton",
          "iDealCash",
          "Bitcoin Incognito",
          "HollyWoodCoin",
          "Swisscoin",
          "Xt3ch",
          "TheVig",
          "EmaratCoin",
          "Dekado",
          "Lynx",
          "Poseidon Quark",
          "BitcoinWSpectrum",
          "Muse",
          "Trivechain",
          "Dystem",
          "Giant",
          "Peony Coin",
          "Absolute Coin",
          "Vitae",
          "TPCash",
          "ARENON",
          "EUNO",
          "MMOCoin",
          "Ketan",
          "XDNA",
          "PAXEX",
          "ThunderStake",
          "Kcash",
          "Acute Angle Cloud",
          "Bettex coin",
          "BitMoney",
          "Junson Ming Chan Coin",
          "HerbCoin",
          "Oduwa",
          "Galilel",
          "Crypto Sports",
          "Credit",
          "Dash Platinum",
          "Nasdacoin",
          "Beetle Coin",
          "Titan Coin",
          "Award",
          "Insane Coin",
          "ALAX",
          "LiteDoge",
          "TruckCoin",
          "OrangeCoin",
          "BitstarCoin",
          "NeosCoin",
          "HyperCoin",
          "PinkCoin",
          "AudioCoin",
          "IncaKoin",
          "Piggy Coin",
          "Genstake",
          "XiaoMiCoin",
          "CapriCoin",
          " ClubCoin",
          "Radium",
          "Creditbit ",
          "OKCash",
          "Lisk",
          "HiCoin",
          "WhiteCoin",
          "FriendshipCoin",
          "Triangles Coin",
          "EOS",
          "Oxycoin",
          "TigerCash",
          "Particl",
          "Nxt",
          "ZEPHYR",
          "Gapcoin",
          "BitcoinPlus"
         ],
         "legendgroup": "0",
         "marker": {
          "color": [
           0,
           0,
           0,
           0,
           0,
           0,
           0,
           0,
           0,
           0,
           0,
           0,
           0,
           0,
           0,
           0,
           0,
           0,
           0,
           0,
           0,
           0,
           0,
           0,
           0,
           0,
           0,
           0,
           0,
           0,
           0,
           0,
           0,
           0,
           0,
           0,
           0,
           0,
           0,
           0,
           0,
           0,
           0,
           0,
           0,
           0,
           0,
           0,
           0,
           0,
           0,
           0,
           0,
           0,
           0,
           0,
           0,
           0,
           0,
           0,
           0,
           0,
           0,
           0,
           0,
           0,
           0,
           0,
           0,
           0,
           0,
           0,
           0,
           0,
           0,
           0,
           0,
           0,
           0,
           0,
           0,
           0,
           0,
           0,
           0,
           0,
           0,
           0,
           0,
           0,
           0,
           0,
           0,
           0,
           0,
           0,
           0,
           0,
           0,
           0,
           0,
           0,
           0,
           0,
           0,
           0,
           0,
           0,
           0,
           0,
           0,
           0,
           0,
           0,
           0,
           0,
           0,
           0,
           0,
           0,
           0,
           0,
           0,
           0,
           0,
           0,
           0,
           0,
           0,
           0,
           0,
           0,
           0,
           0,
           0,
           0,
           0,
           0,
           0,
           0,
           0,
           0,
           0,
           0,
           0,
           0,
           0,
           0,
           0,
           0,
           0,
           0,
           0,
           0,
           0,
           0,
           0,
           0,
           0,
           0,
           0,
           0,
           0,
           0,
           0,
           0,
           0,
           0,
           0,
           0,
           0,
           0,
           0,
           0,
           0,
           0,
           0,
           0,
           0,
           0,
           0,
           0,
           0,
           0,
           0,
           0,
           0,
           0,
           0,
           0,
           0,
           0,
           0,
           0,
           0,
           0,
           0,
           0,
           0,
           0,
           0,
           0,
           0,
           0,
           0,
           0,
           0,
           0,
           0,
           0,
           0,
           0,
           0,
           0,
           0,
           0,
           0,
           0,
           0,
           0,
           0,
           0,
           0,
           0,
           0,
           0,
           0,
           0,
           0,
           0,
           0,
           0,
           0,
           0,
           0,
           0,
           0,
           0,
           0,
           0,
           0,
           0,
           0,
           0,
           0,
           0,
           0,
           0,
           0,
           0,
           0,
           0,
           0,
           0,
           0,
           0,
           0,
           0,
           0,
           0,
           0,
           0,
           0,
           0,
           0,
           0,
           0,
           0,
           0,
           0,
           0,
           0,
           0,
           0,
           0,
           0,
           0,
           0,
           0,
           0,
           0,
           0,
           0,
           0,
           0,
           0,
           0,
           0
          ],
          "coloraxis": "coloraxis",
          "symbol": "circle"
         },
         "mode": "markers",
         "name": "0",
         "scene": "scene",
         "showlegend": true,
         "type": "scatter3d",
         "x": [
          -0.3319767356794064,
          -0.3153344094018536,
          2.303518128452659,
          -0.39406640115597813,
          -0.22963693797792945,
          -0.31346489041131614,
          -0.27254880815832017,
          -0.24407281540440348,
          -0.3316367542944245,
          -0.32422176027679045,
          -0.33047482714113596,
          -0.3319726788486326,
          -0.33195697871359175,
          0.7158872439352522,
          -0.36335238405715364,
          -0.3611088995372222,
          -0.27206401736688474,
          -0.33003816997251806,
          -0.33299430260189544,
          -0.3939612037516184,
          -0.4791001855944435,
          -0.03124422127551932,
          -0.2768221909646122,
          -0.29081214223956026,
          -0.2759938102090599,
          -0.2766153899358948,
          -0.33943294790442874,
          -0.32628718576121496,
          -0.3303806622298705,
          0.025802575949601274,
          -0.3528607990703275,
          -0.3943322726210211,
          -0.25106908594944105,
          -0.3175096929749761,
          -0.39424405949951913,
          -0.3072431187113107,
          -0.3306560485855825,
          -0.28945737896034374,
          -0.39420854542965805,
          -0.25153577308029507,
          -0.27639647495881947,
          -0.323094636390668,
          0.1393032921902323,
          -0.35503849278764404,
          -0.31267766843863104,
          -0.3627745065990784,
          -0.29079232801500726,
          -0.27669076988752483,
          -0.2854546623439225,
          -0.3319588223502333,
          -0.2766429921191009,
          -0.353305309458408,
          -0.33169358833996876,
          -0.39431382019159944,
          -0.5715387300958132,
          -0.4108009531381248,
          -0.36256562268409787,
          -0.28919606080525184,
          -0.2761653447038521,
          -0.30603480591833204,
          -0.24650991891363863,
          -0.07940654308483942,
          -0.31343583377870715,
          -0.07226178053255419,
          -0.31349939721621994,
          -0.23411102919458002,
          -0.3315697215311712,
          -0.2890659393073447,
          -0.3914881084920269,
          0.8606087981625448,
          -0.31329983311337145,
          -0.013923614544388709,
          -0.36079260941141555,
          -0.3921594324315619,
          -0.3120457062600902,
          -0.3097180493700676,
          -0.35534745170318727,
          -0.39305109690671447,
          -0.35736477725640814,
          -0.30790148914117194,
          -0.33160779420130043,
          -0.3300486985098156,
          -0.23447151150505105,
          -0.3408124468325534,
          -0.39378854781538686,
          -0.33081308992574976,
          -0.31348042932058534,
          -0.39430304009750483,
          -0.3317966297729723,
          -0.33195306128110896,
          -0.28905424709548205,
          -0.23205431222944614,
          0.033420859669604217,
          -0.35975105631044046,
          -0.33156760845024374,
          -0.38048809963898506,
          -0.3590801775280839,
          -0.23589952343303597,
          -0.4140079819732421,
          -0.3588308846719476,
          -0.28071451583472656,
          3.78213567844838,
          -0.3938961518016334,
          0.8543735642863062,
          -0.39425800045785103,
          -0.3602141980176045,
          -0.33149546020965764,
          -0.33164965026093807,
          -0.36079260941141555,
          -0.3938336616310008,
          -0.31334323538553,
          -0.33149616316987296,
          -0.38586416536949836,
          -0.3316433757202281,
          -0.32723948556212457,
          -0.39428697164960813,
          -0.33085555035689224,
          0.35161994655107504,
          -0.3318423632095914,
          -0.33191280681795043,
          -0.36436656516818716,
          -0.3499710658415614,
          -0.32814627017436493,
          -0.31345686687549135,
          -0.39419703951466667,
          -0.33169093990894827,
          -0.33181777582665395,
          -0.29069925186463885,
          -0.2846579132116318,
          -0.23566768212025385,
          -0.3126963566954802,
          -0.29044052501409245,
          -0.3934640538254022,
          -0.4236278920272851,
          -0.39220375877009456,
          -0.3590414607641644,
          -0.3933620423426802,
          -0.35344871772383124,
          -0.38930945554674246,
          -0.3317611155500946,
          -0.33176034924042386,
          -0.32489466828604124,
          0.259140897832169,
          -0.3938396887703303,
          -0.2733702114343434,
          -0.36082692699636565,
          -0.3309730888655219,
          0.8861953091645038,
          -0.2712416331372537,
          -0.3561447501312341,
          0.5709287995254394,
          -0.3568810829606285,
          -0.35538546484450595,
          -0.41985112749484044,
          -0.2763285209025134,
          0.13220964332390012,
          -0.27639915718736985,
          -0.37007601541410284,
          -0.4193565138411021,
          -0.39411162045415177,
          -0.2907731606867055,
          4.408533496218198,
          -0.3606935200943896,
          -0.33139683776055134,
          -0.33189575889405243,
          -0.28762193173260486,
          0.634985419311798,
          -0.3940526096199916,
          -0.33443954902258466,
          -0.3318514859589126,
          -0.31734875031736565,
          0.43634186765218885,
          -0.3118052688151976,
          -0.34167024720061423,
          -0.3939106711964404,
          -0.33180190552137745,
          -0.4036636959431599,
          -0.35679675077327366,
          -0.33167239988126873,
          -0.09926023574253612,
          -0.39284716350028465,
          3.7869845991869298,
          0.2018712086294069,
          -0.27307448643297105,
          -0.3291363746770947,
          -0.3157923218056092,
          -0.3642526134178253,
          0.08176354497733618,
          -0.33081258771989647,
          -0.39342717095982255,
          -0.36341877539805967,
          -0.3183952809122607,
          -0.331917866838928,
          -0.35327727314397966,
          -0.35764635920608695,
          -0.2805961087477362,
          -0.28392432551604885,
          -0.32746895137166343,
          -0.22747629059848035,
          -0.3641593332318168,
          -0.39412893785270636,
          -0.31511998926957574,
          -0.28993461197998416,
          -0.31296047471850325,
          -0.3564806809095573,
          -0.33194518807739903,
          -0.3319269291687188,
          -0.28432390433768207,
          -0.35278285481457133,
          -0.36028854108118974,
          -0.3316438717698268,
          3.985434548417453,
          -0.4023330725545244,
          -0.36047697274372703,
          -0.3195417995124357,
          -0.2785970642956828,
          -0.28350532658737493,
          -0.29046772974921087,
          -0.13531686259338552,
          -0.290719636603325,
          -0.3459206280551403,
          -0.33111874806638275,
          -0.20500205966860563,
          2.2358494819936,
          -0.3599685395898371,
          -0.27136865243229674,
          1.0472993131387602,
          -0.3597318797615939,
          -0.3643660361772827,
          -0.40534501340998463,
          -0.17166907561683784,
          -0.3581299121358156,
          -0.3630873224537732,
          -0.3248348202512002,
          -0.3528553051542427,
          -0.393602952207344,
          -0.28796915278911617,
          -0.3595784319745239,
          -0.34639183178690014,
          -0.35271708327902945,
          -0.19167323035282835,
          -0.19096517732820256,
          -0.34347859883546034,
          -0.27426039193377727,
          0.5192371457843539,
          -0.14344262575379824,
          -0.40464063892272517,
          -0.3316477898755473,
          -0.4050960937765097,
          -0.3644828503436784,
          0.573515240470882,
          -0.35333152562291936,
          -0.3311315970131744,
          -0.30958375780755043,
          -0.30071448461531425,
          -0.3911721934199917,
          -0.39382984342350846,
          3.7992110194856714,
          0.1026401102326924,
          -0.3913718193048819,
          -0.33051837444767335,
          -0.33134169752500925,
          -0.2725814535407791,
          -0.33185919333910424,
          -0.38546887086815806,
          -0.24570982792030363,
          -0.09334803006321304,
          -0.38122441046159133,
          -0.3311383321713949,
          -0.32421190451800025,
          -0.3904029595583906,
          -0.329579937674575,
          -0.3610678972490727,
          -0.3752828675375146,
          -0.3119819374414018,
          3.7825268946698185,
          -0.09825479404684746,
          -0.3267783665056439,
          -0.3390595086396982,
          -0.27679779725197623,
          3.7923857873502693,
          3.793628657517151,
          -0.25350327397013966,
          -0.36100382687417226,
          -0.3703248355695894,
          2.4987584370918494,
          -0.3300255203244242,
          -0.2911154566628614
         ],
         "y": [
          1.0332464929395384,
          1.0334807683739502,
          1.5533172714623504,
          1.128827427305576,
          1.5112299898938113,
          0.7366493285836826,
          0.5596165197108475,
          1.7724495413869812,
          1.0332472546753988,
          1.033524732718313,
          1.0333003797485667,
          1.033246297514745,
          1.0332465198099028,
          0.607345611163672,
          0.889635350215516,
          1.5545789461848718,
          0.48476871332388277,
          1.033234204608949,
          0.952526318708889,
          1.1288312016695194,
          2.4865611461257675,
          0.8655291247970679,
          0.7363290987548556,
          0.8562050862280728,
          1.6750289060403603,
          1.6750066044624825,
          0.4782081569292711,
          1.0331641809188892,
          1.0332369207232375,
          1.0460832101853905,
          0.9518135312754828,
          1.1288328918052588,
          0.08920141387144448,
          1.5287622763601405,
          1.1288292373155813,
          1.0330426817803928,
          1.0332256761403773,
          0.3984012016861607,
          1.1288335805917022,
          0.08925287125243864,
          1.6750144588843676,
          1.0328831567726837,
          1.0551167192260875,
          1.4261817416550364,
          0.7366462004877615,
          0.8896590710349362,
          0.8562168321569297,
          1.674995715724521,
          0.856067333628558,
          1.033247135678181,
          1.6749987939685902,
          0.9517839424277674,
          1.0332430116570832,
          1.1288335545395811,
          3.4850854682330556,
          1.786846875059779,
          0.8928836012285206,
          0.8562059028321298,
          1.674988650782794,
          0.7362489000881559,
          1.772582870771538,
          0.7834107521964621,
          0.7366503711028113,
          1.122280896111119,
          0.7366559337011126,
          1.4041460590575967,
          1.0332324515088656,
          0.8561280116274629,
          1.1286730437842407,
          0.8300082310944775,
          0.736642974367154,
          0.6069768397568142,
          1.5545766539994785,
          1.128859700346058,
          0.7365633496697923,
          0.7364407070184555,
          1.3997348518518105,
          1.128784059416663,
          1.5034964441790215,
          1.0327462538431225,
          1.0332294941343532,
          1.0332474671744623,
          1.4978749652023287,
          0.9517977281018251,
          1.1288182999247776,
          1.0332268618333977,
          0.7366494530810618,
          1.1288318952695404,
          1.0332386326310834,
          1.033247342378828,
          0.8562791925353508,
          0.5312157972087155,
          1.7657895338334868,
          1.5545771948898983,
          1.0332611719906297,
          1.1283065819478648,
          1.5546244538715157,
          1.497958427799798,
          1.8200515576052385,
          1.5544553920040511,
          1.7630398180629785,
          1.6821883443295116,
          1.1288280795329302,
          1.7150054960160916,
          1.1288329292584827,
          1.554576946270079,
          1.0332374756960583,
          1.0332295837564043,
          1.5545766539994785,
          1.1288098611333124,
          0.7366550574602247,
          1.0332412288425956,
          0.5338944136595127,
          1.033239357102101,
          1.0329726998104918,
          1.1288311077555322,
          1.0331885095438056,
          0.8570901687508116,
          1.0332424478940918,
          1.033246525242716,
          1.4594435564238128,
          0.5439919014137713,
          1.033042917801804,
          0.7366502984749538,
          1.128831364921736,
          1.0332431066797938,
          1.0332372373866596,
          0.8561826607507756,
          0.5510458381779249,
          1.4979585449489417,
          1.03325623529247,
          0.8562059750838207,
          1.1287958416084645,
          1.811323496861637,
          1.12883423941147,
          1.5545779039992569,
          1.1287995016651367,
          1.5545809784976272,
          1.128672097547199,
          1.03323976217136,
          1.0332347510149138,
          1.032818573663287,
          0.5275502797331554,
          1.1288232852038953,
          0.8554778862506247,
          1.5545686025645629,
          1.0332108910141782,
          1.7518595605629035,
          0.5595354842702266,
          1.5034948633172032,
          1.7735814106396908,
          1.3997343881662387,
          1.3997130275069833,
          1.8291540326171751,
          1.6749964365227912,
          1.0158001816450808,
          1.6750014737850467,
          1.5292995743991904,
          1.8291717787958903,
          1.1288343251278021,
          0.8562056487648596,
          3.035251947923511,
          1.5545518373755614,
          1.033234390419844,
          1.033246533857012,
          1.5115428714066614,
          1.519285189478343,
          1.1288245120509182,
          0.4781170792852039,
          1.0332402564036585,
          0.6638384596060087,
          1.0437624989302439,
          0.7366556766919223,
          1.3994685368639197,
          1.706056121996714,
          1.0332384433431951,
          1.636414757659081,
          1.4052190949755123,
          1.0332473263535444,
          0.5597043000901782,
          1.1287879662373481,
          1.6821065621700573,
          1.3993281325629843,
          1.6749904247429879,
          1.0332051785757561,
          1.222689212990572,
          1.4594442348044068,
          1.0139902326677686,
          1.033185958899392,
          1.128831265717804,
          1.4594059503822274,
          1.033119965922077,
          1.0332458770521187,
          0.9517842663231565,
          1.5034921384719562,
          -0.0995596681532373,
          0.5973029050977371,
          1.0332499994895852,
          1.4977167362942327,
          0.8533067357269142,
          1.1288231375119735,
          1.5961566017742777,
          0.856163036069909,
          1.494656876658724,
          1.3997214735041041,
          1.0332455788128465,
          1.033244869890095,
          0.8561079039474536,
          1.559224659927268,
          1.5545483623217013,
          1.033237975272649,
          1.71691969120926,
          1.6364624989219414,
          1.554547057733691,
          0.6056057204933307,
          1.031668443179338,
          1.36022845600383,
          0.8562107459629479,
          1.033345864943217,
          0.8561894315440383,
          1.7657513060553147,
          1.033219987260129,
          1.5955213692619643,
          0.5118750028554571,
          1.459168272527902,
          0.559599007146925,
          1.567090399024257,
          0.782645449295362,
          1.4594394833081497,
          1.6364873240006708,
          0.848978411785605,
          0.8408631509698503,
          1.4594314828566763,
          1.0328207209431162,
          0.9517762175177787,
          1.128824958885371,
          0.8561408003644546,
          1.5544906342967217,
          0.8689200579296542,
          0.9517504860479574,
          1.0260041383452214,
          1.6340011261780538,
          4.021378960074265,
          1.4191221072944096,
          1.7196226599615578,
          0.9593272185783307,
          1.636479280367403,
          1.0332439728383338,
          1.6364867851659437,
          1.459440495929061,
          1.0147197338220035,
          0.9517832064261862,
          1.0332195262544446,
          1.5960551485145824,
          1.7640313735801756,
          1.1286598258883203,
          1.1288304586025726,
          1.6822042243697097,
          1.0249694983733826,
          1.1289391102053452,
          1.0331624141451592,
          1.0332322738846753,
          0.5596095512964816,
          1.0332507102544657,
          1.1288098933835296,
          1.0291804853880968,
          0.7444322940146876,
          1.128621171886181,
          1.0332663437000538,
          1.0332522799812347,
          1.1288320124954216,
          1.0332233648306928,
          1.5545742791577273,
          0.5894170857367202,
          0.7366459279419633,
          1.6821785658220716,
          0.8562986763968197,
          1.033228399814248,
          0.4781830910776118,
          1.6749999780522955,
          1.6826413586332982,
          1.6826859514097707,
          0.5596263612678208,
          1.5545768274526746,
          1.7989202277859313,
          0.6747404123079906,
          1.0331459964000893,
          0.8562045566504775
         ],
         "z": [
          -0.6822221473421164,
          -0.6828491142772134,
          -0.6929484531901403,
          -0.5177355394270888,
          -0.25746979895257954,
          -0.33877691060115633,
          -0.002594696005188078,
          -0.6498756688386342,
          -0.6822341511886293,
          -0.6825480918152843,
          -0.6822852731159108,
          -0.6822222497036412,
          -0.6822228414318011,
          -0.596854596295713,
          -0.4333586199053965,
          -0.08868748034076343,
          -0.5829033547117669,
          -0.6822872689480148,
          -0.1824021934642318,
          -0.5177399609126738,
          -1.109546056763649,
          -0.3569588179903993,
          -0.33999025781055975,
          -0.34604687736416856,
          -0.6273532204087202,
          -0.6273270951842651,
          -0.3276600736032683,
          -0.6824040316204428,
          -0.682275872661208,
          -0.6972597433603257,
          -0.18156719731334897,
          -0.5177273634040472,
          0.11517919425622374,
          -0.23352816114447236,
          -0.5177297080845161,
          -0.683043616639633,
          -0.6822640254542722,
          -0.4702429810945122,
          -0.5177318141425261,
          0.11518517843022122,
          -0.6273362962612402,
          -0.6824591566696367,
          -0.6039176156002969,
          -0.11473423618906912,
          -0.33880372763556504,
          -0.4333835053389948,
          -0.3460499156360875,
          -0.6273222912342594,
          -0.3462061053982469,
          -0.6822229002516521,
          -0.6273245719685866,
          -0.18154578820676492,
          -0.6822313219630822,
          -0.517728139102749,
          -1.532765266052108,
          -0.7670860420095875,
          -0.0019032324635560758,
          -0.3461033764761139,
          -0.6273391953219865,
          -0.33895588999591864,
          -0.6498173598410805,
          -0.4306861445134297,
          -0.3387781318621085,
          -0.5276451120193751,
          -0.3387770278160949,
          -0.6074320303499282,
          -0.6822335293419046,
          -0.3460923450185037,
          -0.5177945623108468,
          -0.3809491791828522,
          -0.33878139446569017,
          -0.5713400002238708,
          -0.08869804795950191,
          -0.5178084656691325,
          -0.33880919889370764,
          -0.33886582849349484,
          -0.6023241511649673,
          -0.5177622649344762,
          -0.09404137487956091,
          -0.6829614216576063,
          -0.68223161108028,
          -0.6822895526012609,
          -0.29116792866619584,
          -0.1819840392526369,
          -0.5177434010649985,
          -0.6822587880347754,
          -0.3387763938036639,
          -0.5177281832683361,
          -0.682226854785191,
          -0.6822231423915056,
          -0.3461229678161753,
          -0.5680868514020617,
          -0.7046910896255891,
          -0.08873446415612614,
          -0.6822393431157063,
          -0.5181047763553911,
          -0.08876729594353143,
          -0.2911348297268791,
          -0.7670384315818618,
          -0.08874219726143434,
          -0.6931909036559175,
          0.30946557184056234,
          -0.5177416046014336,
          -0.6747471144704851,
          -0.5177299599851917,
          -0.0887182695457384,
          -0.6822371222002276,
          -0.6822301699080047,
          -0.08869804795950191,
          -0.5177401418289713,
          -0.3387822964237734,
          -0.6822378478040679,
          -0.23377219829207058,
          -0.6822323419493359,
          -0.6823325651960732,
          -0.5177285860139552,
          -0.6822496427440856,
          -0.36861867767846557,
          -0.682226023060651,
          -0.6822243823309122,
          -0.21044246569156377,
          -0.3863751004877951,
          -0.6823149889328693,
          -0.33877738414189446,
          -0.5177317724071079,
          -0.6822314332776119,
          -0.682225838787487,
          -0.346046330689174,
          -0.5846195042924618,
          -0.2911429350290044,
          -0.682896200188361,
          -0.3460600094288332,
          -0.5177502242378546,
          -0.7834414385983728,
          -0.5178018318166319,
          -0.08875934207548479,
          -0.5177545118179799,
          -0.08895491716800294,
          -0.5178703201002314,
          -0.6822283185471244,
          -0.6822273437241281,
          -0.6823835006672565,
          -0.01472037041719606,
          -0.517742614677629,
          -0.3465095564475798,
          -0.08869524249301904,
          -0.6822500185918552,
          -0.6851611897526846,
          -0.002624067716564617,
          -0.09408358854782935,
          -0.8934418395211702,
          -0.6022705967655063,
          -0.6023184642013517,
          -0.7557168466787334,
          -0.6273350631379017,
          -0.6949166426751957,
          -0.6273336075411254,
          -0.21412929265662475,
          -0.7557376354724545,
          -0.5177353417094755,
          -0.346048348673683,
          4.354440067926473,
          -0.08869654228789699,
          -0.6822399435091244,
          -0.6822249783358787,
          -0.25551099989003023,
          -0.20699844153701036,
          -0.5177354375475338,
          -0.32781593844673385,
          -0.6822252670514111,
          -0.001906528005345368,
          -0.711107146308786,
          -0.3388360330380293,
          -0.602747706578448,
          -0.5685255586600965,
          -0.6822266330435458,
          -0.5466688032581317,
          0.00021439383943878265,
          -0.682232922924475,
          -0.008653005081124274,
          -0.5177701547876437,
          0.30931288563548975,
          -0.6216672667935229,
          -0.6274472958592089,
          -0.6823129039639154,
          -0.266091930136554,
          -0.21044657358264324,
          -0.6927963746141732,
          -0.6822506306280525,
          -0.517758589867105,
          -0.2104679892434921,
          -0.6826703031659054,
          -0.6822240763925425,
          -0.1815468302747914,
          -0.09403069850959118,
          0.14408188302960945,
          -0.5682429369313851,
          -0.6823799875898102,
          -0.29138015522663724,
          -0.48125325153967086,
          -0.5177325020610035,
          -0.35368039018280073,
          -0.34606906349284894,
          -0.05060088622554442,
          -0.6022819734678488,
          -0.6822230643794213,
          -0.6822235591909123,
          -0.34625363157299505,
          -0.1154469915614708,
          -0.08870996515351649,
          -0.6822320484830349,
          0.42188243646434304,
          -0.5467247298483865,
          -0.0887031357700754,
          0.012477914952463273,
          -0.6837675486799858,
          0.16214481293969346,
          -0.34606001459754204,
          -0.6890974866342711,
          -0.34604697330545925,
          -0.6914597681061593,
          -0.6822467589622052,
          -0.31365003978921296,
          -0.746461040832212,
          -0.2105407603772546,
          -0.002632335642983794,
          0.10920461011808773,
          -0.3237309907874272,
          -0.2104416700737841,
          -0.5466246964567493,
          -0.3487558209528172,
          -0.33809182349382116,
          -0.21048464650414564,
          -0.682386016102165,
          -0.18155993125292735,
          -0.5177512017166424,
          -0.3461331344988107,
          -0.08872318165396292,
          -0.48202852806834273,
          -0.18155960688319792,
          -0.6856656008762653,
          -0.4629807361486537,
          2.5514317527283943,
          -0.01749586965928285,
          0.25325323642582076,
          -0.19036912013462126,
          -0.5466476430377489,
          -0.6822331105808037,
          -0.5466332659960094,
          -0.21043780036586396,
          -0.7100844264687296,
          -0.1815447272243045,
          -0.6822462189162475,
          -0.35385310425277977,
          -0.6926918869086209,
          -0.5178029332287052,
          -0.5177443915669455,
          0.3088671589835418,
          -0.6957184529824098,
          -0.5178517924817029,
          -0.6822561810912081,
          -0.6822414426605806,
          -0.0025921652848563655,
          -0.6822270876956203,
          -0.5180317412863399,
          -0.6844167371403026,
          -0.34800560333101793,
          -0.5181419832292932,
          -0.6822553411268835,
          -0.6824939826256536,
          -0.5178641618290545,
          -0.682301076276896,
          -0.08868797690481652,
          -0.17392211713495334,
          -0.3388279260478293,
          0.3094538885563513,
          -0.352778048836298,
          -0.6823997441424012,
          -0.32766808184197743,
          -0.6273194121806753,
          0.30901771742263423,
          0.3089654791325544,
          -0.0032605820898101755,
          -0.08869071967608676,
          0.027124157073151887,
          0.196389720654026,
          -0.682270080502366,
          -0.34603619811163633
         ]
        },
        {
         "customdata": [
          [
           "SHA-256"
          ],
          [
           "Ethash"
          ],
          [
           "Scrypt"
          ],
          [
           "CryptoNight-V7"
          ],
          [
           "Ethash"
          ],
          [
           "Equihash"
          ],
          [
           "Multiple"
          ],
          [
           "Scrypt"
          ],
          [
           "X11"
          ],
          [
           "Scrypt"
          ],
          [
           "Multiple"
          ],
          [
           "Scrypt"
          ],
          [
           "SHA-256"
          ],
          [
           "Scrypt"
          ],
          [
           "Scrypt"
          ],
          [
           "Quark"
          ],
          [
           "Groestl"
          ],
          [
           "Scrypt"
          ],
          [
           "Scrypt"
          ],
          [
           "Scrypt"
          ],
          [
           "X11"
          ],
          [
           "Multiple"
          ],
          [
           "SHA-256"
          ],
          [
           "Scrypt"
          ],
          [
           "Scrypt"
          ],
          [
           "Scrypt"
          ],
          [
           "Scrypt"
          ],
          [
           "Scrypt"
          ],
          [
           "NeoScrypt"
          ],
          [
           "Scrypt"
          ],
          [
           "Scrypt"
          ],
          [
           "Scrypt"
          ],
          [
           "Scrypt"
          ],
          [
           "SHA-256"
          ],
          [
           "Scrypt"
          ],
          [
           "Scrypt"
          ],
          [
           "Scrypt"
          ],
          [
           "Scrypt"
          ],
          [
           "HybridScryptHash256"
          ],
          [
           "Scrypt"
          ],
          [
           "Scrypt"
          ],
          [
           "SHA-256"
          ],
          [
           "Scrypt"
          ],
          [
           "Scrypt"
          ],
          [
           "Scrypt"
          ],
          [
           "Scrypt"
          ],
          [
           "SHA-256"
          ],
          [
           "SHA-256"
          ],
          [
           "SHA-256"
          ],
          [
           "SHA-256"
          ],
          [
           "SHA-256"
          ],
          [
           "X11"
          ],
          [
           "Scrypt"
          ],
          [
           "Lyra2REv2"
          ],
          [
           "Scrypt"
          ],
          [
           "SHA-256"
          ],
          [
           "CryptoNight"
          ],
          [
           "CryptoNight"
          ],
          [
           "Scrypt"
          ],
          [
           "Scrypt"
          ],
          [
           "Scrypt"
          ],
          [
           "Scrypt"
          ],
          [
           "Scrypt"
          ],
          [
           "Scrypt"
          ],
          [
           "Stanford Folding"
          ],
          [
           "Multiple"
          ],
          [
           "QuBit"
          ],
          [
           "Scrypt"
          ],
          [
           "Scrypt"
          ],
          [
           "M7 POW"
          ],
          [
           "Scrypt"
          ],
          [
           "SHA-256"
          ],
          [
           "Scrypt"
          ],
          [
           "X11"
          ],
          [
           "Lyra2RE"
          ],
          [
           "SHA-256"
          ],
          [
           "X11"
          ],
          [
           "Scrypt"
          ],
          [
           "Scrypt"
          ],
          [
           "Ethash"
          ],
          [
           "Blake2b"
          ],
          [
           "X11"
          ],
          [
           "SHA-256"
          ],
          [
           "Scrypt"
          ],
          [
           "1GB AES Pattern Search"
          ],
          [
           "Scrypt"
          ],
          [
           "SHA-256"
          ],
          [
           "X11"
          ],
          [
           "Dagger"
          ],
          [
           "Scrypt"
          ],
          [
           "X11GOST"
          ],
          [
           "Scrypt"
          ],
          [
           "X11"
          ],
          [
           "Scrypt"
          ],
          [
           "X11"
          ],
          [
           "Equihash"
          ],
          [
           "CryptoNight"
          ],
          [
           "SHA-256"
          ],
          [
           "Multiple"
          ],
          [
           "Scrypt"
          ],
          [
           "SHA-256"
          ],
          [
           "Scrypt"
          ],
          [
           "Lyra2Z"
          ],
          [
           "Ethash"
          ],
          [
           "Equihash"
          ],
          [
           "Scrypt"
          ],
          [
           "X11"
          ],
          [
           "X11"
          ],
          [
           "CryptoNight"
          ],
          [
           "Scrypt"
          ],
          [
           "CryptoNight"
          ],
          [
           "Lyra2RE"
          ],
          [
           "X11"
          ],
          [
           "CryptoNight-V7"
          ],
          [
           "Scrypt"
          ],
          [
           "X11"
          ],
          [
           "Equihash"
          ],
          [
           "Scrypt"
          ],
          [
           "Lyra2RE"
          ],
          [
           "Dagger-Hashimoto"
          ],
          [
           "Scrypt"
          ],
          [
           "NIST5"
          ],
          [
           "Scrypt"
          ],
          [
           "SHA-256"
          ],
          [
           "Scrypt"
          ],
          [
           "CryptoNight-V7"
          ],
          [
           "Argon2d"
          ],
          [
           "Blake2b"
          ],
          [
           "Cloverhash"
          ],
          [
           "CryptoNight"
          ],
          [
           "X11"
          ],
          [
           "Scrypt"
          ],
          [
           "Scrypt"
          ],
          [
           "X11"
          ],
          [
           "X11"
          ],
          [
           "CryptoNight"
          ],
          [
           "Time Travel"
          ],
          [
           "Scrypt"
          ],
          [
           "Keccak"
          ],
          [
           "X11"
          ],
          [
           "SHA-256"
          ],
          [
           "Scrypt"
          ],
          [
           "Scrypt"
          ],
          [
           "Scrypt"
          ],
          [
           "Scrypt"
          ],
          [
           "Scrypt"
          ],
          [
           "Scrypt"
          ],
          [
           "CryptoNight"
          ],
          [
           "Equihash"
          ],
          [
           "X11"
          ],
          [
           "NeoScrypt"
          ],
          [
           "Equihash"
          ],
          [
           "Dagger"
          ],
          [
           "Scrypt"
          ],
          [
           "X11"
          ],
          [
           "NeoScrypt"
          ],
          [
           "Ethash"
          ],
          [
           "NeoScrypt"
          ],
          [
           "Multiple"
          ],
          [
           "CryptoNight"
          ],
          [
           "CryptoNight"
          ],
          [
           "Ethash"
          ],
          [
           "X11"
          ],
          [
           "CryptoNight-V7"
          ],
          [
           "Scrypt"
          ],
          [
           "BLAKE256"
          ],
          [
           "X11"
          ],
          [
           "NeoScrypt"
          ],
          [
           "NeoScrypt"
          ],
          [
           "Scrypt"
          ],
          [
           "X11"
          ],
          [
           "SHA-256"
          ],
          [
           "C11"
          ],
          [
           "CryptoNight"
          ],
          [
           "SkunkHash"
          ],
          [
           "CryptoNight"
          ],
          [
           "Scrypt"
          ],
          [
           "Dagger"
          ],
          [
           "Lyra2REv2"
          ],
          [
           "Scrypt"
          ],
          [
           "Scrypt"
          ],
          [
           "X11"
          ],
          [
           "Ethash"
          ],
          [
           "CryptoNight"
          ],
          [
           "Scrypt"
          ],
          [
           "IMesh"
          ],
          [
           "Equihash"
          ],
          [
           "Lyra2Z"
          ],
          [
           "X11"
          ],
          [
           "CryptoNight"
          ],
          [
           "NIST5"
          ],
          [
           "Lyra2RE"
          ],
          [
           "Tribus"
          ],
          [
           "Lyra2Z"
          ],
          [
           "CryptoNight"
          ],
          [
           "CryptoNight Heavy"
          ],
          [
           "CryptoNight"
          ],
          [
           "Jump Consistent Hash"
          ],
          [
           "CryptoNight"
          ],
          [
           "X16R"
          ],
          [
           "HMQ1725"
          ],
          [
           "X11"
          ],
          [
           "Scrypt"
          ],
          [
           "CryptoNight-V7"
          ],
          [
           "Cryptonight-GPU"
          ],
          [
           "XEVAN"
          ],
          [
           "CryptoNight Heavy"
          ],
          [
           "SHA-256"
          ],
          [
           "X11"
          ],
          [
           "X16R"
          ],
          [
           "Equihash"
          ],
          [
           "Lyra2Z"
          ],
          [
           "SHA-256"
          ],
          [
           "CryptoNight"
          ],
          [
           "Blake"
          ],
          [
           "Blake"
          ],
          [
           "Equihash"
          ],
          [
           "Exosis"
          ],
          [
           "Scrypt"
          ],
          [
           "Equihash"
          ],
          [
           "Equihash"
          ],
          [
           "QuBit"
          ],
          [
           "SHA-256"
          ],
          [
           "X13"
          ],
          [
           "SHA-256"
          ],
          [
           "Scrypt"
          ],
          [
           "NeoScrypt"
          ],
          [
           "Blake"
          ],
          [
           "Scrypt"
          ],
          [
           "SHA-256"
          ],
          [
           "Scrypt"
          ],
          [
           "Groestl"
          ],
          [
           "Scrypt"
          ],
          [
           "Scrypt"
          ],
          [
           "Multiple"
          ],
          [
           "Equihash+Scrypt"
          ],
          [
           "Ethash"
          ],
          [
           "CryptoNight"
          ],
          [
           "Equihash"
          ]
         ],
         "hovertemplate": "<b>%{hovertext}</b><br><br>class=%{marker.color}<br>pc 1=%{x}<br>pc 2=%{y}<br>pc 3=%{z}<br>Algorithm=%{customdata[0]}<extra></extra>",
         "hovertext": [
          "Bitcoin",
          "Ethereum",
          "Litecoin",
          "Monero",
          "Ethereum Classic",
          "ZCash",
          "DigiByte",
          "ProsperCoin",
          "Spreadcoin",
          "Argentum",
          "MyriadCoin",
          "MoonCoin",
          "ZetaCoin",
          "SexCoin",
          "Quatloo",
          "QuarkCoin",
          "Riecoin",
          "Digitalcoin ",
          "Catcoin",
          "CannaCoin",
          "CryptCoin",
          "Verge",
          "DevCoin",
          "EarthCoin",
          "E-Gulden",
          "Einsteinium",
          "Emerald",
          "Franko",
          "FeatherCoin",
          "GrandCoin",
          "GlobalCoin",
          "GoldCoin",
          "Infinite Coin",
          "IXcoin",
          "KrugerCoin",
          "LuckyCoin",
          "Litebar ",
          "MegaCoin",
          "MediterraneanCoin",
          "MinCoin",
          "NobleCoin",
          "Namecoin",
          "NyanCoin",
          "RonPaulCoin",
          "StableCoin",
          "SmartCoin",
          "SysCoin",
          "TigerCoin",
          "TerraCoin",
          "UnbreakableCoin",
          "Unobtanium",
          "UroCoin",
          "ViaCoin",
          "Vertcoin",
          "WorldCoin",
          "JouleCoin",
          "ByteCoin",
          "DigitalNote ",
          "MonaCoin",
          "Gulden",
          "PesetaCoin",
          "Wild Beast Coin",
          "Flo",
          "ArtByte",
          "Folding Coin",
          "Unitus",
          "CypherPunkCoin",
          "OmniCron",
          "GreenCoin",
          "Cryptonite",
          "MasterCoin",
          "SoonCoin",
          "1Credit",
          "MarsCoin ",
          "Crypto",
          "Anarchists Prime",
          "BowsCoin",
          "Song Coin",
          "BitZeny",
          "Expanse",
          "Siacoin",
          "MindCoin",
          "I0coin",
          "Revolution VR",
          "HOdlcoin",
          "Gamecredits",
          "CarpeDiemCoin",
          "Adzcoin",
          "SoilCoin",
          "YoCoin",
          "SibCoin",
          "Francs",
          "BolivarCoin",
          "Omni",
          "PizzaCoin",
          "Komodo",
          "Karbo",
          "ZayedCoin",
          "Circuits of Value",
          "DopeCoin",
          "DollarCoin",
          "Shilling",
          "ZCoin",
          "Elementrem",
          "ZClassic",
          "KiloCoin",
          "ArtexCoin",
          "Kurrent",
          "Cannabis Industry Coin",
          "OsmiumCoin",
          "Bikercoins",
          "HexxCoin",
          "PacCoin",
          "Citadel",
          "BeaverCoin",
          "VaultCoin",
          "Zero",
          "Canada eCoin",
          "Zoin",
          "DubaiCoin",
          "EB3coin",
          "Coinonat",
          "BenjiRolls",
          "ILCoin",
          "EquiTrader",
          "Quantum Resistant Ledger",
          "Dynamic",
          "Nano",
          "ChanCoin",
          "Dinastycoin",
          "DigitalPrice",
          "Unify",
          "SocialCoin",
          "ArcticCoin",
          "DAS",
          "LeviarCoin",
          "Bitcore",
          "gCn Coin",
          "SmartCash",
          "Onix",
          "Bitcoin Cash",
          "Sojourn Coin",
          "NewYorkCoin",
          "FrazCoin",
          "Kronecoin",
          "AdCoin",
          "Linx",
          "Sumokoin",
          "BitcoinZ",
          "Elements",
          "VIVO Coin",
          "Bitcoin Gold",
          "Pirl",
          "eBoost",
          "Pura",
          "Innova",
          "Ellaism",
          "GoByte",
          "SHIELD",
          "UltraNote",
          "BitCoal",
          "DaxxCoin",
          "AC3",
          "Lethean",
          "PopularCoin",
          "Photon",
          "Sucre",
          "SparksPay",
          "GunCoin",
          "IrishCoin",
          "Pioneer Coin",
          "UnitedBitcoin",
          "Interzone",
          "TurtleCoin",
          "MUNcoin",
          "Niobio Cash",
          "ShareChain",
          "Travelflex",
          "KREDS",
          "BitFlip",
          "LottoCoin",
          "Crypto Improvement Fund",
          "Callisto Network",
          "BitTube",
          "Poseidon",
          "Aidos Kuneen",
          "Bitrolium",
          "Alpenschillling",
          "FuturoCoin",
          "Monero Classic",
          "Jumpcoin",
          "Infinex",
          "KEYCO",
          "GINcoin",
          "PlatinCoin",
          "Loki",
          "Newton Coin",
          "MassGrid",
          "PluraCoin",
          "Motion",
          "PlusOneCoin",
          "Axe",
          "HexCoin",
          "Webchain",
          "Ryo",
          "Urals Coin",
          "Qwertycoin",
          "Project Pai",
          "Azart",
          "Xchange",
          "CrypticCoin",
          "Actinium",
          "Bitcoin SV",
          "FREDEnergy",
          "Universal Molecule",
          "Lithium",
          "PirateCash",
          "Exosis",
          "Block-Logic",
          "Beam",
          "Bithereum",
          "SLICE",
          "BLAST",
          "Bitcoin Rhodium",
          "GlobalToken",
          "SolarCoin",
          "UFO Coin",
          "BlakeCoin",
          "Crypto Escudo",
          "Crown Coin",
          "SmileyCoin",
          "Groestlcoin",
          "Bata",
          "Pakcoin",
          "JoinCoin",
          "Vollar",
          "Reality Clash",
          "Beldex",
          "Horizen"
         ],
         "legendgroup": "1",
         "marker": {
          "color": [
           1,
           1,
           1,
           1,
           1,
           1,
           1,
           1,
           1,
           1,
           1,
           1,
           1,
           1,
           1,
           1,
           1,
           1,
           1,
           1,
           1,
           1,
           1,
           1,
           1,
           1,
           1,
           1,
           1,
           1,
           1,
           1,
           1,
           1,
           1,
           1,
           1,
           1,
           1,
           1,
           1,
           1,
           1,
           1,
           1,
           1,
           1,
           1,
           1,
           1,
           1,
           1,
           1,
           1,
           1,
           1,
           1,
           1,
           1,
           1,
           1,
           1,
           1,
           1,
           1,
           1,
           1,
           1,
           1,
           1,
           1,
           1,
           1,
           1,
           1,
           1,
           1,
           1,
           1,
           1,
           1,
           1,
           1,
           1,
           1,
           1,
           1,
           1,
           1,
           1,
           1,
           1,
           1,
           1,
           1,
           1,
           1,
           1,
           1,
           1,
           1,
           1,
           1,
           1,
           1,
           1,
           1,
           1,
           1,
           1,
           1,
           1,
           1,
           1,
           1,
           1,
           1,
           1,
           1,
           1,
           1,
           1,
           1,
           1,
           1,
           1,
           1,
           1,
           1,
           1,
           1,
           1,
           1,
           1,
           1,
           1,
           1,
           1,
           1,
           1,
           1,
           1,
           1,
           1,
           1,
           1,
           1,
           1,
           1,
           1,
           1,
           1,
           1,
           1,
           1,
           1,
           1,
           1,
           1,
           1,
           1,
           1,
           1,
           1,
           1,
           1,
           1,
           1,
           1,
           1,
           1,
           1,
           1,
           1,
           1,
           1,
           1,
           1,
           1,
           1,
           1,
           1,
           1,
           1,
           1,
           1,
           1,
           1,
           1,
           1,
           1,
           1,
           1,
           1,
           1,
           1,
           1,
           1,
           1,
           1,
           1,
           1,
           1,
           1,
           1,
           1,
           1,
           1,
           1,
           1,
           1,
           1,
           1,
           1,
           1,
           1,
           1,
           1,
           1,
           1,
           1,
           1,
           1,
           1,
           1,
           1,
           1,
           1,
           1,
           1,
           1,
           1,
           1,
           1,
           1,
           1,
           1,
           1,
           1
          ],
          "coloraxis": "coloraxis",
          "symbol": "diamond"
         },
         "mode": "markers",
         "name": "1",
         "scene": "scene",
         "showlegend": true,
         "type": "scatter3d",
         "x": [
          -0.14647302972204176,
          -0.1533698441314083,
          -0.16381712253626313,
          -0.1516913966259544,
          -0.15181462536195164,
          -0.14279953847016363,
          0.16098852781636125,
          -0.16496186656258652,
          -0.22725882297569228,
          -0.16457903428856255,
          -0.09205689091126593,
          2.5519900829418476,
          -0.1435617030601701,
          -0.16183822046792223,
          -0.1643834665187506,
          -0.23374232316911692,
          -0.1954287377457205,
          -0.16443188764411026,
          -0.16494415006622778,
          -0.16503047440537494,
          -0.2273480655877281,
          0.18474022458705128,
          0.2308787957558305,
          0.0833760102112718,
          -0.164777065268684,
          -0.16038833625839982,
          -0.16471648293092883,
          -0.16508741008392383,
          -0.16777884569891716,
          -0.1443384382314363,
          -0.163884046015091,
          -0.16416123319565037,
          1.5815697167010871,
          -0.146434437242059,
          -0.1614544223483513,
          -0.16480347497472264,
          -0.1651578302626146,
          -0.16441804732370086,
          -0.14289221752555534,
          -0.1650392641124794,
          -0.030164918479186655,
          -0.1465119712604769,
          -0.15871133028471013,
          -0.1650187898106666,
          -0.16311633709364565,
          -0.16450621467302676,
          -0.13368176560796183,
          -0.14597641946028111,
          -0.1462633120346481,
          -0.14624653490489062,
          -0.14683619466774347,
          -0.227521683752234,
          -0.16473557040494774,
          -0.19064931489375223,
          -0.16184301953415095,
          -0.14604363617777966,
          3.851383405758116,
          0.4547208355584345,
          -0.16360475911422334,
          -0.14822801042392503,
          -0.16232519665348413,
          -0.16516004483429494,
          -0.1621903319280867,
          -0.1484324421455127,
          -0.12378762895061678,
          -0.1260183066847514,
          -0.1840242526346297,
          -0.1650332519263784,
          -0.03815469579953071,
          -0.12083996142465399,
          -0.16516891691954577,
          -0.14653972141248128,
          0.48580908755193974,
          -0.2269096659528584,
          -0.15566199198606984,
          -0.14628003080676846,
          -0.22719421413986898,
          -0.16329576920297054,
          -0.1624890385445101,
          -0.15443634913860993,
          0.36676415667826395,
          -0.22722954689132394,
          -0.14643555848759854,
          -0.1611319809339814,
          -0.14728524886738564,
          -0.16373417088457423,
          0.27151001960209176,
          -0.22639149205873763,
          -0.15633407971577526,
          -0.163981844963989,
          -0.1528016622186815,
          -0.1649591485151079,
          -0.22719287904030958,
          -0.16516897533909666,
          -0.22734270244390306,
          -0.22547156783386593,
          0.29983655033628437,
          -0.1466953216578985,
          -0.1061174033731232,
          -0.16233963997863993,
          -0.14665399732898599,
          -0.16483287839287555,
          -0.1537501220880625,
          -0.15417881419991358,
          -0.14282113425665566,
          -0.09202549906251252,
          -0.2139419982958258,
          -0.22517417644545595,
          0.29983085544270593,
          -0.16515074343196992,
          0.29996141939424814,
          -0.15620157856142683,
          0.48661373279447334,
          -0.15045839868304833,
          -0.16511906554719447,
          -0.22008961456319037,
          -0.14283347347935732,
          -0.16325473382099973,
          -0.15592030009721713,
          -0.15788641969230835,
          -0.13609474196428364,
          -0.1897418988610944,
          -0.16468206164390414,
          -0.11306816490869954,
          -0.16450451522880663,
          -0.1503158059487075,
          -0.165012121581035,
          -0.03314710635247536,
          -0.15074756566947287,
          0.3359057402290224,
          -0.2263999710721126,
          -0.16482315369409323,
          -0.164587093576429,
          -0.22679402851220182,
          -0.22737067171963915,
          0.3002252611381782,
          -0.15101940239886322,
          3.2400042202337245,
          -0.11951275187319377,
          -0.21825811229616857,
          -0.1464721947613817,
          -0.09087729597763894,
          1.5801317126335634,
          -0.1649209092266588,
          -0.16437346676692824,
          -0.16407482987600744,
          -0.16406177365591817,
          0.30040848587469715,
          0.06916099877983606,
          -0.18181291045232215,
          -0.17246115995741199,
          -0.14267969961070504,
          -0.15509513655566137,
          -0.1632529447372002,
          -0.22292142331725628,
          -0.17230682946224152,
          -0.1525471124841632,
          -0.17240685862628582,
          -0.1162635996352976,
          1.136450759450355,
          0.2998136919074924,
          -0.07756722815525559,
          -0.22266442474024997,
          -0.13944382883723302,
          -0.08142027829887331,
          1.0911779801563233,
          -0.2273447011760538,
          -0.17245868581716148,
          -0.1655062129592963,
          -0.1641729049119865,
          -0.22727020075156235,
          -0.14645160753096312,
          -0.1973294446645441,
          8.024176856794268,
          -0.15938579550865178,
          0.3036824143028196,
          0.027622937246399894,
          -0.15459851029179755,
          -0.1762275270370332,
          -0.16474592469621135,
          0.14192063908961008,
          -0.2214196714502468,
          -0.10566832313111633,
          0.30772324059858525,
          -0.16498259085142497,
          -0.15594747542427964,
          -0.14167207024188927,
          -0.15153744960202883,
          -0.2264407034717438,
          0.29999599668077526,
          -0.18980114178807408,
          -0.1560470647808329,
          -0.1601216668825596,
          -0.15383435164058099,
          0.3039169345656319,
          0.5748806128414787,
          2.105623475634696,
          -0.144881847370844,
          0.31358180919198736,
          -0.1937153473640638,
          -0.15857023451060628,
          -0.22732688596440054,
          -0.16500715505906458,
          -0.13932823880184245,
          -0.16061045300585572,
          -0.1470878674275372,
          3.09387626213667,
          -0.10635161810310052,
          -0.22729830322131261,
          -0.19314409024096316,
          -0.03757384478498055,
          -0.1532331277013364,
          -0.14647223228995393,
          0.3796304379762412,
          -0.13590871551599198,
          -0.13629988499557136,
          -0.2680740355900249,
          -0.15877899218969418,
          -0.163901115481993,
          -0.14074313050435105,
          -0.14251274072590758,
          -0.18323658891210604,
          -0.1457493382248608,
          -0.10997534641679857,
          -0.14461900009742795,
          0.5296495427259937,
          -0.09772115171508762,
          -0.08685498516425746,
          -0.1485828804624078,
          -0.14626268310354928,
          0.5496726865982124,
          -0.19499029228509046,
          -0.16508381737749822,
          -0.16304257694991844,
          -0.126752487295944,
          -0.1321847801470515,
          -0.1542119300826759,
          0.3215412922089856,
          -0.14280059438078982
         ],
         "y": [
          -1.360426948125169,
          -2.019554957186636,
          -1.06384585745231,
          -2.1943632289474997,
          -2.019642381029474,
          -2.140038432455057,
          -1.8348296837089118,
          -1.0638439625735785,
          -0.968254779235474,
          -1.063859553667079,
          -1.830950365603066,
          -1.2282425724555095,
          -1.360423973969264,
          -1.0638880713188066,
          -1.0638770894881462,
          -0.4605891482301647,
          -1.207462479198586,
          -1.0638434751724448,
          -1.0638433269257184,
          -1.0638410635006255,
          -0.9682566171277481,
          -1.8309459391104226,
          -1.3611960023096552,
          -1.0641267723090329,
          -1.0638373321120786,
          -1.0638700103594037,
          -1.0638426606609312,
          -1.0638418076026377,
          -1.6189281119753214,
          -1.0640585732581953,
          -1.063838710368798,
          -1.0638501871345185,
          -1.0629566999597329,
          -1.3604255634706133,
          -1.0638848183066034,
          -1.0638375976465975,
          -1.0638375919176195,
          -1.0638387732875016,
          -2.2195038449399473,
          -1.0638392373355274,
          -1.0692235162824217,
          -1.360428345303539,
          -1.0638352174153567,
          -1.0638460049153655,
          -1.0639339286983756,
          -1.0638482111783814,
          -1.360559319794637,
          -1.3604268708855631,
          -1.3604337460250402,
          -1.3604590606838947,
          -1.3604258262434086,
          -0.968250570065433,
          -1.0638372073550324,
          -1.2562177559400025,
          -1.0638987607343053,
          -1.360427910351277,
          -2.2963543636381623,
          -2.2992332120951553,
          -1.0638526422681196,
          -1.0643750350725807,
          -1.0638485173983083,
          -1.0638385429902375,
          -1.0638393232510452,
          -1.0639185990556785,
          -2.063868372568179,
          -1.8308048310534515,
          -1.5530687855751313,
          -1.0638345007716814,
          -1.0661001010778892,
          -2.1711622115472453,
          -1.063837491466734,
          -1.3604293409476205,
          -1.1032261747586816,
          -0.9682511180826238,
          -2.23026231308514,
          -1.3604423663823888,
          -0.9682531431593635,
          -1.0639132495683568,
          -1.063911421935619,
          -2.019604752611735,
          -2.152068438388384,
          -0.968251000779159,
          -1.360425603699636,
          -1.063835451607706,
          -2.258120592670437,
          -1.0638428812408243,
          -1.360165332836374,
          -0.9682673093988162,
          -2.159953282225375,
          -1.0639092964325836,
          -2.1541751141724537,
          -1.0638431830372317,
          -0.9682558233210066,
          -1.0638374914962532,
          -0.968261198815346,
          -1.9075326017917786,
          -2.2979769465406794,
          -1.3604272414816811,
          -1.8309092281930943,
          -1.0638719608901563,
          -1.3604263741930402,
          -1.0638454727667634,
          -2.221976399908947,
          -2.019601854711769,
          -2.1400392072874608,
          -1.068032924595834,
          -0.968104354241845,
          -0.9683218437770387,
          -2.297984653041662,
          -1.0638382681148595,
          -2.297982696618193,
          -2.230243623788828,
          -1.010829786319202,
          -2.1944451633123925,
          -1.0638375719353665,
          -0.9686659317015902,
          -2.140036921941315,
          -1.0638365918350294,
          -2.230241034010851,
          -2.1494561539135257,
          -1.0655219839506587,
          -0.6973633732323846,
          -1.0638438266327588,
          -1.3609191366988231,
          -1.0638623361344735,
          -2.194385485976179,
          -2.1228444366214996,
          -2.1666488803667585,
          -2.3295914874148793,
          -2.2980400363790543,
          -0.9682785258702526,
          -1.0638378104629191,
          -1.0638673449998572,
          -0.9682653835706491,
          -0.968258042024493,
          -2.2979930087351206,
          -2.1339036256931023,
          -1.0780664817791055,
          -1.2291686766454857,
          -0.9686684210584775,
          -1.3604269181677204,
          -1.068332736305441,
          -1.0012176555177725,
          -1.0638418110547931,
          -1.0638658184543337,
          -1.063866015954331,
          -1.0638655475119145,
          -2.298010229614244,
          -2.146741539079595,
          -0.9678382195325835,
          -1.618885365211561,
          -2.140034132772261,
          -2.1599949735424717,
          -1.0638365276447252,
          -0.9683242234785489,
          -1.618892104293646,
          -2.0197164029506585,
          -1.6188866906173969,
          -1.830904973671036,
          -2.3259247038795574,
          -2.297979471714952,
          -2.0236554037873864,
          -0.9684514058354338,
          -2.194605462323692,
          -1.0642423418817668,
          -1.339025542941094,
          -0.9682577240450388,
          -1.6188811843469475,
          -1.6189584230856575,
          -1.0638449822041938,
          -0.9682572335048382,
          -1.3604256107199266,
          -1.2437785301474216,
          -2.702845405270353,
          -2.1653965851199524,
          -2.298061298465172,
          -1.0637400739684864,
          -2.1599387530679235,
          -1.2563932466265462,
          -1.0638491731251956,
          -1.0653728953680315,
          -0.9683726447008122,
          -2.0222765837382775,
          -2.2983691767279293,
          -1.0638447061376324,
          -2.201041528125242,
          -2.140031398947618,
          -2.22208702134483,
          -0.9682799873027019,
          -2.29797695471946,
          -0.6973469125049644,
          -2.230249183228214,
          -2.176465446381064,
          -2.221971987997014,
          -2.2982329366879317,
          -2.2122862131677117,
          -2.358671454275948,
          -2.1250343899556747,
          -2.2981589779101483,
          -1.3144252610165132,
          -2.089628627498178,
          -0.9682579032744367,
          -1.0638463412805448,
          -2.195113180605525,
          -2.1011146048170404,
          -0.5009853359378036,
          -2.2476166634366144,
          -1.3604053482422056,
          -0.9682596058214349,
          -1.3144579105665235,
          -2.141432051854815,
          -2.2220005449286973,
          -1.3604269195142031,
          -2.3006179001849656,
          -2.1831922279455336,
          -2.183151775596461,
          -0.22002930201985862,
          -2.1031222168186487,
          -1.0638734235957927,
          -2.1401295623010097,
          -2.1400348848851825,
          -1.5531087266788932,
          -1.3604303095750938,
          -0.4220844092979045,
          -1.3604606839721205,
          -1.1058135256365142,
          -1.618913427289393,
          -2.186134653182665,
          -1.063923996612412,
          -1.360433723459703,
          -1.072290154216335,
          -1.2074610706045437,
          -1.0638374257769247,
          -1.063884905188211,
          -1.8308330822682144,
          -2.3047022766832126,
          -2.019601871445145,
          -2.298146358832133,
          -2.140038470339935
         ],
         "z": [
          0.28812920424652827,
          0.4347560487494911,
          -0.05535352733609961,
          0.48691827968026025,
          0.43471930713397583,
          0.6319873558301065,
          0.3967308634583065,
          -0.055314000764135236,
          0.10917818457362126,
          -0.05532423007655773,
          0.4047765924818052,
          -0.11716885905903088,
          0.28802712223138116,
          -0.055414074093833955,
          -0.05532754275305563,
          0.08012072593122854,
          0.19351932084747267,
          -0.05533257301413349,
          -0.055314745394990955,
          -0.05531218853669281,
          0.10918166285626298,
          0.39512667928552314,
          0.2751285859174428,
          -0.06391442972206268,
          -0.05532176803046379,
          -0.05546822612114413,
          -0.05532281493404711,
          -0.05531005506621024,
          0.2990955076264299,
          -0.05599003224468171,
          -0.055352622837756035,
          -0.05534066645047251,
          -0.11637467076068445,
          0.2881275821904013,
          -0.0554281032826064,
          -0.055320794329385976,
          -0.05530844280131091,
          -0.0553339952065747,
          0.44856486393886863,
          -0.05531224711100326,
          -0.05893779987812326,
          0.28813084097370234,
          -0.05553363959169968,
          -0.055311608259089415,
          -0.055360354382129634,
          -0.05532903546155773,
          0.2877097622490968,
          0.2881118771889767,
          0.2881232522151331,
          0.2881277267921266,
          0.28814163979974433,
          0.10918650653716548,
          -0.05532323945768904,
          0.28879817960560467,
          -0.05541177040001176,
          0.28811442808383164,
          0.3625422035961672,
          0.4815237716946942,
          -0.05535957421166105,
          -0.055791194960951536,
          -0.05540500361106481,
          -0.055308175519687565,
          -0.05541154249163161,
          -0.0558752924528839,
          0.43509287008081055,
          0.4059313861193759,
          0.24056432848444947,
          -0.05531340334901658,
          -0.05928352948470353,
          0.6574348971207521,
          -0.05530807640145821,
          0.28813200732279404,
          -0.07012861663145308,
          0.10916528138707797,
          0.45609739477251116,
          0.28812555790013766,
          0.10917560534907388,
          -0.05535823241362392,
          -0.055386719970788624,
          0.43480317883398684,
          0.4656902163552282,
          0.10917640885472348,
          0.28812762931676367,
          -0.05544920994418801,
          0.5058231007611904,
          -0.05535701382451836,
          0.27350620797590053,
          0.1091504540852176,
          0.4768544836899948,
          -0.05533510618622807,
          0.6234082779669311,
          -0.055314251313246986,
          0.1091760944686565,
          -0.05530807435907805,
          0.10918239160139505,
          1.2349969115126957,
          0.48667189246474407,
          0.2881370118785072,
          0.4052585141286127,
          -0.055399814676291056,
          0.2881353979927257,
          -0.05531819540714017,
          0.46341723278645836,
          0.4347936220986388,
          0.6319882635089525,
          -0.05701931981688245,
          0.10868390165308543,
          0.10911891829750772,
          0.48667363121756185,
          -0.05530855469952516,
          0.48666868880098196,
          0.45611246926169424,
          0.09280199011265756,
          0.48689167341012596,
          -0.05530979811631302,
          0.10901044251359238,
          0.6319882368967117,
          -0.05537498380334318,
          0.456102146418909,
          0.48962937737788026,
          -0.055984924796729583,
          0.02463467640933921,
          -0.055323781812681855,
          0.2870630944588141,
          -0.055326271671421796,
          0.4868747754989152,
          0.5406359010127272,
          0.4825450171810032,
          0.486035336658159,
          0.4854271452202057,
          0.109152991398499,
          -0.05532006580393841,
          -0.055322391947378535,
          0.10916410143450955,
          0.10918273567801812,
          0.48666155238421066,
          0.46673246823979087,
          -0.17116712437793496,
          0.14299229519095583,
          0.10894709465762006,
          0.28812916915282083,
          -0.056999424926203975,
          -0.12866378799641393,
          -0.05531585852459988,
          -0.05533014398353322,
          -0.05534051486462657,
          -0.0553410636223573,
          0.4866586070358445,
          0.6259381941546562,
          0.10751070542820985,
          0.2992501876659706,
          0.631982318958782,
          0.4768196271444532,
          -0.055375058999193164,
          0.10904086390165263,
          0.29924615465290166,
          0.4347596354374252,
          0.2992485596422281,
          0.4056113558563886,
          0.46309355561621546,
          0.486673193984353,
          0.4329331226995816,
          0.10905732387236856,
          0.48653974780621095,
          -0.0581466040298917,
          0.16630364749395005,
          0.10918176680424191,
          0.2992492658254843,
          0.29902234264343136,
          -0.05534129984357668,
          0.10917907171145536,
          0.2881281901826038,
          0.1456603061728517,
          0.29832224328153506,
          0.5410786730669456,
          0.48655468598432094,
          -0.06204818758608593,
          0.4767910786693777,
          0.288330516073751,
          -0.05532048701721143,
          -0.06570621855960793,
          0.10899819100508176,
          0.4336371420338773,
          0.48647535746454135,
          -0.055313129714655615,
          0.47768345287900765,
          0.6319466470462083,
          0.4633622089178868,
          0.10915470339623164,
          0.48666633586830815,
          0.024633451730001893,
          0.4561081940944556,
          0.44439517748132973,
          0.4634192872220302,
          0.4865808145463824,
          0.4831583051368155,
          0.43585341914138387,
          0.441596841762125,
          0.48622911967254073,
          0.3032080110781105,
          0.3870268236803688,
          0.1091811815946384,
          -0.0553119466151503,
          0.4866371916210844,
          0.4677792443587572,
          0.27320258470128256,
          0.4024083887488295,
          0.28672627209630563,
          0.10918052548574549,
          0.3031946226816385,
          0.6285977639412035,
          0.46340403623922055,
          0.2881291707301604,
          0.4844181362457369,
          0.47956459162710674,
          0.4795701427681723,
          0.3412423859734289,
          0.41201794294836547,
          -0.05534508997293672,
          0.6319338836611401,
          0.6319766491620604,
          0.24054485354629065,
          0.2881046484956288,
          -0.00040577077498022134,
          0.2880713160605484,
          -0.07113976476159238,
          0.296650391616273,
          0.478442676585967,
          -0.055868969475113064,
          0.2881232257809278,
          -0.07853778741372547,
          0.19350375530367597,
          -0.055311056063778535,
          -0.05537272353132528,
          0.40596262566441615,
          0.4525297380058779,
          0.4347947798484368,
          0.4859491334493221,
          0.6319874002104181
         ]
        },
        {
         "customdata": [
          [
           "Proof-of-BibleHash"
          ],
          [
           "SHA-256 + Hive"
          ],
          [
           "Proof-of-Authority"
          ],
          [
           "SHA3-256"
          ],
          [
           "Leased POS"
          ]
         ],
         "hovertemplate": "<b>%{hovertext}</b><br><br>class=%{marker.color}<br>pc 1=%{x}<br>pc 2=%{y}<br>pc 3=%{z}<br>Algorithm=%{customdata[0]}<extra></extra>",
         "hovertext": [
          "BiblePay",
          "LitecoinCash",
          "Poa Network",
          "Fiii",
          "Waves"
         ],
         "legendgroup": "3",
         "marker": {
          "color": [
           3,
           3,
           3,
           3,
           3
          ],
          "coloraxis": "coloraxis",
          "symbol": "square"
         },
         "mode": "markers",
         "name": "3",
         "scene": "scene",
         "showlegend": true,
         "type": "scatter3d",
         "x": [
          -0.21710817110125855,
          -0.41150779525035486,
          -0.37163867911209564,
          -0.5867698231251868,
          -0.39586943247580236
         ],
         "y": [
          3.1840417710056963,
          4.296650591048271,
          3.071915520260158,
          3.6778982183865305,
          3.2680843511053044
         ],
         "z": [
          13.03926716691288,
          13.666222278330954,
          12.81495281892329,
          7.530723190126666,
          19.085969270992123
         ]
        },
        {
         "customdata": [
          [
           "TRC10"
          ]
         ],
         "hovertemplate": "<b>%{hovertext}</b><br><br>class=%{marker.color}<br>pc 1=%{x}<br>pc 2=%{y}<br>pc 3=%{z}<br>Algorithm=%{customdata[0]}<extra></extra>",
         "hovertext": [
          "BitTorrent"
         ],
         "legendgroup": "2",
         "marker": {
          "color": [
           2
          ],
          "coloraxis": "coloraxis",
          "symbol": "x"
         },
         "mode": "markers",
         "name": "2",
         "scene": "scene",
         "showlegend": true,
         "type": "scatter3d",
         "x": [
          34.05218603827833
         ],
         "y": [
          1.7400586154301416
         ],
         "z": [
          -1.055935036650299
         ]
        }
       ],
       "layout": {
        "coloraxis": {
         "colorbar": {
          "title": {
           "text": "class"
          }
         },
         "colorscale": [
          [
           0,
           "#0d0887"
          ],
          [
           0.1111111111111111,
           "#46039f"
          ],
          [
           0.2222222222222222,
           "#7201a8"
          ],
          [
           0.3333333333333333,
           "#9c179e"
          ],
          [
           0.4444444444444444,
           "#bd3786"
          ],
          [
           0.5555555555555556,
           "#d8576b"
          ],
          [
           0.6666666666666666,
           "#ed7953"
          ],
          [
           0.7777777777777778,
           "#fb9f3a"
          ],
          [
           0.8888888888888888,
           "#fdca26"
          ],
          [
           1,
           "#f0f921"
          ]
         ]
        },
        "legend": {
         "title": {
          "text": "class"
         },
         "tracegroupgap": 0,
         "x": 0,
         "y": 1
        },
        "margin": {
         "t": 60
        },
        "scene": {
         "domain": {
          "x": [
           0,
           1
          ],
          "y": [
           0,
           1
          ]
         },
         "xaxis": {
          "title": {
           "text": "pc 1"
          }
         },
         "yaxis": {
          "title": {
           "text": "pc 2"
          }
         },
         "zaxis": {
          "title": {
           "text": "pc 3"
          }
         }
        },
        "template": {
         "data": {
          "bar": [
           {
            "error_x": {
             "color": "#2a3f5f"
            },
            "error_y": {
             "color": "#2a3f5f"
            },
            "marker": {
             "line": {
              "color": "#E5ECF6",
              "width": 0.5
             },
             "pattern": {
              "fillmode": "overlay",
              "size": 10,
              "solidity": 0.2
             }
            },
            "type": "bar"
           }
          ],
          "barpolar": [
           {
            "marker": {
             "line": {
              "color": "#E5ECF6",
              "width": 0.5
             },
             "pattern": {
              "fillmode": "overlay",
              "size": 10,
              "solidity": 0.2
             }
            },
            "type": "barpolar"
           }
          ],
          "carpet": [
           {
            "aaxis": {
             "endlinecolor": "#2a3f5f",
             "gridcolor": "white",
             "linecolor": "white",
             "minorgridcolor": "white",
             "startlinecolor": "#2a3f5f"
            },
            "baxis": {
             "endlinecolor": "#2a3f5f",
             "gridcolor": "white",
             "linecolor": "white",
             "minorgridcolor": "white",
             "startlinecolor": "#2a3f5f"
            },
            "type": "carpet"
           }
          ],
          "choropleth": [
           {
            "colorbar": {
             "outlinewidth": 0,
             "ticks": ""
            },
            "type": "choropleth"
           }
          ],
          "contour": [
           {
            "colorbar": {
             "outlinewidth": 0,
             "ticks": ""
            },
            "colorscale": [
             [
              0,
              "#0d0887"
             ],
             [
              0.1111111111111111,
              "#46039f"
             ],
             [
              0.2222222222222222,
              "#7201a8"
             ],
             [
              0.3333333333333333,
              "#9c179e"
             ],
             [
              0.4444444444444444,
              "#bd3786"
             ],
             [
              0.5555555555555556,
              "#d8576b"
             ],
             [
              0.6666666666666666,
              "#ed7953"
             ],
             [
              0.7777777777777778,
              "#fb9f3a"
             ],
             [
              0.8888888888888888,
              "#fdca26"
             ],
             [
              1,
              "#f0f921"
             ]
            ],
            "type": "contour"
           }
          ],
          "contourcarpet": [
           {
            "colorbar": {
             "outlinewidth": 0,
             "ticks": ""
            },
            "type": "contourcarpet"
           }
          ],
          "heatmap": [
           {
            "colorbar": {
             "outlinewidth": 0,
             "ticks": ""
            },
            "colorscale": [
             [
              0,
              "#0d0887"
             ],
             [
              0.1111111111111111,
              "#46039f"
             ],
             [
              0.2222222222222222,
              "#7201a8"
             ],
             [
              0.3333333333333333,
              "#9c179e"
             ],
             [
              0.4444444444444444,
              "#bd3786"
             ],
             [
              0.5555555555555556,
              "#d8576b"
             ],
             [
              0.6666666666666666,
              "#ed7953"
             ],
             [
              0.7777777777777778,
              "#fb9f3a"
             ],
             [
              0.8888888888888888,
              "#fdca26"
             ],
             [
              1,
              "#f0f921"
             ]
            ],
            "type": "heatmap"
           }
          ],
          "heatmapgl": [
           {
            "colorbar": {
             "outlinewidth": 0,
             "ticks": ""
            },
            "colorscale": [
             [
              0,
              "#0d0887"
             ],
             [
              0.1111111111111111,
              "#46039f"
             ],
             [
              0.2222222222222222,
              "#7201a8"
             ],
             [
              0.3333333333333333,
              "#9c179e"
             ],
             [
              0.4444444444444444,
              "#bd3786"
             ],
             [
              0.5555555555555556,
              "#d8576b"
             ],
             [
              0.6666666666666666,
              "#ed7953"
             ],
             [
              0.7777777777777778,
              "#fb9f3a"
             ],
             [
              0.8888888888888888,
              "#fdca26"
             ],
             [
              1,
              "#f0f921"
             ]
            ],
            "type": "heatmapgl"
           }
          ],
          "histogram": [
           {
            "marker": {
             "pattern": {
              "fillmode": "overlay",
              "size": 10,
              "solidity": 0.2
             }
            },
            "type": "histogram"
           }
          ],
          "histogram2d": [
           {
            "colorbar": {
             "outlinewidth": 0,
             "ticks": ""
            },
            "colorscale": [
             [
              0,
              "#0d0887"
             ],
             [
              0.1111111111111111,
              "#46039f"
             ],
             [
              0.2222222222222222,
              "#7201a8"
             ],
             [
              0.3333333333333333,
              "#9c179e"
             ],
             [
              0.4444444444444444,
              "#bd3786"
             ],
             [
              0.5555555555555556,
              "#d8576b"
             ],
             [
              0.6666666666666666,
              "#ed7953"
             ],
             [
              0.7777777777777778,
              "#fb9f3a"
             ],
             [
              0.8888888888888888,
              "#fdca26"
             ],
             [
              1,
              "#f0f921"
             ]
            ],
            "type": "histogram2d"
           }
          ],
          "histogram2dcontour": [
           {
            "colorbar": {
             "outlinewidth": 0,
             "ticks": ""
            },
            "colorscale": [
             [
              0,
              "#0d0887"
             ],
             [
              0.1111111111111111,
              "#46039f"
             ],
             [
              0.2222222222222222,
              "#7201a8"
             ],
             [
              0.3333333333333333,
              "#9c179e"
             ],
             [
              0.4444444444444444,
              "#bd3786"
             ],
             [
              0.5555555555555556,
              "#d8576b"
             ],
             [
              0.6666666666666666,
              "#ed7953"
             ],
             [
              0.7777777777777778,
              "#fb9f3a"
             ],
             [
              0.8888888888888888,
              "#fdca26"
             ],
             [
              1,
              "#f0f921"
             ]
            ],
            "type": "histogram2dcontour"
           }
          ],
          "mesh3d": [
           {
            "colorbar": {
             "outlinewidth": 0,
             "ticks": ""
            },
            "type": "mesh3d"
           }
          ],
          "parcoords": [
           {
            "line": {
             "colorbar": {
              "outlinewidth": 0,
              "ticks": ""
             }
            },
            "type": "parcoords"
           }
          ],
          "pie": [
           {
            "automargin": true,
            "type": "pie"
           }
          ],
          "scatter": [
           {
            "fillpattern": {
             "fillmode": "overlay",
             "size": 10,
             "solidity": 0.2
            },
            "type": "scatter"
           }
          ],
          "scatter3d": [
           {
            "line": {
             "colorbar": {
              "outlinewidth": 0,
              "ticks": ""
             }
            },
            "marker": {
             "colorbar": {
              "outlinewidth": 0,
              "ticks": ""
             }
            },
            "type": "scatter3d"
           }
          ],
          "scattercarpet": [
           {
            "marker": {
             "colorbar": {
              "outlinewidth": 0,
              "ticks": ""
             }
            },
            "type": "scattercarpet"
           }
          ],
          "scattergeo": [
           {
            "marker": {
             "colorbar": {
              "outlinewidth": 0,
              "ticks": ""
             }
            },
            "type": "scattergeo"
           }
          ],
          "scattergl": [
           {
            "marker": {
             "colorbar": {
              "outlinewidth": 0,
              "ticks": ""
             }
            },
            "type": "scattergl"
           }
          ],
          "scattermapbox": [
           {
            "marker": {
             "colorbar": {
              "outlinewidth": 0,
              "ticks": ""
             }
            },
            "type": "scattermapbox"
           }
          ],
          "scatterpolar": [
           {
            "marker": {
             "colorbar": {
              "outlinewidth": 0,
              "ticks": ""
             }
            },
            "type": "scatterpolar"
           }
          ],
          "scatterpolargl": [
           {
            "marker": {
             "colorbar": {
              "outlinewidth": 0,
              "ticks": ""
             }
            },
            "type": "scatterpolargl"
           }
          ],
          "scatterternary": [
           {
            "marker": {
             "colorbar": {
              "outlinewidth": 0,
              "ticks": ""
             }
            },
            "type": "scatterternary"
           }
          ],
          "surface": [
           {
            "colorbar": {
             "outlinewidth": 0,
             "ticks": ""
            },
            "colorscale": [
             [
              0,
              "#0d0887"
             ],
             [
              0.1111111111111111,
              "#46039f"
             ],
             [
              0.2222222222222222,
              "#7201a8"
             ],
             [
              0.3333333333333333,
              "#9c179e"
             ],
             [
              0.4444444444444444,
              "#bd3786"
             ],
             [
              0.5555555555555556,
              "#d8576b"
             ],
             [
              0.6666666666666666,
              "#ed7953"
             ],
             [
              0.7777777777777778,
              "#fb9f3a"
             ],
             [
              0.8888888888888888,
              "#fdca26"
             ],
             [
              1,
              "#f0f921"
             ]
            ],
            "type": "surface"
           }
          ],
          "table": [
           {
            "cells": {
             "fill": {
              "color": "#EBF0F8"
             },
             "line": {
              "color": "white"
             }
            },
            "header": {
             "fill": {
              "color": "#C8D4E3"
             },
             "line": {
              "color": "white"
             }
            },
            "type": "table"
           }
          ]
         },
         "layout": {
          "annotationdefaults": {
           "arrowcolor": "#2a3f5f",
           "arrowhead": 0,
           "arrowwidth": 1
          },
          "autotypenumbers": "strict",
          "coloraxis": {
           "colorbar": {
            "outlinewidth": 0,
            "ticks": ""
           }
          },
          "colorscale": {
           "diverging": [
            [
             0,
             "#8e0152"
            ],
            [
             0.1,
             "#c51b7d"
            ],
            [
             0.2,
             "#de77ae"
            ],
            [
             0.3,
             "#f1b6da"
            ],
            [
             0.4,
             "#fde0ef"
            ],
            [
             0.5,
             "#f7f7f7"
            ],
            [
             0.6,
             "#e6f5d0"
            ],
            [
             0.7,
             "#b8e186"
            ],
            [
             0.8,
             "#7fbc41"
            ],
            [
             0.9,
             "#4d9221"
            ],
            [
             1,
             "#276419"
            ]
           ],
           "sequential": [
            [
             0,
             "#0d0887"
            ],
            [
             0.1111111111111111,
             "#46039f"
            ],
            [
             0.2222222222222222,
             "#7201a8"
            ],
            [
             0.3333333333333333,
             "#9c179e"
            ],
            [
             0.4444444444444444,
             "#bd3786"
            ],
            [
             0.5555555555555556,
             "#d8576b"
            ],
            [
             0.6666666666666666,
             "#ed7953"
            ],
            [
             0.7777777777777778,
             "#fb9f3a"
            ],
            [
             0.8888888888888888,
             "#fdca26"
            ],
            [
             1,
             "#f0f921"
            ]
           ],
           "sequentialminus": [
            [
             0,
             "#0d0887"
            ],
            [
             0.1111111111111111,
             "#46039f"
            ],
            [
             0.2222222222222222,
             "#7201a8"
            ],
            [
             0.3333333333333333,
             "#9c179e"
            ],
            [
             0.4444444444444444,
             "#bd3786"
            ],
            [
             0.5555555555555556,
             "#d8576b"
            ],
            [
             0.6666666666666666,
             "#ed7953"
            ],
            [
             0.7777777777777778,
             "#fb9f3a"
            ],
            [
             0.8888888888888888,
             "#fdca26"
            ],
            [
             1,
             "#f0f921"
            ]
           ]
          },
          "colorway": [
           "#636efa",
           "#EF553B",
           "#00cc96",
           "#ab63fa",
           "#FFA15A",
           "#19d3f3",
           "#FF6692",
           "#B6E880",
           "#FF97FF",
           "#FECB52"
          ],
          "font": {
           "color": "#2a3f5f"
          },
          "geo": {
           "bgcolor": "white",
           "lakecolor": "white",
           "landcolor": "#E5ECF6",
           "showlakes": true,
           "showland": true,
           "subunitcolor": "white"
          },
          "hoverlabel": {
           "align": "left"
          },
          "hovermode": "closest",
          "mapbox": {
           "style": "light"
          },
          "paper_bgcolor": "white",
          "plot_bgcolor": "#E5ECF6",
          "polar": {
           "angularaxis": {
            "gridcolor": "white",
            "linecolor": "white",
            "ticks": ""
           },
           "bgcolor": "#E5ECF6",
           "radialaxis": {
            "gridcolor": "white",
            "linecolor": "white",
            "ticks": ""
           }
          },
          "scene": {
           "xaxis": {
            "backgroundcolor": "#E5ECF6",
            "gridcolor": "white",
            "gridwidth": 2,
            "linecolor": "white",
            "showbackground": true,
            "ticks": "",
            "zerolinecolor": "white"
           },
           "yaxis": {
            "backgroundcolor": "#E5ECF6",
            "gridcolor": "white",
            "gridwidth": 2,
            "linecolor": "white",
            "showbackground": true,
            "ticks": "",
            "zerolinecolor": "white"
           },
           "zaxis": {
            "backgroundcolor": "#E5ECF6",
            "gridcolor": "white",
            "gridwidth": 2,
            "linecolor": "white",
            "showbackground": true,
            "ticks": "",
            "zerolinecolor": "white"
           }
          },
          "shapedefaults": {
           "line": {
            "color": "#2a3f5f"
           }
          },
          "ternary": {
           "aaxis": {
            "gridcolor": "white",
            "linecolor": "white",
            "ticks": ""
           },
           "baxis": {
            "gridcolor": "white",
            "linecolor": "white",
            "ticks": ""
           },
           "bgcolor": "#E5ECF6",
           "caxis": {
            "gridcolor": "white",
            "linecolor": "white",
            "ticks": ""
           }
          },
          "title": {
           "x": 0.05
          },
          "xaxis": {
           "automargin": true,
           "gridcolor": "white",
           "linecolor": "white",
           "ticks": "",
           "title": {
            "standoff": 15
           },
           "zerolinecolor": "white",
           "zerolinewidth": 2
          },
          "yaxis": {
           "automargin": true,
           "gridcolor": "white",
           "linecolor": "white",
           "ticks": "",
           "title": {
            "standoff": 15
           },
           "zerolinecolor": "white",
           "zerolinewidth": 2
          }
         }
        },
        "width": 800
       }
      },
      "text/html": [
       "<div>                            <div id=\"69b2e9fd-5556-42a0-8ce6-8a770e17ac3b\" class=\"plotly-graph-div\" style=\"height:525px; width:800px;\"></div>            <script type=\"text/javascript\">                require([\"plotly\"], function(Plotly) {                    window.PLOTLYENV=window.PLOTLYENV || {};                                    if (document.getElementById(\"69b2e9fd-5556-42a0-8ce6-8a770e17ac3b\")) {                    Plotly.newPlot(                        \"69b2e9fd-5556-42a0-8ce6-8a770e17ac3b\",                        [{\"customdata\":[[\"Scrypt\"],[\"Scrypt\"],[\"X13\"],[\"X11\"],[\"SHA-512\"],[\"SHA-256\"],[\"SHA-256\"],[\"X15\"],[\"Scrypt\"],[\"Scrypt\"],[\"Scrypt\"],[\"Scrypt\"],[\"Scrypt\"],[\"Scrypt\"],[\"Groestl\"],[\"PoS\"],[\"Scrypt\"],[\"Scrypt\"],[\"X11\"],[\"X11\"],[\"SHA3\"],[\"Scrypt\"],[\"SHA-256\"],[\"Scrypt\"],[\"X13\"],[\"X13\"],[\"NeoScrypt\"],[\"Scrypt\"],[\"Scrypt\"],[\"Scrypt\"],[\"X11\"],[\"X11\"],[\"Multiple\"],[\"PHI1612\"],[\"X11\"],[\"Scrypt\"],[\"Scrypt\"],[\"Scrypt\"],[\"X11\"],[\"Multiple\"],[\"X13\"],[\"Scrypt\"],[\"Shabal256\"],[\"Counterparty\"],[\"SHA-256\"],[\"Groestl\"],[\"Scrypt\"],[\"X13\"],[\"Scrypt\"],[\"Scrypt\"],[\"X13\"],[\"X11\"],[\"Scrypt\"],[\"X11\"],[\"SHA3\"],[\"QUAIT\"],[\"X11\"],[\"Scrypt\"],[\"X13\"],[\"SHA-256\"],[\"X15\"],[\"BLAKE256\"],[\"SHA-256\"],[\"X11\"],[\"SHA-256\"],[\"NIST5\"],[\"Scrypt\"],[\"Scrypt\"],[\"X11\"],[\"Scrypt\"],[\"SHA-256\"],[\"Scrypt\"],[\"PoS\"],[\"X11\"],[\"SHA-256\"],[\"SHA-256\"],[\"NIST5\"],[\"X11\"],[\"POS 3.0\"],[\"Scrypt\"],[\"Scrypt\"],[\"Scrypt\"],[\"X13\"],[\"X11\"],[\"X11\"],[\"Scrypt\"],[\"SHA-256\"],[\"X11\"],[\"Scrypt\"],[\"Scrypt\"],[\"Scrypt\"],[\"Scrypt\"],[\"SHA-256D\"],[\"PoS\"],[\"Scrypt\"],[\"X11\"],[\"PoS\"],[\"X13\"],[\"X14\"],[\"PoS\"],[\"SHA-256D\"],[\"DPoS\"],[\"X11\"],[\"X13\"],[\"X11\"],[\"PoS\"],[\"Scrypt\"],[\"Scrypt\"],[\"PoS\"],[\"X11\"],[\"SHA-256\"],[\"Scrypt\"],[\"X11\"],[\"Scrypt\"],[\"Scrypt\"],[\"X11\"],[\"Scrypt\"],[\"Scrypt\"],[\"Scrypt\"],[\"Scrypt\"],[\"Quark\"],[\"QuBit\"],[\"Scrypt\"],[\"SHA-256\"],[\"X11\"],[\"Scrypt\"],[\"Scrypt\"],[\"Scrypt\"],[\"Scrypt\"],[\"X13\"],[\"Scrypt\"],[\"Scrypt\"],[\"X11\"],[\"Blake2S\"],[\"X11\"],[\"PoS\"],[\"X11\"],[\"PoS\"],[\"X11\"],[\"Scrypt\"],[\"Scrypt\"],[\"Scrypt\"],[\"SHA-256\"],[\"X11\"],[\"Scrypt\"],[\"PoS\"],[\"Scrypt\"],[\"X15\"],[\"SHA-256\"],[\"POS 3.0\"],[\"536\"],[\"NIST5\"],[\"NIST5\"],[\"Skein\"],[\"X13\"],[\"Scrypt\"],[\"X13\"],[\"SkunkHash v2 Raptor\"],[\"Skein\"],[\"X11\"],[\"Scrypt\"],[\"VeChainThor Authority\"],[\"PoS\"],[\"Scrypt\"],[\"Scrypt\"],[\"SHA-512\"],[\"Ouroboros\"],[\"X11\"],[\"NeoScrypt\"],[\"Scrypt\"],[\"Lyra2REv2\"],[\"Scrypt\"],[\"SHA-256\"],[\"NIST5\"],[\"PHI1612\"],[\"Scrypt\"],[\"Quark\"],[\"POS 2.0\"],[\"Scrypt\"],[\"SHA-256\"],[\"X11\"],[\"DPoS\"],[\"NIST5\"],[\"X13\"],[\"Scrypt\"],[\"NIST5\"],[\"Quark\"],[\"Scrypt\"],[\"Scrypt\"],[\"X11\"],[\"Quark\"],[\"Scrypt\"],[\"Scrypt\"],[\"X11\"],[\"POS 3.0\"],[\"Ethash\"],[\"Scrypt\"],[\"Scrypt\"],[\"X13\"],[\"C11\"],[\"X11\"],[\"XEVAN\"],[\"Scrypt\"],[\"VBFT\"],[\"NIST5\"],[\"Scrypt\"],[\"Scrypt\"],[\"Scrypt\"],[\"Green Protocol\"],[\"PoS\"],[\"Scrypt\"],[\"Semux BFT consensus\"],[\"Quark\"],[\"PoS\"],[\"X16R\"],[\"Scrypt\"],[\"XEVAN\"],[\"Scrypt\"],[\"Scrypt\"],[\"Scrypt\"],[\"SHA-256D\"],[\"Scrypt\"],[\"X15\"],[\"Scrypt\"],[\"Quark\"],[\"SHA-256\"],[\"DPoS\"],[\"X16R\"],[\"Quark\"],[\"Quark\"],[\"Scrypt\"],[\"Lyra2REv2\"],[\"Quark\"],[\"Scrypt\"],[\"X11\"],[\"X11\"],[\"Scrypt\"],[\"PoS\"],[\"Keccak\"],[\"X11\"],[\"Scrypt\"],[\"SHA-512\"],[\"ECC 256K1\"],[\"XEVAN\"],[\"XEVAN\"],[\"X11\"],[\"Quark\"],[\"Scrypt\"],[\"Quark\"],[\"Quark\"],[\"Scrypt\"],[\"X11\"],[\"Scrypt\"],[\"XEVAN\"],[\"SHA-256D\"],[\"X11\"],[\"X11\"],[\"DPoS\"],[\"Scrypt\"],[\"X11\"],[\"Scrypt\"],[\"Scrypt\"],[\"SHA-256\"],[\"Scrypt\"],[\"X11\"],[\"Scrypt\"],[\"SHA-256\"],[\"X11\"],[\"Scrypt\"],[\"Scrypt\"],[\"X11\"],[\"Scrypt\"],[\"PoS\"],[\"X11\"],[\"SHA-256\"],[\"DPoS\"],[\"Scrypt\"],[\"Scrypt\"],[\"NeoScrypt\"],[\"X13\"],[\"DPoS\"],[\"DPoS\"],[\"SHA-256\"],[\"PoS\"],[\"PoS\"],[\"SHA-256\"],[\"Scrypt\"],[\"Scrypt\"]],\"hovertemplate\":\"<b>%{hovertext}</b><br><br>class=%{marker.color}<br>pc 1=%{x}<br>pc 2=%{y}<br>pc 3=%{z}<br>Algorithm=%{customdata[0]}<extra></extra>\",\"hovertext\":[\"42 Coin\",\"404Coin\",\"EliteCoin\",\"Dash\",\"Bitshares\",\"BitcoinDark\",\"PayCoin\",\"KoboCoin\",\"Aurora Coin\",\"BlueCoin\",\"EnergyCoin\",\"BitBar\",\"CryptoBullion\",\"CasinoCoin\",\"Diamond\",\"Exclusive Coin\",\"FlutterCoin\",\"HoboNickels\",\"HyperStake\",\"IOCoin\",\"MaxCoin\",\"MintCoin\",\"MazaCoin\",\"Nautilus Coin\",\"NavCoin\",\"OpalCoin\",\"Orbitcoin\",\"PotCoin\",\"PhoenixCoin\",\"Reddcoin\",\"SuperCoin\",\"SyncCoin\",\"TeslaCoin\",\"TittieCoin\",\"TorCoin\",\"UnitaryStatus Dollar\",\"UltraCoin\",\"VeriCoin\",\"X11 Coin\",\"Crypti\",\"StealthCoin\",\"ZCC Coin\",\"BurstCoin\",\"StorjCoin\",\"Neutron\",\"FairCoin\",\"RubyCoin\",\"Kore\",\"Dnotes\",\"8BIT Coin\",\"Sativa Coin\",\"Ucoin\",\"Vtorrent\",\"IslaCoin\",\"Nexus\",\"Droidz\",\"Squall Coin\",\"Diggits\",\"Paycon\",\"Emercoin\",\"EverGreenCoin\",\"Decred\",\"EDRCoin\",\"Hitcoin\",\"DubaiCoin\",\"PWR Coin\",\"BillaryCoin\",\"GPU Coin\",\"EuropeCoin\",\"ZeitCoin\",\"SwingCoin\",\"SafeExchangeCoin\",\"Nebuchadnezzar\",\"Ratecoin\",\"Revenu\",\"Clockcoin\",\"VIP Tokens\",\"BitSend\",\"Let it Ride\",\"PutinCoin\",\"iBankCoin\",\"Frankywillcoin\",\"MudraCoin\",\"Lutetium Coin\",\"GoldBlocks\",\"CarterCoin\",\"BitTokens\",\"MustangCoin\",\"ZoneCoin\",\"RootCoin\",\"BitCurrency\",\"Swiscoin\",\"BuzzCoin\",\"Opair\",\"PesoBit\",\"Halloween Coin\",\"CoffeeCoin\",\"RoyalCoin\",\"GanjaCoin V2\",\"TeamUP\",\"LanaCoin\",\"ARK\",\"InsaneCoin\",\"EmberCoin\",\"XenixCoin\",\"FreeCoin\",\"PLNCoin\",\"AquariusCoin\",\"Creatio\",\"Eternity\",\"Eurocoin\",\"BitcoinFast\",\"Stakenet\",\"BitConnect Coin\",\"MoneyCoin\",\"Enigma\",\"Russiacoin\",\"PandaCoin\",\"GameUnits\",\"GAKHcoin\",\"Allsafe\",\"LiteCreed\",\"Klingon Empire Darsek\",\"Internet of People\",\"KushCoin\",\"Printerium\",\"Impeach\",\"Zilbercoin\",\"FirstCoin\",\"FindCoin\",\"OpenChat\",\"RenosCoin\",\"VirtacoinPlus\",\"TajCoin\",\"Impact\",\"Atmos\",\"HappyCoin\",\"MacronCoin\",\"Condensate\",\"Independent Money System\",\"ArgusCoin\",\"LomoCoin\",\"ProCurrency\",\"GoldReserve\",\"GrowthCoin\",\"Phreak\",\"Degas Coin\",\"HTML5 Coin\",\"Ultimate Secure Cash\",\"QTUM\",\"Espers\",\"Denarius\",\"Virta Unique Coin\",\"Bitcoin Planet\",\"BritCoin\",\"Linda\",\"DeepOnion\",\"Signatum\",\"Cream\",\"Monoeci\",\"Draftcoin\",\"Vechain\",\"Stakecoin\",\"CoinonatX\",\"Ethereum Dark\",\"Obsidian\",\"Cardano\",\"Regalcoin\",\"TrezarCoin\",\"TerraNovaCoin\",\"Rupee\",\"WomenCoin\",\"Theresa May Coin\",\"NamoCoin\",\"LUXCoin\",\"Xios\",\"Bitcloud 2.0\",\"KekCoin\",\"BlackholeCoin\",\"Infinity Economics\",\"Magnet\",\"Lamden Tau\",\"Electra\",\"Bitcoin Diamond\",\"Cash & Back Coin\",\"Bulwark\",\"Kalkulus\",\"GermanCoin\",\"LiteCoin Ultra\",\"PhantomX\",\"Digiwage\",\"Trollcoin\",\"Litecoin Plus\",\"Monkey Project\",\"TokenPay\",\"1717 Masonic Commemorative Token\",\"My Big Coin\",\"Unified Society USDEX\",\"Tokyo Coin\",\"Stipend\",\"Pushi\",\"Ellerium\",\"Velox\",\"Ontology\",\"Bitspace\",\"Briacoin\",\"Ignition\",\"MedicCoin\",\"Bitcoin Green\",\"Deviant Coin\",\"Abjcoin\",\"Semux\",\"Carebit\",\"Zealium\",\"Proton\",\"iDealCash\",\"Bitcoin Incognito\",\"HollyWoodCoin\",\"Swisscoin\",\"Xt3ch\",\"TheVig\",\"EmaratCoin\",\"Dekado\",\"Lynx\",\"Poseidon Quark\",\"BitcoinWSpectrum\",\"Muse\",\"Trivechain\",\"Dystem\",\"Giant\",\"Peony Coin\",\"Absolute Coin\",\"Vitae\",\"TPCash\",\"ARENON\",\"EUNO\",\"MMOCoin\",\"Ketan\",\"XDNA\",\"PAXEX\",\"ThunderStake\",\"Kcash\",\"Acute Angle Cloud\",\"Bettex coin\",\"BitMoney\",\"Junson Ming Chan Coin\",\"HerbCoin\",\"Oduwa\",\"Galilel\",\"Crypto Sports\",\"Credit\",\"Dash Platinum\",\"Nasdacoin\",\"Beetle Coin\",\"Titan Coin\",\"Award\",\"Insane Coin\",\"ALAX\",\"LiteDoge\",\"TruckCoin\",\"OrangeCoin\",\"BitstarCoin\",\"NeosCoin\",\"HyperCoin\",\"PinkCoin\",\"AudioCoin\",\"IncaKoin\",\"Piggy Coin\",\"Genstake\",\"XiaoMiCoin\",\"CapriCoin\",\" ClubCoin\",\"Radium\",\"Creditbit \",\"OKCash\",\"Lisk\",\"HiCoin\",\"WhiteCoin\",\"FriendshipCoin\",\"Triangles Coin\",\"EOS\",\"Oxycoin\",\"TigerCash\",\"Particl\",\"Nxt\",\"ZEPHYR\",\"Gapcoin\",\"BitcoinPlus\"],\"legendgroup\":\"0\",\"marker\":{\"color\":[0,0,0,0,0,0,0,0,0,0,0,0,0,0,0,0,0,0,0,0,0,0,0,0,0,0,0,0,0,0,0,0,0,0,0,0,0,0,0,0,0,0,0,0,0,0,0,0,0,0,0,0,0,0,0,0,0,0,0,0,0,0,0,0,0,0,0,0,0,0,0,0,0,0,0,0,0,0,0,0,0,0,0,0,0,0,0,0,0,0,0,0,0,0,0,0,0,0,0,0,0,0,0,0,0,0,0,0,0,0,0,0,0,0,0,0,0,0,0,0,0,0,0,0,0,0,0,0,0,0,0,0,0,0,0,0,0,0,0,0,0,0,0,0,0,0,0,0,0,0,0,0,0,0,0,0,0,0,0,0,0,0,0,0,0,0,0,0,0,0,0,0,0,0,0,0,0,0,0,0,0,0,0,0,0,0,0,0,0,0,0,0,0,0,0,0,0,0,0,0,0,0,0,0,0,0,0,0,0,0,0,0,0,0,0,0,0,0,0,0,0,0,0,0,0,0,0,0,0,0,0,0,0,0,0,0,0,0,0,0,0,0,0,0,0,0,0,0,0,0,0,0,0,0,0,0,0,0,0,0,0,0,0,0,0,0,0,0,0,0,0,0,0,0,0,0,0,0,0,0,0,0,0,0,0,0,0,0],\"coloraxis\":\"coloraxis\",\"symbol\":\"circle\"},\"mode\":\"markers\",\"name\":\"0\",\"scene\":\"scene\",\"showlegend\":true,\"x\":[-0.3319767356794064,-0.3153344094018536,2.303518128452659,-0.39406640115597813,-0.22963693797792945,-0.31346489041131614,-0.27254880815832017,-0.24407281540440348,-0.3316367542944245,-0.32422176027679045,-0.33047482714113596,-0.3319726788486326,-0.33195697871359175,0.7158872439352522,-0.36335238405715364,-0.3611088995372222,-0.27206401736688474,-0.33003816997251806,-0.33299430260189544,-0.3939612037516184,-0.4791001855944435,-0.03124422127551932,-0.2768221909646122,-0.29081214223956026,-0.2759938102090599,-0.2766153899358948,-0.33943294790442874,-0.32628718576121496,-0.3303806622298705,0.025802575949601274,-0.3528607990703275,-0.3943322726210211,-0.25106908594944105,-0.3175096929749761,-0.39424405949951913,-0.3072431187113107,-0.3306560485855825,-0.28945737896034374,-0.39420854542965805,-0.25153577308029507,-0.27639647495881947,-0.323094636390668,0.1393032921902323,-0.35503849278764404,-0.31267766843863104,-0.3627745065990784,-0.29079232801500726,-0.27669076988752483,-0.2854546623439225,-0.3319588223502333,-0.2766429921191009,-0.353305309458408,-0.33169358833996876,-0.39431382019159944,-0.5715387300958132,-0.4108009531381248,-0.36256562268409787,-0.28919606080525184,-0.2761653447038521,-0.30603480591833204,-0.24650991891363863,-0.07940654308483942,-0.31343583377870715,-0.07226178053255419,-0.31349939721621994,-0.23411102919458002,-0.3315697215311712,-0.2890659393073447,-0.3914881084920269,0.8606087981625448,-0.31329983311337145,-0.013923614544388709,-0.36079260941141555,-0.3921594324315619,-0.3120457062600902,-0.3097180493700676,-0.35534745170318727,-0.39305109690671447,-0.35736477725640814,-0.30790148914117194,-0.33160779420130043,-0.3300486985098156,-0.23447151150505105,-0.3408124468325534,-0.39378854781538686,-0.33081308992574976,-0.31348042932058534,-0.39430304009750483,-0.3317966297729723,-0.33195306128110896,-0.28905424709548205,-0.23205431222944614,0.033420859669604217,-0.35975105631044046,-0.33156760845024374,-0.38048809963898506,-0.3590801775280839,-0.23589952343303597,-0.4140079819732421,-0.3588308846719476,-0.28071451583472656,3.78213567844838,-0.3938961518016334,0.8543735642863062,-0.39425800045785103,-0.3602141980176045,-0.33149546020965764,-0.33164965026093807,-0.36079260941141555,-0.3938336616310008,-0.31334323538553,-0.33149616316987296,-0.38586416536949836,-0.3316433757202281,-0.32723948556212457,-0.39428697164960813,-0.33085555035689224,0.35161994655107504,-0.3318423632095914,-0.33191280681795043,-0.36436656516818716,-0.3499710658415614,-0.32814627017436493,-0.31345686687549135,-0.39419703951466667,-0.33169093990894827,-0.33181777582665395,-0.29069925186463885,-0.2846579132116318,-0.23566768212025385,-0.3126963566954802,-0.29044052501409245,-0.3934640538254022,-0.4236278920272851,-0.39220375877009456,-0.3590414607641644,-0.3933620423426802,-0.35344871772383124,-0.38930945554674246,-0.3317611155500946,-0.33176034924042386,-0.32489466828604124,0.259140897832169,-0.3938396887703303,-0.2733702114343434,-0.36082692699636565,-0.3309730888655219,0.8861953091645038,-0.2712416331372537,-0.3561447501312341,0.5709287995254394,-0.3568810829606285,-0.35538546484450595,-0.41985112749484044,-0.2763285209025134,0.13220964332390012,-0.27639915718736985,-0.37007601541410284,-0.4193565138411021,-0.39411162045415177,-0.2907731606867055,4.408533496218198,-0.3606935200943896,-0.33139683776055134,-0.33189575889405243,-0.28762193173260486,0.634985419311798,-0.3940526096199916,-0.33443954902258466,-0.3318514859589126,-0.31734875031736565,0.43634186765218885,-0.3118052688151976,-0.34167024720061423,-0.3939106711964404,-0.33180190552137745,-0.4036636959431599,-0.35679675077327366,-0.33167239988126873,-0.09926023574253612,-0.39284716350028465,3.7869845991869298,0.2018712086294069,-0.27307448643297105,-0.3291363746770947,-0.3157923218056092,-0.3642526134178253,0.08176354497733618,-0.33081258771989647,-0.39342717095982255,-0.36341877539805967,-0.3183952809122607,-0.331917866838928,-0.35327727314397966,-0.35764635920608695,-0.2805961087477362,-0.28392432551604885,-0.32746895137166343,-0.22747629059848035,-0.3641593332318168,-0.39412893785270636,-0.31511998926957574,-0.28993461197998416,-0.31296047471850325,-0.3564806809095573,-0.33194518807739903,-0.3319269291687188,-0.28432390433768207,-0.35278285481457133,-0.36028854108118974,-0.3316438717698268,3.985434548417453,-0.4023330725545244,-0.36047697274372703,-0.3195417995124357,-0.2785970642956828,-0.28350532658737493,-0.29046772974921087,-0.13531686259338552,-0.290719636603325,-0.3459206280551403,-0.33111874806638275,-0.20500205966860563,2.2358494819936,-0.3599685395898371,-0.27136865243229674,1.0472993131387602,-0.3597318797615939,-0.3643660361772827,-0.40534501340998463,-0.17166907561683784,-0.3581299121358156,-0.3630873224537732,-0.3248348202512002,-0.3528553051542427,-0.393602952207344,-0.28796915278911617,-0.3595784319745239,-0.34639183178690014,-0.35271708327902945,-0.19167323035282835,-0.19096517732820256,-0.34347859883546034,-0.27426039193377727,0.5192371457843539,-0.14344262575379824,-0.40464063892272517,-0.3316477898755473,-0.4050960937765097,-0.3644828503436784,0.573515240470882,-0.35333152562291936,-0.3311315970131744,-0.30958375780755043,-0.30071448461531425,-0.3911721934199917,-0.39382984342350846,3.7992110194856714,0.1026401102326924,-0.3913718193048819,-0.33051837444767335,-0.33134169752500925,-0.2725814535407791,-0.33185919333910424,-0.38546887086815806,-0.24570982792030363,-0.09334803006321304,-0.38122441046159133,-0.3311383321713949,-0.32421190451800025,-0.3904029595583906,-0.329579937674575,-0.3610678972490727,-0.3752828675375146,-0.3119819374414018,3.7825268946698185,-0.09825479404684746,-0.3267783665056439,-0.3390595086396982,-0.27679779725197623,3.7923857873502693,3.793628657517151,-0.25350327397013966,-0.36100382687417226,-0.3703248355695894,2.4987584370918494,-0.3300255203244242,-0.2911154566628614],\"y\":[1.0332464929395384,1.0334807683739502,1.5533172714623504,1.128827427305576,1.5112299898938113,0.7366493285836826,0.5596165197108475,1.7724495413869812,1.0332472546753988,1.033524732718313,1.0333003797485667,1.033246297514745,1.0332465198099028,0.607345611163672,0.889635350215516,1.5545789461848718,0.48476871332388277,1.033234204608949,0.952526318708889,1.1288312016695194,2.4865611461257675,0.8655291247970679,0.7363290987548556,0.8562050862280728,1.6750289060403603,1.6750066044624825,0.4782081569292711,1.0331641809188892,1.0332369207232375,1.0460832101853905,0.9518135312754828,1.1288328918052588,0.08920141387144448,1.5287622763601405,1.1288292373155813,1.0330426817803928,1.0332256761403773,0.3984012016861607,1.1288335805917022,0.08925287125243864,1.6750144588843676,1.0328831567726837,1.0551167192260875,1.4261817416550364,0.7366462004877615,0.8896590710349362,0.8562168321569297,1.674995715724521,0.856067333628558,1.033247135678181,1.6749987939685902,0.9517839424277674,1.0332430116570832,1.1288335545395811,3.4850854682330556,1.786846875059779,0.8928836012285206,0.8562059028321298,1.674988650782794,0.7362489000881559,1.772582870771538,0.7834107521964621,0.7366503711028113,1.122280896111119,0.7366559337011126,1.4041460590575967,1.0332324515088656,0.8561280116274629,1.1286730437842407,0.8300082310944775,0.736642974367154,0.6069768397568142,1.5545766539994785,1.128859700346058,0.7365633496697923,0.7364407070184555,1.3997348518518105,1.128784059416663,1.5034964441790215,1.0327462538431225,1.0332294941343532,1.0332474671744623,1.4978749652023287,0.9517977281018251,1.1288182999247776,1.0332268618333977,0.7366494530810618,1.1288318952695404,1.0332386326310834,1.033247342378828,0.8562791925353508,0.5312157972087155,1.7657895338334868,1.5545771948898983,1.0332611719906297,1.1283065819478648,1.5546244538715157,1.497958427799798,1.8200515576052385,1.5544553920040511,1.7630398180629785,1.6821883443295116,1.1288280795329302,1.7150054960160916,1.1288329292584827,1.554576946270079,1.0332374756960583,1.0332295837564043,1.5545766539994785,1.1288098611333124,0.7366550574602247,1.0332412288425956,0.5338944136595127,1.033239357102101,1.0329726998104918,1.1288311077555322,1.0331885095438056,0.8570901687508116,1.0332424478940918,1.033246525242716,1.4594435564238128,0.5439919014137713,1.033042917801804,0.7366502984749538,1.128831364921736,1.0332431066797938,1.0332372373866596,0.8561826607507756,0.5510458381779249,1.4979585449489417,1.03325623529247,0.8562059750838207,1.1287958416084645,1.811323496861637,1.12883423941147,1.5545779039992569,1.1287995016651367,1.5545809784976272,1.128672097547199,1.03323976217136,1.0332347510149138,1.032818573663287,0.5275502797331554,1.1288232852038953,0.8554778862506247,1.5545686025645629,1.0332108910141782,1.7518595605629035,0.5595354842702266,1.5034948633172032,1.7735814106396908,1.3997343881662387,1.3997130275069833,1.8291540326171751,1.6749964365227912,1.0158001816450808,1.6750014737850467,1.5292995743991904,1.8291717787958903,1.1288343251278021,0.8562056487648596,3.035251947923511,1.5545518373755614,1.033234390419844,1.033246533857012,1.5115428714066614,1.519285189478343,1.1288245120509182,0.4781170792852039,1.0332402564036585,0.6638384596060087,1.0437624989302439,0.7366556766919223,1.3994685368639197,1.706056121996714,1.0332384433431951,1.636414757659081,1.4052190949755123,1.0332473263535444,0.5597043000901782,1.1287879662373481,1.6821065621700573,1.3993281325629843,1.6749904247429879,1.0332051785757561,1.222689212990572,1.4594442348044068,1.0139902326677686,1.033185958899392,1.128831265717804,1.4594059503822274,1.033119965922077,1.0332458770521187,0.9517842663231565,1.5034921384719562,-0.0995596681532373,0.5973029050977371,1.0332499994895852,1.4977167362942327,0.8533067357269142,1.1288231375119735,1.5961566017742777,0.856163036069909,1.494656876658724,1.3997214735041041,1.0332455788128465,1.033244869890095,0.8561079039474536,1.559224659927268,1.5545483623217013,1.033237975272649,1.71691969120926,1.6364624989219414,1.554547057733691,0.6056057204933307,1.031668443179338,1.36022845600383,0.8562107459629479,1.033345864943217,0.8561894315440383,1.7657513060553147,1.033219987260129,1.5955213692619643,0.5118750028554571,1.459168272527902,0.559599007146925,1.567090399024257,0.782645449295362,1.4594394833081497,1.6364873240006708,0.848978411785605,0.8408631509698503,1.4594314828566763,1.0328207209431162,0.9517762175177787,1.128824958885371,0.8561408003644546,1.5544906342967217,0.8689200579296542,0.9517504860479574,1.0260041383452214,1.6340011261780538,4.021378960074265,1.4191221072944096,1.7196226599615578,0.9593272185783307,1.636479280367403,1.0332439728383338,1.6364867851659437,1.459440495929061,1.0147197338220035,0.9517832064261862,1.0332195262544446,1.5960551485145824,1.7640313735801756,1.1286598258883203,1.1288304586025726,1.6822042243697097,1.0249694983733826,1.1289391102053452,1.0331624141451592,1.0332322738846753,0.5596095512964816,1.0332507102544657,1.1288098933835296,1.0291804853880968,0.7444322940146876,1.128621171886181,1.0332663437000538,1.0332522799812347,1.1288320124954216,1.0332233648306928,1.5545742791577273,0.5894170857367202,0.7366459279419633,1.6821785658220716,0.8562986763968197,1.033228399814248,0.4781830910776118,1.6749999780522955,1.6826413586332982,1.6826859514097707,0.5596263612678208,1.5545768274526746,1.7989202277859313,0.6747404123079906,1.0331459964000893,0.8562045566504775],\"z\":[-0.6822221473421164,-0.6828491142772134,-0.6929484531901403,-0.5177355394270888,-0.25746979895257954,-0.33877691060115633,-0.002594696005188078,-0.6498756688386342,-0.6822341511886293,-0.6825480918152843,-0.6822852731159108,-0.6822222497036412,-0.6822228414318011,-0.596854596295713,-0.4333586199053965,-0.08868748034076343,-0.5829033547117669,-0.6822872689480148,-0.1824021934642318,-0.5177399609126738,-1.109546056763649,-0.3569588179903993,-0.33999025781055975,-0.34604687736416856,-0.6273532204087202,-0.6273270951842651,-0.3276600736032683,-0.6824040316204428,-0.682275872661208,-0.6972597433603257,-0.18156719731334897,-0.5177273634040472,0.11517919425622374,-0.23352816114447236,-0.5177297080845161,-0.683043616639633,-0.6822640254542722,-0.4702429810945122,-0.5177318141425261,0.11518517843022122,-0.6273362962612402,-0.6824591566696367,-0.6039176156002969,-0.11473423618906912,-0.33880372763556504,-0.4333835053389948,-0.3460499156360875,-0.6273222912342594,-0.3462061053982469,-0.6822229002516521,-0.6273245719685866,-0.18154578820676492,-0.6822313219630822,-0.517728139102749,-1.532765266052108,-0.7670860420095875,-0.0019032324635560758,-0.3461033764761139,-0.6273391953219865,-0.33895588999591864,-0.6498173598410805,-0.4306861445134297,-0.3387781318621085,-0.5276451120193751,-0.3387770278160949,-0.6074320303499282,-0.6822335293419046,-0.3460923450185037,-0.5177945623108468,-0.3809491791828522,-0.33878139446569017,-0.5713400002238708,-0.08869804795950191,-0.5178084656691325,-0.33880919889370764,-0.33886582849349484,-0.6023241511649673,-0.5177622649344762,-0.09404137487956091,-0.6829614216576063,-0.68223161108028,-0.6822895526012609,-0.29116792866619584,-0.1819840392526369,-0.5177434010649985,-0.6822587880347754,-0.3387763938036639,-0.5177281832683361,-0.682226854785191,-0.6822231423915056,-0.3461229678161753,-0.5680868514020617,-0.7046910896255891,-0.08873446415612614,-0.6822393431157063,-0.5181047763553911,-0.08876729594353143,-0.2911348297268791,-0.7670384315818618,-0.08874219726143434,-0.6931909036559175,0.30946557184056234,-0.5177416046014336,-0.6747471144704851,-0.5177299599851917,-0.0887182695457384,-0.6822371222002276,-0.6822301699080047,-0.08869804795950191,-0.5177401418289713,-0.3387822964237734,-0.6822378478040679,-0.23377219829207058,-0.6822323419493359,-0.6823325651960732,-0.5177285860139552,-0.6822496427440856,-0.36861867767846557,-0.682226023060651,-0.6822243823309122,-0.21044246569156377,-0.3863751004877951,-0.6823149889328693,-0.33877738414189446,-0.5177317724071079,-0.6822314332776119,-0.682225838787487,-0.346046330689174,-0.5846195042924618,-0.2911429350290044,-0.682896200188361,-0.3460600094288332,-0.5177502242378546,-0.7834414385983728,-0.5178018318166319,-0.08875934207548479,-0.5177545118179799,-0.08895491716800294,-0.5178703201002314,-0.6822283185471244,-0.6822273437241281,-0.6823835006672565,-0.01472037041719606,-0.517742614677629,-0.3465095564475798,-0.08869524249301904,-0.6822500185918552,-0.6851611897526846,-0.002624067716564617,-0.09408358854782935,-0.8934418395211702,-0.6022705967655063,-0.6023184642013517,-0.7557168466787334,-0.6273350631379017,-0.6949166426751957,-0.6273336075411254,-0.21412929265662475,-0.7557376354724545,-0.5177353417094755,-0.346048348673683,4.354440067926473,-0.08869654228789699,-0.6822399435091244,-0.6822249783358787,-0.25551099989003023,-0.20699844153701036,-0.5177354375475338,-0.32781593844673385,-0.6822252670514111,-0.001906528005345368,-0.711107146308786,-0.3388360330380293,-0.602747706578448,-0.5685255586600965,-0.6822266330435458,-0.5466688032581317,0.00021439383943878265,-0.682232922924475,-0.008653005081124274,-0.5177701547876437,0.30931288563548975,-0.6216672667935229,-0.6274472958592089,-0.6823129039639154,-0.266091930136554,-0.21044657358264324,-0.6927963746141732,-0.6822506306280525,-0.517758589867105,-0.2104679892434921,-0.6826703031659054,-0.6822240763925425,-0.1815468302747914,-0.09403069850959118,0.14408188302960945,-0.5682429369313851,-0.6823799875898102,-0.29138015522663724,-0.48125325153967086,-0.5177325020610035,-0.35368039018280073,-0.34606906349284894,-0.05060088622554442,-0.6022819734678488,-0.6822230643794213,-0.6822235591909123,-0.34625363157299505,-0.1154469915614708,-0.08870996515351649,-0.6822320484830349,0.42188243646434304,-0.5467247298483865,-0.0887031357700754,0.012477914952463273,-0.6837675486799858,0.16214481293969346,-0.34606001459754204,-0.6890974866342711,-0.34604697330545925,-0.6914597681061593,-0.6822467589622052,-0.31365003978921296,-0.746461040832212,-0.2105407603772546,-0.002632335642983794,0.10920461011808773,-0.3237309907874272,-0.2104416700737841,-0.5466246964567493,-0.3487558209528172,-0.33809182349382116,-0.21048464650414564,-0.682386016102165,-0.18155993125292735,-0.5177512017166424,-0.3461331344988107,-0.08872318165396292,-0.48202852806834273,-0.18155960688319792,-0.6856656008762653,-0.4629807361486537,2.5514317527283943,-0.01749586965928285,0.25325323642582076,-0.19036912013462126,-0.5466476430377489,-0.6822331105808037,-0.5466332659960094,-0.21043780036586396,-0.7100844264687296,-0.1815447272243045,-0.6822462189162475,-0.35385310425277977,-0.6926918869086209,-0.5178029332287052,-0.5177443915669455,0.3088671589835418,-0.6957184529824098,-0.5178517924817029,-0.6822561810912081,-0.6822414426605806,-0.0025921652848563655,-0.6822270876956203,-0.5180317412863399,-0.6844167371403026,-0.34800560333101793,-0.5181419832292932,-0.6822553411268835,-0.6824939826256536,-0.5178641618290545,-0.682301076276896,-0.08868797690481652,-0.17392211713495334,-0.3388279260478293,0.3094538885563513,-0.352778048836298,-0.6823997441424012,-0.32766808184197743,-0.6273194121806753,0.30901771742263423,0.3089654791325544,-0.0032605820898101755,-0.08869071967608676,0.027124157073151887,0.196389720654026,-0.682270080502366,-0.34603619811163633],\"type\":\"scatter3d\"},{\"customdata\":[[\"SHA-256\"],[\"Ethash\"],[\"Scrypt\"],[\"CryptoNight-V7\"],[\"Ethash\"],[\"Equihash\"],[\"Multiple\"],[\"Scrypt\"],[\"X11\"],[\"Scrypt\"],[\"Multiple\"],[\"Scrypt\"],[\"SHA-256\"],[\"Scrypt\"],[\"Scrypt\"],[\"Quark\"],[\"Groestl\"],[\"Scrypt\"],[\"Scrypt\"],[\"Scrypt\"],[\"X11\"],[\"Multiple\"],[\"SHA-256\"],[\"Scrypt\"],[\"Scrypt\"],[\"Scrypt\"],[\"Scrypt\"],[\"Scrypt\"],[\"NeoScrypt\"],[\"Scrypt\"],[\"Scrypt\"],[\"Scrypt\"],[\"Scrypt\"],[\"SHA-256\"],[\"Scrypt\"],[\"Scrypt\"],[\"Scrypt\"],[\"Scrypt\"],[\"HybridScryptHash256\"],[\"Scrypt\"],[\"Scrypt\"],[\"SHA-256\"],[\"Scrypt\"],[\"Scrypt\"],[\"Scrypt\"],[\"Scrypt\"],[\"SHA-256\"],[\"SHA-256\"],[\"SHA-256\"],[\"SHA-256\"],[\"SHA-256\"],[\"X11\"],[\"Scrypt\"],[\"Lyra2REv2\"],[\"Scrypt\"],[\"SHA-256\"],[\"CryptoNight\"],[\"CryptoNight\"],[\"Scrypt\"],[\"Scrypt\"],[\"Scrypt\"],[\"Scrypt\"],[\"Scrypt\"],[\"Scrypt\"],[\"Stanford Folding\"],[\"Multiple\"],[\"QuBit\"],[\"Scrypt\"],[\"Scrypt\"],[\"M7 POW\"],[\"Scrypt\"],[\"SHA-256\"],[\"Scrypt\"],[\"X11\"],[\"Lyra2RE\"],[\"SHA-256\"],[\"X11\"],[\"Scrypt\"],[\"Scrypt\"],[\"Ethash\"],[\"Blake2b\"],[\"X11\"],[\"SHA-256\"],[\"Scrypt\"],[\"1GB AES Pattern Search\"],[\"Scrypt\"],[\"SHA-256\"],[\"X11\"],[\"Dagger\"],[\"Scrypt\"],[\"X11GOST\"],[\"Scrypt\"],[\"X11\"],[\"Scrypt\"],[\"X11\"],[\"Equihash\"],[\"CryptoNight\"],[\"SHA-256\"],[\"Multiple\"],[\"Scrypt\"],[\"SHA-256\"],[\"Scrypt\"],[\"Lyra2Z\"],[\"Ethash\"],[\"Equihash\"],[\"Scrypt\"],[\"X11\"],[\"X11\"],[\"CryptoNight\"],[\"Scrypt\"],[\"CryptoNight\"],[\"Lyra2RE\"],[\"X11\"],[\"CryptoNight-V7\"],[\"Scrypt\"],[\"X11\"],[\"Equihash\"],[\"Scrypt\"],[\"Lyra2RE\"],[\"Dagger-Hashimoto\"],[\"Scrypt\"],[\"NIST5\"],[\"Scrypt\"],[\"SHA-256\"],[\"Scrypt\"],[\"CryptoNight-V7\"],[\"Argon2d\"],[\"Blake2b\"],[\"Cloverhash\"],[\"CryptoNight\"],[\"X11\"],[\"Scrypt\"],[\"Scrypt\"],[\"X11\"],[\"X11\"],[\"CryptoNight\"],[\"Time Travel\"],[\"Scrypt\"],[\"Keccak\"],[\"X11\"],[\"SHA-256\"],[\"Scrypt\"],[\"Scrypt\"],[\"Scrypt\"],[\"Scrypt\"],[\"Scrypt\"],[\"Scrypt\"],[\"CryptoNight\"],[\"Equihash\"],[\"X11\"],[\"NeoScrypt\"],[\"Equihash\"],[\"Dagger\"],[\"Scrypt\"],[\"X11\"],[\"NeoScrypt\"],[\"Ethash\"],[\"NeoScrypt\"],[\"Multiple\"],[\"CryptoNight\"],[\"CryptoNight\"],[\"Ethash\"],[\"X11\"],[\"CryptoNight-V7\"],[\"Scrypt\"],[\"BLAKE256\"],[\"X11\"],[\"NeoScrypt\"],[\"NeoScrypt\"],[\"Scrypt\"],[\"X11\"],[\"SHA-256\"],[\"C11\"],[\"CryptoNight\"],[\"SkunkHash\"],[\"CryptoNight\"],[\"Scrypt\"],[\"Dagger\"],[\"Lyra2REv2\"],[\"Scrypt\"],[\"Scrypt\"],[\"X11\"],[\"Ethash\"],[\"CryptoNight\"],[\"Scrypt\"],[\"IMesh\"],[\"Equihash\"],[\"Lyra2Z\"],[\"X11\"],[\"CryptoNight\"],[\"NIST5\"],[\"Lyra2RE\"],[\"Tribus\"],[\"Lyra2Z\"],[\"CryptoNight\"],[\"CryptoNight Heavy\"],[\"CryptoNight\"],[\"Jump Consistent Hash\"],[\"CryptoNight\"],[\"X16R\"],[\"HMQ1725\"],[\"X11\"],[\"Scrypt\"],[\"CryptoNight-V7\"],[\"Cryptonight-GPU\"],[\"XEVAN\"],[\"CryptoNight Heavy\"],[\"SHA-256\"],[\"X11\"],[\"X16R\"],[\"Equihash\"],[\"Lyra2Z\"],[\"SHA-256\"],[\"CryptoNight\"],[\"Blake\"],[\"Blake\"],[\"Equihash\"],[\"Exosis\"],[\"Scrypt\"],[\"Equihash\"],[\"Equihash\"],[\"QuBit\"],[\"SHA-256\"],[\"X13\"],[\"SHA-256\"],[\"Scrypt\"],[\"NeoScrypt\"],[\"Blake\"],[\"Scrypt\"],[\"SHA-256\"],[\"Scrypt\"],[\"Groestl\"],[\"Scrypt\"],[\"Scrypt\"],[\"Multiple\"],[\"Equihash+Scrypt\"],[\"Ethash\"],[\"CryptoNight\"],[\"Equihash\"]],\"hovertemplate\":\"<b>%{hovertext}</b><br><br>class=%{marker.color}<br>pc 1=%{x}<br>pc 2=%{y}<br>pc 3=%{z}<br>Algorithm=%{customdata[0]}<extra></extra>\",\"hovertext\":[\"Bitcoin\",\"Ethereum\",\"Litecoin\",\"Monero\",\"Ethereum Classic\",\"ZCash\",\"DigiByte\",\"ProsperCoin\",\"Spreadcoin\",\"Argentum\",\"MyriadCoin\",\"MoonCoin\",\"ZetaCoin\",\"SexCoin\",\"Quatloo\",\"QuarkCoin\",\"Riecoin\",\"Digitalcoin \",\"Catcoin\",\"CannaCoin\",\"CryptCoin\",\"Verge\",\"DevCoin\",\"EarthCoin\",\"E-Gulden\",\"Einsteinium\",\"Emerald\",\"Franko\",\"FeatherCoin\",\"GrandCoin\",\"GlobalCoin\",\"GoldCoin\",\"Infinite Coin\",\"IXcoin\",\"KrugerCoin\",\"LuckyCoin\",\"Litebar \",\"MegaCoin\",\"MediterraneanCoin\",\"MinCoin\",\"NobleCoin\",\"Namecoin\",\"NyanCoin\",\"RonPaulCoin\",\"StableCoin\",\"SmartCoin\",\"SysCoin\",\"TigerCoin\",\"TerraCoin\",\"UnbreakableCoin\",\"Unobtanium\",\"UroCoin\",\"ViaCoin\",\"Vertcoin\",\"WorldCoin\",\"JouleCoin\",\"ByteCoin\",\"DigitalNote \",\"MonaCoin\",\"Gulden\",\"PesetaCoin\",\"Wild Beast Coin\",\"Flo\",\"ArtByte\",\"Folding Coin\",\"Unitus\",\"CypherPunkCoin\",\"OmniCron\",\"GreenCoin\",\"Cryptonite\",\"MasterCoin\",\"SoonCoin\",\"1Credit\",\"MarsCoin \",\"Crypto\",\"Anarchists Prime\",\"BowsCoin\",\"Song Coin\",\"BitZeny\",\"Expanse\",\"Siacoin\",\"MindCoin\",\"I0coin\",\"Revolution VR\",\"HOdlcoin\",\"Gamecredits\",\"CarpeDiemCoin\",\"Adzcoin\",\"SoilCoin\",\"YoCoin\",\"SibCoin\",\"Francs\",\"BolivarCoin\",\"Omni\",\"PizzaCoin\",\"Komodo\",\"Karbo\",\"ZayedCoin\",\"Circuits of Value\",\"DopeCoin\",\"DollarCoin\",\"Shilling\",\"ZCoin\",\"Elementrem\",\"ZClassic\",\"KiloCoin\",\"ArtexCoin\",\"Kurrent\",\"Cannabis Industry Coin\",\"OsmiumCoin\",\"Bikercoins\",\"HexxCoin\",\"PacCoin\",\"Citadel\",\"BeaverCoin\",\"VaultCoin\",\"Zero\",\"Canada eCoin\",\"Zoin\",\"DubaiCoin\",\"EB3coin\",\"Coinonat\",\"BenjiRolls\",\"ILCoin\",\"EquiTrader\",\"Quantum Resistant Ledger\",\"Dynamic\",\"Nano\",\"ChanCoin\",\"Dinastycoin\",\"DigitalPrice\",\"Unify\",\"SocialCoin\",\"ArcticCoin\",\"DAS\",\"LeviarCoin\",\"Bitcore\",\"gCn Coin\",\"SmartCash\",\"Onix\",\"Bitcoin Cash\",\"Sojourn Coin\",\"NewYorkCoin\",\"FrazCoin\",\"Kronecoin\",\"AdCoin\",\"Linx\",\"Sumokoin\",\"BitcoinZ\",\"Elements\",\"VIVO Coin\",\"Bitcoin Gold\",\"Pirl\",\"eBoost\",\"Pura\",\"Innova\",\"Ellaism\",\"GoByte\",\"SHIELD\",\"UltraNote\",\"BitCoal\",\"DaxxCoin\",\"AC3\",\"Lethean\",\"PopularCoin\",\"Photon\",\"Sucre\",\"SparksPay\",\"GunCoin\",\"IrishCoin\",\"Pioneer Coin\",\"UnitedBitcoin\",\"Interzone\",\"TurtleCoin\",\"MUNcoin\",\"Niobio Cash\",\"ShareChain\",\"Travelflex\",\"KREDS\",\"BitFlip\",\"LottoCoin\",\"Crypto Improvement Fund\",\"Callisto Network\",\"BitTube\",\"Poseidon\",\"Aidos Kuneen\",\"Bitrolium\",\"Alpenschillling\",\"FuturoCoin\",\"Monero Classic\",\"Jumpcoin\",\"Infinex\",\"KEYCO\",\"GINcoin\",\"PlatinCoin\",\"Loki\",\"Newton Coin\",\"MassGrid\",\"PluraCoin\",\"Motion\",\"PlusOneCoin\",\"Axe\",\"HexCoin\",\"Webchain\",\"Ryo\",\"Urals Coin\",\"Qwertycoin\",\"Project Pai\",\"Azart\",\"Xchange\",\"CrypticCoin\",\"Actinium\",\"Bitcoin SV\",\"FREDEnergy\",\"Universal Molecule\",\"Lithium\",\"PirateCash\",\"Exosis\",\"Block-Logic\",\"Beam\",\"Bithereum\",\"SLICE\",\"BLAST\",\"Bitcoin Rhodium\",\"GlobalToken\",\"SolarCoin\",\"UFO Coin\",\"BlakeCoin\",\"Crypto Escudo\",\"Crown Coin\",\"SmileyCoin\",\"Groestlcoin\",\"Bata\",\"Pakcoin\",\"JoinCoin\",\"Vollar\",\"Reality Clash\",\"Beldex\",\"Horizen\"],\"legendgroup\":\"1\",\"marker\":{\"color\":[1,1,1,1,1,1,1,1,1,1,1,1,1,1,1,1,1,1,1,1,1,1,1,1,1,1,1,1,1,1,1,1,1,1,1,1,1,1,1,1,1,1,1,1,1,1,1,1,1,1,1,1,1,1,1,1,1,1,1,1,1,1,1,1,1,1,1,1,1,1,1,1,1,1,1,1,1,1,1,1,1,1,1,1,1,1,1,1,1,1,1,1,1,1,1,1,1,1,1,1,1,1,1,1,1,1,1,1,1,1,1,1,1,1,1,1,1,1,1,1,1,1,1,1,1,1,1,1,1,1,1,1,1,1,1,1,1,1,1,1,1,1,1,1,1,1,1,1,1,1,1,1,1,1,1,1,1,1,1,1,1,1,1,1,1,1,1,1,1,1,1,1,1,1,1,1,1,1,1,1,1,1,1,1,1,1,1,1,1,1,1,1,1,1,1,1,1,1,1,1,1,1,1,1,1,1,1,1,1,1,1,1,1,1,1,1,1,1,1,1,1,1,1,1,1,1,1,1,1,1,1,1,1,1,1,1,1,1,1],\"coloraxis\":\"coloraxis\",\"symbol\":\"diamond\"},\"mode\":\"markers\",\"name\":\"1\",\"scene\":\"scene\",\"showlegend\":true,\"x\":[-0.14647302972204176,-0.1533698441314083,-0.16381712253626313,-0.1516913966259544,-0.15181462536195164,-0.14279953847016363,0.16098852781636125,-0.16496186656258652,-0.22725882297569228,-0.16457903428856255,-0.09205689091126593,2.5519900829418476,-0.1435617030601701,-0.16183822046792223,-0.1643834665187506,-0.23374232316911692,-0.1954287377457205,-0.16443188764411026,-0.16494415006622778,-0.16503047440537494,-0.2273480655877281,0.18474022458705128,0.2308787957558305,0.0833760102112718,-0.164777065268684,-0.16038833625839982,-0.16471648293092883,-0.16508741008392383,-0.16777884569891716,-0.1443384382314363,-0.163884046015091,-0.16416123319565037,1.5815697167010871,-0.146434437242059,-0.1614544223483513,-0.16480347497472264,-0.1651578302626146,-0.16441804732370086,-0.14289221752555534,-0.1650392641124794,-0.030164918479186655,-0.1465119712604769,-0.15871133028471013,-0.1650187898106666,-0.16311633709364565,-0.16450621467302676,-0.13368176560796183,-0.14597641946028111,-0.1462633120346481,-0.14624653490489062,-0.14683619466774347,-0.227521683752234,-0.16473557040494774,-0.19064931489375223,-0.16184301953415095,-0.14604363617777966,3.851383405758116,0.4547208355584345,-0.16360475911422334,-0.14822801042392503,-0.16232519665348413,-0.16516004483429494,-0.1621903319280867,-0.1484324421455127,-0.12378762895061678,-0.1260183066847514,-0.1840242526346297,-0.1650332519263784,-0.03815469579953071,-0.12083996142465399,-0.16516891691954577,-0.14653972141248128,0.48580908755193974,-0.2269096659528584,-0.15566199198606984,-0.14628003080676846,-0.22719421413986898,-0.16329576920297054,-0.1624890385445101,-0.15443634913860993,0.36676415667826395,-0.22722954689132394,-0.14643555848759854,-0.1611319809339814,-0.14728524886738564,-0.16373417088457423,0.27151001960209176,-0.22639149205873763,-0.15633407971577526,-0.163981844963989,-0.1528016622186815,-0.1649591485151079,-0.22719287904030958,-0.16516897533909666,-0.22734270244390306,-0.22547156783386593,0.29983655033628437,-0.1466953216578985,-0.1061174033731232,-0.16233963997863993,-0.14665399732898599,-0.16483287839287555,-0.1537501220880625,-0.15417881419991358,-0.14282113425665566,-0.09202549906251252,-0.2139419982958258,-0.22517417644545595,0.29983085544270593,-0.16515074343196992,0.29996141939424814,-0.15620157856142683,0.48661373279447334,-0.15045839868304833,-0.16511906554719447,-0.22008961456319037,-0.14283347347935732,-0.16325473382099973,-0.15592030009721713,-0.15788641969230835,-0.13609474196428364,-0.1897418988610944,-0.16468206164390414,-0.11306816490869954,-0.16450451522880663,-0.1503158059487075,-0.165012121581035,-0.03314710635247536,-0.15074756566947287,0.3359057402290224,-0.2263999710721126,-0.16482315369409323,-0.164587093576429,-0.22679402851220182,-0.22737067171963915,0.3002252611381782,-0.15101940239886322,3.2400042202337245,-0.11951275187319377,-0.21825811229616857,-0.1464721947613817,-0.09087729597763894,1.5801317126335634,-0.1649209092266588,-0.16437346676692824,-0.16407482987600744,-0.16406177365591817,0.30040848587469715,0.06916099877983606,-0.18181291045232215,-0.17246115995741199,-0.14267969961070504,-0.15509513655566137,-0.1632529447372002,-0.22292142331725628,-0.17230682946224152,-0.1525471124841632,-0.17240685862628582,-0.1162635996352976,1.136450759450355,0.2998136919074924,-0.07756722815525559,-0.22266442474024997,-0.13944382883723302,-0.08142027829887331,1.0911779801563233,-0.2273447011760538,-0.17245868581716148,-0.1655062129592963,-0.1641729049119865,-0.22727020075156235,-0.14645160753096312,-0.1973294446645441,8.024176856794268,-0.15938579550865178,0.3036824143028196,0.027622937246399894,-0.15459851029179755,-0.1762275270370332,-0.16474592469621135,0.14192063908961008,-0.2214196714502468,-0.10566832313111633,0.30772324059858525,-0.16498259085142497,-0.15594747542427964,-0.14167207024188927,-0.15153744960202883,-0.2264407034717438,0.29999599668077526,-0.18980114178807408,-0.1560470647808329,-0.1601216668825596,-0.15383435164058099,0.3039169345656319,0.5748806128414787,2.105623475634696,-0.144881847370844,0.31358180919198736,-0.1937153473640638,-0.15857023451060628,-0.22732688596440054,-0.16500715505906458,-0.13932823880184245,-0.16061045300585572,-0.1470878674275372,3.09387626213667,-0.10635161810310052,-0.22729830322131261,-0.19314409024096316,-0.03757384478498055,-0.1532331277013364,-0.14647223228995393,0.3796304379762412,-0.13590871551599198,-0.13629988499557136,-0.2680740355900249,-0.15877899218969418,-0.163901115481993,-0.14074313050435105,-0.14251274072590758,-0.18323658891210604,-0.1457493382248608,-0.10997534641679857,-0.14461900009742795,0.5296495427259937,-0.09772115171508762,-0.08685498516425746,-0.1485828804624078,-0.14626268310354928,0.5496726865982124,-0.19499029228509046,-0.16508381737749822,-0.16304257694991844,-0.126752487295944,-0.1321847801470515,-0.1542119300826759,0.3215412922089856,-0.14280059438078982],\"y\":[-1.360426948125169,-2.019554957186636,-1.06384585745231,-2.1943632289474997,-2.019642381029474,-2.140038432455057,-1.8348296837089118,-1.0638439625735785,-0.968254779235474,-1.063859553667079,-1.830950365603066,-1.2282425724555095,-1.360423973969264,-1.0638880713188066,-1.0638770894881462,-0.4605891482301647,-1.207462479198586,-1.0638434751724448,-1.0638433269257184,-1.0638410635006255,-0.9682566171277481,-1.8309459391104226,-1.3611960023096552,-1.0641267723090329,-1.0638373321120786,-1.0638700103594037,-1.0638426606609312,-1.0638418076026377,-1.6189281119753214,-1.0640585732581953,-1.063838710368798,-1.0638501871345185,-1.0629566999597329,-1.3604255634706133,-1.0638848183066034,-1.0638375976465975,-1.0638375919176195,-1.0638387732875016,-2.2195038449399473,-1.0638392373355274,-1.0692235162824217,-1.360428345303539,-1.0638352174153567,-1.0638460049153655,-1.0639339286983756,-1.0638482111783814,-1.360559319794637,-1.3604268708855631,-1.3604337460250402,-1.3604590606838947,-1.3604258262434086,-0.968250570065433,-1.0638372073550324,-1.2562177559400025,-1.0638987607343053,-1.360427910351277,-2.2963543636381623,-2.2992332120951553,-1.0638526422681196,-1.0643750350725807,-1.0638485173983083,-1.0638385429902375,-1.0638393232510452,-1.0639185990556785,-2.063868372568179,-1.8308048310534515,-1.5530687855751313,-1.0638345007716814,-1.0661001010778892,-2.1711622115472453,-1.063837491466734,-1.3604293409476205,-1.1032261747586816,-0.9682511180826238,-2.23026231308514,-1.3604423663823888,-0.9682531431593635,-1.0639132495683568,-1.063911421935619,-2.019604752611735,-2.152068438388384,-0.968251000779159,-1.360425603699636,-1.063835451607706,-2.258120592670437,-1.0638428812408243,-1.360165332836374,-0.9682673093988162,-2.159953282225375,-1.0639092964325836,-2.1541751141724537,-1.0638431830372317,-0.9682558233210066,-1.0638374914962532,-0.968261198815346,-1.9075326017917786,-2.2979769465406794,-1.3604272414816811,-1.8309092281930943,-1.0638719608901563,-1.3604263741930402,-1.0638454727667634,-2.221976399908947,-2.019601854711769,-2.1400392072874608,-1.068032924595834,-0.968104354241845,-0.9683218437770387,-2.297984653041662,-1.0638382681148595,-2.297982696618193,-2.230243623788828,-1.010829786319202,-2.1944451633123925,-1.0638375719353665,-0.9686659317015902,-2.140036921941315,-1.0638365918350294,-2.230241034010851,-2.1494561539135257,-1.0655219839506587,-0.6973633732323846,-1.0638438266327588,-1.3609191366988231,-1.0638623361344735,-2.194385485976179,-2.1228444366214996,-2.1666488803667585,-2.3295914874148793,-2.2980400363790543,-0.9682785258702526,-1.0638378104629191,-1.0638673449998572,-0.9682653835706491,-0.968258042024493,-2.2979930087351206,-2.1339036256931023,-1.0780664817791055,-1.2291686766454857,-0.9686684210584775,-1.3604269181677204,-1.068332736305441,-1.0012176555177725,-1.0638418110547931,-1.0638658184543337,-1.063866015954331,-1.0638655475119145,-2.298010229614244,-2.146741539079595,-0.9678382195325835,-1.618885365211561,-2.140034132772261,-2.1599949735424717,-1.0638365276447252,-0.9683242234785489,-1.618892104293646,-2.0197164029506585,-1.6188866906173969,-1.830904973671036,-2.3259247038795574,-2.297979471714952,-2.0236554037873864,-0.9684514058354338,-2.194605462323692,-1.0642423418817668,-1.339025542941094,-0.9682577240450388,-1.6188811843469475,-1.6189584230856575,-1.0638449822041938,-0.9682572335048382,-1.3604256107199266,-1.2437785301474216,-2.702845405270353,-2.1653965851199524,-2.298061298465172,-1.0637400739684864,-2.1599387530679235,-1.2563932466265462,-1.0638491731251956,-1.0653728953680315,-0.9683726447008122,-2.0222765837382775,-2.2983691767279293,-1.0638447061376324,-2.201041528125242,-2.140031398947618,-2.22208702134483,-0.9682799873027019,-2.29797695471946,-0.6973469125049644,-2.230249183228214,-2.176465446381064,-2.221971987997014,-2.2982329366879317,-2.2122862131677117,-2.358671454275948,-2.1250343899556747,-2.2981589779101483,-1.3144252610165132,-2.089628627498178,-0.9682579032744367,-1.0638463412805448,-2.195113180605525,-2.1011146048170404,-0.5009853359378036,-2.2476166634366144,-1.3604053482422056,-0.9682596058214349,-1.3144579105665235,-2.141432051854815,-2.2220005449286973,-1.3604269195142031,-2.3006179001849656,-2.1831922279455336,-2.183151775596461,-0.22002930201985862,-2.1031222168186487,-1.0638734235957927,-2.1401295623010097,-2.1400348848851825,-1.5531087266788932,-1.3604303095750938,-0.4220844092979045,-1.3604606839721205,-1.1058135256365142,-1.618913427289393,-2.186134653182665,-1.063923996612412,-1.360433723459703,-1.072290154216335,-1.2074610706045437,-1.0638374257769247,-1.063884905188211,-1.8308330822682144,-2.3047022766832126,-2.019601871445145,-2.298146358832133,-2.140038470339935],\"z\":[0.28812920424652827,0.4347560487494911,-0.05535352733609961,0.48691827968026025,0.43471930713397583,0.6319873558301065,0.3967308634583065,-0.055314000764135236,0.10917818457362126,-0.05532423007655773,0.4047765924818052,-0.11716885905903088,0.28802712223138116,-0.055414074093833955,-0.05532754275305563,0.08012072593122854,0.19351932084747267,-0.05533257301413349,-0.055314745394990955,-0.05531218853669281,0.10918166285626298,0.39512667928552314,0.2751285859174428,-0.06391442972206268,-0.05532176803046379,-0.05546822612114413,-0.05532281493404711,-0.05531005506621024,0.2990955076264299,-0.05599003224468171,-0.055352622837756035,-0.05534066645047251,-0.11637467076068445,0.2881275821904013,-0.0554281032826064,-0.055320794329385976,-0.05530844280131091,-0.0553339952065747,0.44856486393886863,-0.05531224711100326,-0.05893779987812326,0.28813084097370234,-0.05553363959169968,-0.055311608259089415,-0.055360354382129634,-0.05532903546155773,0.2877097622490968,0.2881118771889767,0.2881232522151331,0.2881277267921266,0.28814163979974433,0.10918650653716548,-0.05532323945768904,0.28879817960560467,-0.05541177040001176,0.28811442808383164,0.3625422035961672,0.4815237716946942,-0.05535957421166105,-0.055791194960951536,-0.05540500361106481,-0.055308175519687565,-0.05541154249163161,-0.0558752924528839,0.43509287008081055,0.4059313861193759,0.24056432848444947,-0.05531340334901658,-0.05928352948470353,0.6574348971207521,-0.05530807640145821,0.28813200732279404,-0.07012861663145308,0.10916528138707797,0.45609739477251116,0.28812555790013766,0.10917560534907388,-0.05535823241362392,-0.055386719970788624,0.43480317883398684,0.4656902163552282,0.10917640885472348,0.28812762931676367,-0.05544920994418801,0.5058231007611904,-0.05535701382451836,0.27350620797590053,0.1091504540852176,0.4768544836899948,-0.05533510618622807,0.6234082779669311,-0.055314251313246986,0.1091760944686565,-0.05530807435907805,0.10918239160139505,1.2349969115126957,0.48667189246474407,0.2881370118785072,0.4052585141286127,-0.055399814676291056,0.2881353979927257,-0.05531819540714017,0.46341723278645836,0.4347936220986388,0.6319882635089525,-0.05701931981688245,0.10868390165308543,0.10911891829750772,0.48667363121756185,-0.05530855469952516,0.48666868880098196,0.45611246926169424,0.09280199011265756,0.48689167341012596,-0.05530979811631302,0.10901044251359238,0.6319882368967117,-0.05537498380334318,0.456102146418909,0.48962937737788026,-0.055984924796729583,0.02463467640933921,-0.055323781812681855,0.2870630944588141,-0.055326271671421796,0.4868747754989152,0.5406359010127272,0.4825450171810032,0.486035336658159,0.4854271452202057,0.109152991398499,-0.05532006580393841,-0.055322391947378535,0.10916410143450955,0.10918273567801812,0.48666155238421066,0.46673246823979087,-0.17116712437793496,0.14299229519095583,0.10894709465762006,0.28812916915282083,-0.056999424926203975,-0.12866378799641393,-0.05531585852459988,-0.05533014398353322,-0.05534051486462657,-0.0553410636223573,0.4866586070358445,0.6259381941546562,0.10751070542820985,0.2992501876659706,0.631982318958782,0.4768196271444532,-0.055375058999193164,0.10904086390165263,0.29924615465290166,0.4347596354374252,0.2992485596422281,0.4056113558563886,0.46309355561621546,0.486673193984353,0.4329331226995816,0.10905732387236856,0.48653974780621095,-0.0581466040298917,0.16630364749395005,0.10918176680424191,0.2992492658254843,0.29902234264343136,-0.05534129984357668,0.10917907171145536,0.2881281901826038,0.1456603061728517,0.29832224328153506,0.5410786730669456,0.48655468598432094,-0.06204818758608593,0.4767910786693777,0.288330516073751,-0.05532048701721143,-0.06570621855960793,0.10899819100508176,0.4336371420338773,0.48647535746454135,-0.055313129714655615,0.47768345287900765,0.6319466470462083,0.4633622089178868,0.10915470339623164,0.48666633586830815,0.024633451730001893,0.4561081940944556,0.44439517748132973,0.4634192872220302,0.4865808145463824,0.4831583051368155,0.43585341914138387,0.441596841762125,0.48622911967254073,0.3032080110781105,0.3870268236803688,0.1091811815946384,-0.0553119466151503,0.4866371916210844,0.4677792443587572,0.27320258470128256,0.4024083887488295,0.28672627209630563,0.10918052548574549,0.3031946226816385,0.6285977639412035,0.46340403623922055,0.2881291707301604,0.4844181362457369,0.47956459162710674,0.4795701427681723,0.3412423859734289,0.41201794294836547,-0.05534508997293672,0.6319338836611401,0.6319766491620604,0.24054485354629065,0.2881046484956288,-0.00040577077498022134,0.2880713160605484,-0.07113976476159238,0.296650391616273,0.478442676585967,-0.055868969475113064,0.2881232257809278,-0.07853778741372547,0.19350375530367597,-0.055311056063778535,-0.05537272353132528,0.40596262566441615,0.4525297380058779,0.4347947798484368,0.4859491334493221,0.6319874002104181],\"type\":\"scatter3d\"},{\"customdata\":[[\"Proof-of-BibleHash\"],[\"SHA-256 + Hive\"],[\"Proof-of-Authority\"],[\"SHA3-256\"],[\"Leased POS\"]],\"hovertemplate\":\"<b>%{hovertext}</b><br><br>class=%{marker.color}<br>pc 1=%{x}<br>pc 2=%{y}<br>pc 3=%{z}<br>Algorithm=%{customdata[0]}<extra></extra>\",\"hovertext\":[\"BiblePay\",\"LitecoinCash\",\"Poa Network\",\"Fiii\",\"Waves\"],\"legendgroup\":\"3\",\"marker\":{\"color\":[3,3,3,3,3],\"coloraxis\":\"coloraxis\",\"symbol\":\"square\"},\"mode\":\"markers\",\"name\":\"3\",\"scene\":\"scene\",\"showlegend\":true,\"x\":[-0.21710817110125855,-0.41150779525035486,-0.37163867911209564,-0.5867698231251868,-0.39586943247580236],\"y\":[3.1840417710056963,4.296650591048271,3.071915520260158,3.6778982183865305,3.2680843511053044],\"z\":[13.03926716691288,13.666222278330954,12.81495281892329,7.530723190126666,19.085969270992123],\"type\":\"scatter3d\"},{\"customdata\":[[\"TRC10\"]],\"hovertemplate\":\"<b>%{hovertext}</b><br><br>class=%{marker.color}<br>pc 1=%{x}<br>pc 2=%{y}<br>pc 3=%{z}<br>Algorithm=%{customdata[0]}<extra></extra>\",\"hovertext\":[\"BitTorrent\"],\"legendgroup\":\"2\",\"marker\":{\"color\":[2],\"coloraxis\":\"coloraxis\",\"symbol\":\"x\"},\"mode\":\"markers\",\"name\":\"2\",\"scene\":\"scene\",\"showlegend\":true,\"x\":[34.05218603827833],\"y\":[1.7400586154301416],\"z\":[-1.055935036650299],\"type\":\"scatter3d\"}],                        {\"template\":{\"data\":{\"histogram2dcontour\":[{\"type\":\"histogram2dcontour\",\"colorbar\":{\"outlinewidth\":0,\"ticks\":\"\"},\"colorscale\":[[0.0,\"#0d0887\"],[0.1111111111111111,\"#46039f\"],[0.2222222222222222,\"#7201a8\"],[0.3333333333333333,\"#9c179e\"],[0.4444444444444444,\"#bd3786\"],[0.5555555555555556,\"#d8576b\"],[0.6666666666666666,\"#ed7953\"],[0.7777777777777778,\"#fb9f3a\"],[0.8888888888888888,\"#fdca26\"],[1.0,\"#f0f921\"]]}],\"choropleth\":[{\"type\":\"choropleth\",\"colorbar\":{\"outlinewidth\":0,\"ticks\":\"\"}}],\"histogram2d\":[{\"type\":\"histogram2d\",\"colorbar\":{\"outlinewidth\":0,\"ticks\":\"\"},\"colorscale\":[[0.0,\"#0d0887\"],[0.1111111111111111,\"#46039f\"],[0.2222222222222222,\"#7201a8\"],[0.3333333333333333,\"#9c179e\"],[0.4444444444444444,\"#bd3786\"],[0.5555555555555556,\"#d8576b\"],[0.6666666666666666,\"#ed7953\"],[0.7777777777777778,\"#fb9f3a\"],[0.8888888888888888,\"#fdca26\"],[1.0,\"#f0f921\"]]}],\"heatmap\":[{\"type\":\"heatmap\",\"colorbar\":{\"outlinewidth\":0,\"ticks\":\"\"},\"colorscale\":[[0.0,\"#0d0887\"],[0.1111111111111111,\"#46039f\"],[0.2222222222222222,\"#7201a8\"],[0.3333333333333333,\"#9c179e\"],[0.4444444444444444,\"#bd3786\"],[0.5555555555555556,\"#d8576b\"],[0.6666666666666666,\"#ed7953\"],[0.7777777777777778,\"#fb9f3a\"],[0.8888888888888888,\"#fdca26\"],[1.0,\"#f0f921\"]]}],\"heatmapgl\":[{\"type\":\"heatmapgl\",\"colorbar\":{\"outlinewidth\":0,\"ticks\":\"\"},\"colorscale\":[[0.0,\"#0d0887\"],[0.1111111111111111,\"#46039f\"],[0.2222222222222222,\"#7201a8\"],[0.3333333333333333,\"#9c179e\"],[0.4444444444444444,\"#bd3786\"],[0.5555555555555556,\"#d8576b\"],[0.6666666666666666,\"#ed7953\"],[0.7777777777777778,\"#fb9f3a\"],[0.8888888888888888,\"#fdca26\"],[1.0,\"#f0f921\"]]}],\"contourcarpet\":[{\"type\":\"contourcarpet\",\"colorbar\":{\"outlinewidth\":0,\"ticks\":\"\"}}],\"contour\":[{\"type\":\"contour\",\"colorbar\":{\"outlinewidth\":0,\"ticks\":\"\"},\"colorscale\":[[0.0,\"#0d0887\"],[0.1111111111111111,\"#46039f\"],[0.2222222222222222,\"#7201a8\"],[0.3333333333333333,\"#9c179e\"],[0.4444444444444444,\"#bd3786\"],[0.5555555555555556,\"#d8576b\"],[0.6666666666666666,\"#ed7953\"],[0.7777777777777778,\"#fb9f3a\"],[0.8888888888888888,\"#fdca26\"],[1.0,\"#f0f921\"]]}],\"surface\":[{\"type\":\"surface\",\"colorbar\":{\"outlinewidth\":0,\"ticks\":\"\"},\"colorscale\":[[0.0,\"#0d0887\"],[0.1111111111111111,\"#46039f\"],[0.2222222222222222,\"#7201a8\"],[0.3333333333333333,\"#9c179e\"],[0.4444444444444444,\"#bd3786\"],[0.5555555555555556,\"#d8576b\"],[0.6666666666666666,\"#ed7953\"],[0.7777777777777778,\"#fb9f3a\"],[0.8888888888888888,\"#fdca26\"],[1.0,\"#f0f921\"]]}],\"mesh3d\":[{\"type\":\"mesh3d\",\"colorbar\":{\"outlinewidth\":0,\"ticks\":\"\"}}],\"scatter\":[{\"fillpattern\":{\"fillmode\":\"overlay\",\"size\":10,\"solidity\":0.2},\"type\":\"scatter\"}],\"parcoords\":[{\"type\":\"parcoords\",\"line\":{\"colorbar\":{\"outlinewidth\":0,\"ticks\":\"\"}}}],\"scatterpolargl\":[{\"type\":\"scatterpolargl\",\"marker\":{\"colorbar\":{\"outlinewidth\":0,\"ticks\":\"\"}}}],\"bar\":[{\"error_x\":{\"color\":\"#2a3f5f\"},\"error_y\":{\"color\":\"#2a3f5f\"},\"marker\":{\"line\":{\"color\":\"#E5ECF6\",\"width\":0.5},\"pattern\":{\"fillmode\":\"overlay\",\"size\":10,\"solidity\":0.2}},\"type\":\"bar\"}],\"scattergeo\":[{\"type\":\"scattergeo\",\"marker\":{\"colorbar\":{\"outlinewidth\":0,\"ticks\":\"\"}}}],\"scatterpolar\":[{\"type\":\"scatterpolar\",\"marker\":{\"colorbar\":{\"outlinewidth\":0,\"ticks\":\"\"}}}],\"histogram\":[{\"marker\":{\"pattern\":{\"fillmode\":\"overlay\",\"size\":10,\"solidity\":0.2}},\"type\":\"histogram\"}],\"scattergl\":[{\"type\":\"scattergl\",\"marker\":{\"colorbar\":{\"outlinewidth\":0,\"ticks\":\"\"}}}],\"scatter3d\":[{\"type\":\"scatter3d\",\"line\":{\"colorbar\":{\"outlinewidth\":0,\"ticks\":\"\"}},\"marker\":{\"colorbar\":{\"outlinewidth\":0,\"ticks\":\"\"}}}],\"scattermapbox\":[{\"type\":\"scattermapbox\",\"marker\":{\"colorbar\":{\"outlinewidth\":0,\"ticks\":\"\"}}}],\"scatterternary\":[{\"type\":\"scatterternary\",\"marker\":{\"colorbar\":{\"outlinewidth\":0,\"ticks\":\"\"}}}],\"scattercarpet\":[{\"type\":\"scattercarpet\",\"marker\":{\"colorbar\":{\"outlinewidth\":0,\"ticks\":\"\"}}}],\"carpet\":[{\"aaxis\":{\"endlinecolor\":\"#2a3f5f\",\"gridcolor\":\"white\",\"linecolor\":\"white\",\"minorgridcolor\":\"white\",\"startlinecolor\":\"#2a3f5f\"},\"baxis\":{\"endlinecolor\":\"#2a3f5f\",\"gridcolor\":\"white\",\"linecolor\":\"white\",\"minorgridcolor\":\"white\",\"startlinecolor\":\"#2a3f5f\"},\"type\":\"carpet\"}],\"table\":[{\"cells\":{\"fill\":{\"color\":\"#EBF0F8\"},\"line\":{\"color\":\"white\"}},\"header\":{\"fill\":{\"color\":\"#C8D4E3\"},\"line\":{\"color\":\"white\"}},\"type\":\"table\"}],\"barpolar\":[{\"marker\":{\"line\":{\"color\":\"#E5ECF6\",\"width\":0.5},\"pattern\":{\"fillmode\":\"overlay\",\"size\":10,\"solidity\":0.2}},\"type\":\"barpolar\"}],\"pie\":[{\"automargin\":true,\"type\":\"pie\"}]},\"layout\":{\"autotypenumbers\":\"strict\",\"colorway\":[\"#636efa\",\"#EF553B\",\"#00cc96\",\"#ab63fa\",\"#FFA15A\",\"#19d3f3\",\"#FF6692\",\"#B6E880\",\"#FF97FF\",\"#FECB52\"],\"font\":{\"color\":\"#2a3f5f\"},\"hovermode\":\"closest\",\"hoverlabel\":{\"align\":\"left\"},\"paper_bgcolor\":\"white\",\"plot_bgcolor\":\"#E5ECF6\",\"polar\":{\"bgcolor\":\"#E5ECF6\",\"angularaxis\":{\"gridcolor\":\"white\",\"linecolor\":\"white\",\"ticks\":\"\"},\"radialaxis\":{\"gridcolor\":\"white\",\"linecolor\":\"white\",\"ticks\":\"\"}},\"ternary\":{\"bgcolor\":\"#E5ECF6\",\"aaxis\":{\"gridcolor\":\"white\",\"linecolor\":\"white\",\"ticks\":\"\"},\"baxis\":{\"gridcolor\":\"white\",\"linecolor\":\"white\",\"ticks\":\"\"},\"caxis\":{\"gridcolor\":\"white\",\"linecolor\":\"white\",\"ticks\":\"\"}},\"coloraxis\":{\"colorbar\":{\"outlinewidth\":0,\"ticks\":\"\"}},\"colorscale\":{\"sequential\":[[0.0,\"#0d0887\"],[0.1111111111111111,\"#46039f\"],[0.2222222222222222,\"#7201a8\"],[0.3333333333333333,\"#9c179e\"],[0.4444444444444444,\"#bd3786\"],[0.5555555555555556,\"#d8576b\"],[0.6666666666666666,\"#ed7953\"],[0.7777777777777778,\"#fb9f3a\"],[0.8888888888888888,\"#fdca26\"],[1.0,\"#f0f921\"]],\"sequentialminus\":[[0.0,\"#0d0887\"],[0.1111111111111111,\"#46039f\"],[0.2222222222222222,\"#7201a8\"],[0.3333333333333333,\"#9c179e\"],[0.4444444444444444,\"#bd3786\"],[0.5555555555555556,\"#d8576b\"],[0.6666666666666666,\"#ed7953\"],[0.7777777777777778,\"#fb9f3a\"],[0.8888888888888888,\"#fdca26\"],[1.0,\"#f0f921\"]],\"diverging\":[[0,\"#8e0152\"],[0.1,\"#c51b7d\"],[0.2,\"#de77ae\"],[0.3,\"#f1b6da\"],[0.4,\"#fde0ef\"],[0.5,\"#f7f7f7\"],[0.6,\"#e6f5d0\"],[0.7,\"#b8e186\"],[0.8,\"#7fbc41\"],[0.9,\"#4d9221\"],[1,\"#276419\"]]},\"xaxis\":{\"gridcolor\":\"white\",\"linecolor\":\"white\",\"ticks\":\"\",\"title\":{\"standoff\":15},\"zerolinecolor\":\"white\",\"automargin\":true,\"zerolinewidth\":2},\"yaxis\":{\"gridcolor\":\"white\",\"linecolor\":\"white\",\"ticks\":\"\",\"title\":{\"standoff\":15},\"zerolinecolor\":\"white\",\"automargin\":true,\"zerolinewidth\":2},\"scene\":{\"xaxis\":{\"backgroundcolor\":\"#E5ECF6\",\"gridcolor\":\"white\",\"linecolor\":\"white\",\"showbackground\":true,\"ticks\":\"\",\"zerolinecolor\":\"white\",\"gridwidth\":2},\"yaxis\":{\"backgroundcolor\":\"#E5ECF6\",\"gridcolor\":\"white\",\"linecolor\":\"white\",\"showbackground\":true,\"ticks\":\"\",\"zerolinecolor\":\"white\",\"gridwidth\":2},\"zaxis\":{\"backgroundcolor\":\"#E5ECF6\",\"gridcolor\":\"white\",\"linecolor\":\"white\",\"showbackground\":true,\"ticks\":\"\",\"zerolinecolor\":\"white\",\"gridwidth\":2}},\"shapedefaults\":{\"line\":{\"color\":\"#2a3f5f\"}},\"annotationdefaults\":{\"arrowcolor\":\"#2a3f5f\",\"arrowhead\":0,\"arrowwidth\":1},\"geo\":{\"bgcolor\":\"white\",\"landcolor\":\"#E5ECF6\",\"subunitcolor\":\"white\",\"showland\":true,\"showlakes\":true,\"lakecolor\":\"white\"},\"title\":{\"x\":0.05},\"mapbox\":{\"style\":\"light\"}}},\"scene\":{\"domain\":{\"x\":[0.0,1.0],\"y\":[0.0,1.0]},\"xaxis\":{\"title\":{\"text\":\"pc 1\"}},\"yaxis\":{\"title\":{\"text\":\"pc 2\"}},\"zaxis\":{\"title\":{\"text\":\"pc 3\"}}},\"coloraxis\":{\"colorbar\":{\"title\":{\"text\":\"class\"}},\"colorscale\":[[0.0,\"#0d0887\"],[0.1111111111111111,\"#46039f\"],[0.2222222222222222,\"#7201a8\"],[0.3333333333333333,\"#9c179e\"],[0.4444444444444444,\"#bd3786\"],[0.5555555555555556,\"#d8576b\"],[0.6666666666666666,\"#ed7953\"],[0.7777777777777778,\"#fb9f3a\"],[0.8888888888888888,\"#fdca26\"],[1.0,\"#f0f921\"]]},\"legend\":{\"title\":{\"text\":\"class\"},\"tracegroupgap\":0,\"x\":0,\"y\":1},\"margin\":{\"t\":60},\"width\":800},                        {\"responsive\": true}                    ).then(function(){\n",
       "                            \n",
       "var gd = document.getElementById('69b2e9fd-5556-42a0-8ce6-8a770e17ac3b');\n",
       "var x = new MutationObserver(function (mutations, observer) {{\n",
       "        var display = window.getComputedStyle(gd).display;\n",
       "        if (!display || display === 'none') {{\n",
       "            console.log([gd, 'removed!']);\n",
       "            Plotly.purge(gd);\n",
       "            observer.disconnect();\n",
       "        }}\n",
       "}});\n",
       "\n",
       "// Listen for the removal of the full notebook cells\n",
       "var notebookContainer = gd.closest('#notebook-container');\n",
       "if (notebookContainer) {{\n",
       "    x.observe(notebookContainer, {childList: true});\n",
       "}}\n",
       "\n",
       "// Listen for the clearing of the current output cell\n",
       "var outputEl = gd.closest('.output');\n",
       "if (outputEl) {{\n",
       "    x.observe(outputEl, {childList: true});\n",
       "}}\n",
       "\n",
       "                        })                };                });            </script>        </div>"
      ]
     },
     "metadata": {},
     "output_type": "display_data"
    }
   ],
   "source": [
    "# Creating a 3D-Scatter with the PCA data and the clusters\n",
    "fig = px.scatter_3d(\n",
    "    clustered_df,\n",
    "    x=\"pc 1\",\n",
    "    y=\"pc 2\",\n",
    "    z=\"pc 3\",\n",
    "    color=\"class\",\n",
    "    symbol=\"class\",\n",
    "    hover_name=\"CoinName\",\n",
    "    hover_data=[\"Algorithm\"],\n",
    "    width=800,\n",
    ")\n",
    "fig.update_layout(legend=dict(x=0, y=1))\n",
    "fig.show()"
   ]
  },
  {
   "cell_type": "code",
   "execution_count": 39,
   "id": "feb5a6f4",
   "metadata": {},
   "outputs": [
    {
     "data": {},
     "metadata": {},
     "output_type": "display_data"
    },
    {
     "data": {
      "application/vnd.holoviews_exec.v0+json": "",
      "text/html": [
       "<div id='1111'>\n",
       "\n",
       "\n",
       "\n",
       "\n",
       "\n",
       "  <div class=\"bk-root\" id=\"5f8a5c83-ad13-49f9-9ede-0cab9b6503cc\" data-root-id=\"1111\"></div>\n",
       "</div>\n",
       "<script type=\"application/javascript\">(function(root) {\n",
       "  function embed_document(root) {\n",
       "    var docs_json = {\"4620ad7f-b570-472a-9aa6-b7fd8b1bd992\":{\"defs\":[{\"extends\":null,\"module\":null,\"name\":\"ReactiveHTML1\",\"overrides\":[],\"properties\":[]},{\"extends\":null,\"module\":null,\"name\":\"FlexBox1\",\"overrides\":[],\"properties\":[{\"default\":\"flex-start\",\"kind\":null,\"name\":\"align_content\"},{\"default\":\"flex-start\",\"kind\":null,\"name\":\"align_items\"},{\"default\":\"row\",\"kind\":null,\"name\":\"flex_direction\"},{\"default\":\"wrap\",\"kind\":null,\"name\":\"flex_wrap\"},{\"default\":\"flex-start\",\"kind\":null,\"name\":\"justify_content\"}]},{\"extends\":null,\"module\":null,\"name\":\"GridStack1\",\"overrides\":[],\"properties\":[{\"default\":\"warn\",\"kind\":null,\"name\":\"mode\"},{\"default\":null,\"kind\":null,\"name\":\"ncols\"},{\"default\":null,\"kind\":null,\"name\":\"nrows\"},{\"default\":true,\"kind\":null,\"name\":\"allow_resize\"},{\"default\":true,\"kind\":null,\"name\":\"allow_drag\"},{\"default\":[],\"kind\":null,\"name\":\"state\"}]},{\"extends\":null,\"module\":null,\"name\":\"click1\",\"overrides\":[],\"properties\":[{\"default\":\"\",\"kind\":null,\"name\":\"terminal_output\"},{\"default\":\"\",\"kind\":null,\"name\":\"debug_name\"},{\"default\":0,\"kind\":null,\"name\":\"clears\"}]},{\"extends\":null,\"module\":null,\"name\":\"NotificationAreaBase1\",\"overrides\":[],\"properties\":[{\"default\":\"bottom-right\",\"kind\":null,\"name\":\"position\"},{\"default\":0,\"kind\":null,\"name\":\"_clear\"}]},{\"extends\":null,\"module\":null,\"name\":\"NotificationArea1\",\"overrides\":[],\"properties\":[{\"default\":[],\"kind\":null,\"name\":\"notifications\"},{\"default\":\"bottom-right\",\"kind\":null,\"name\":\"position\"},{\"default\":0,\"kind\":null,\"name\":\"_clear\"},{\"default\":[{\"background\":\"#ffc107\",\"icon\":{\"className\":\"fas fa-exclamation-triangle\",\"color\":\"white\",\"tagName\":\"i\"},\"type\":\"warning\"},{\"background\":\"#007bff\",\"icon\":{\"className\":\"fas fa-info-circle\",\"color\":\"white\",\"tagName\":\"i\"},\"type\":\"info\"}],\"kind\":null,\"name\":\"types\"}]},{\"extends\":null,\"module\":null,\"name\":\"Notification\",\"overrides\":[],\"properties\":[{\"default\":null,\"kind\":null,\"name\":\"background\"},{\"default\":3000,\"kind\":null,\"name\":\"duration\"},{\"default\":null,\"kind\":null,\"name\":\"icon\"},{\"default\":\"\",\"kind\":null,\"name\":\"message\"},{\"default\":null,\"kind\":null,\"name\":\"notification_type\"},{\"default\":false,\"kind\":null,\"name\":\"_destroyed\"}]},{\"extends\":null,\"module\":null,\"name\":\"TemplateActions1\",\"overrides\":[],\"properties\":[{\"default\":0,\"kind\":null,\"name\":\"open_modal\"},{\"default\":0,\"kind\":null,\"name\":\"close_modal\"}]},{\"extends\":null,\"module\":null,\"name\":\"MaterialTemplateActions1\",\"overrides\":[],\"properties\":[{\"default\":0,\"kind\":null,\"name\":\"open_modal\"},{\"default\":0,\"kind\":null,\"name\":\"close_modal\"}]}],\"roots\":{\"references\":[{\"attributes\":{\"margin\":[5,5,5,5],\"name\":\"HSpacer01907\",\"sizing_mode\":\"stretch_width\"},\"id\":\"1112\",\"type\":\"Spacer\"},{\"attributes\":{\"editor\":{\"id\":\"1126\"},\"field\":\"ProofType\",\"formatter\":{\"id\":\"1125\"},\"title\":\"ProofType\"},\"id\":\"1127\",\"type\":\"TableColumn\"},{\"attributes\":{},\"id\":\"1131\",\"type\":\"StringEditor\"},{\"attributes\":{\"editor\":{\"id\":\"1136\"},\"field\":\"TotalCoinsMined\",\"formatter\":{\"id\":\"1135\"},\"title\":\"TotalCoinsMined\"},\"id\":\"1137\",\"type\":\"TableColumn\"},{\"attributes\":{\"editor\":{\"id\":\"1131\"},\"field\":\"TotalCoinSupply\",\"formatter\":{\"id\":\"1130\"},\"title\":\"TotalCoinSupply\"},\"id\":\"1132\",\"type\":\"TableColumn\"},{\"attributes\":{},\"id\":\"1114\",\"type\":\"Selection\"},{\"attributes\":{},\"id\":\"1136\",\"type\":\"NumberEditor\"},{\"attributes\":{},\"id\":\"1115\",\"type\":\"StringFormatter\"},{\"attributes\":{\"data\":{\"Algorithm\":[\"Scrypt\",\"Scrypt\",\"X13\",\"SHA-256\",\"Ethash\",\"Scrypt\",\"X11\",\"CryptoNight-V7\",\"Ethash\",\"Equihash\",\"SHA-512\",\"Multiple\",\"SHA-256\",\"SHA-256\",\"Scrypt\",\"X15\",\"X11\",\"Scrypt\",\"Scrypt\",\"Scrypt\",\"Multiple\",\"Scrypt\",\"SHA-256\",\"Scrypt\",\"Scrypt\",\"Scrypt\",\"Quark\",\"Groestl\",\"Scrypt\",\"Scrypt\",\"Scrypt\",\"Scrypt\",\"Scrypt\",\"X11\",\"Scrypt\",\"Groestl\",\"Multiple\",\"SHA-256\",\"Scrypt\",\"Scrypt\",\"Scrypt\",\"Scrypt\",\"PoS\",\"Scrypt\",\"Scrypt\",\"NeoScrypt\",\"Scrypt\",\"Scrypt\",\"Scrypt\",\"Scrypt\",\"X11\",\"Scrypt\",\"X11\",\"SHA-256\",\"Scrypt\",\"Scrypt\",\"Scrypt\",\"SHA3\",\"Scrypt\",\"HybridScryptHash256\",\"Scrypt\",\"Scrypt\",\"SHA-256\",\"Scrypt\",\"X13\",\"Scrypt\",\"SHA-256\",\"Scrypt\",\"X13\",\"NeoScrypt\",\"Scrypt\",\"Scrypt\",\"Scrypt\",\"Scrypt\",\"Scrypt\",\"Scrypt\",\"X11\",\"X11\",\"SHA-256\",\"Multiple\",\"SHA-256\",\"PHI1612\",\"X11\",\"SHA-256\",\"SHA-256\",\"SHA-256\",\"X11\",\"Scrypt\",\"Scrypt\",\"Scrypt\",\"Scrypt\",\"Lyra2REv2\",\"Scrypt\",\"X11\",\"Multiple\",\"SHA-256\",\"X13\",\"Scrypt\",\"CryptoNight\",\"CryptoNight\",\"Shabal256\",\"Counterparty\",\"Scrypt\",\"SHA-256\",\"Groestl\",\"Scrypt\",\"Scrypt\",\"Scrypt\",\"X13\",\"Scrypt\",\"Scrypt\",\"Scrypt\",\"Scrypt\",\"X13\",\"Scrypt\",\"Stanford Folding\",\"X11\",\"Multiple\",\"QuBit\",\"Scrypt\",\"Scrypt\",\"Scrypt\",\"M7 POW\",\"Scrypt\",\"SHA-256\",\"Scrypt\",\"X11\",\"SHA3\",\"X11\",\"Lyra2RE\",\"SHA-256\",\"QUAIT\",\"X11\",\"X11\",\"Scrypt\",\"Scrypt\",\"Scrypt\",\"Ethash\",\"X13\",\"Blake2b\",\"SHA-256\",\"X15\",\"X11\",\"SHA-256\",\"BLAKE256\",\"Scrypt\",\"1GB AES Pattern Search\",\"SHA-256\",\"X11\",\"Scrypt\",\"SHA-256\",\"SHA-256\",\"NIST5\",\"Scrypt\",\"Scrypt\",\"X11\",\"Dagger\",\"Scrypt\",\"X11GOST\",\"X11\",\"Scrypt\",\"SHA-256\",\"Scrypt\",\"PoS\",\"Scrypt\",\"X11\",\"X11\",\"SHA-256\",\"SHA-256\",\"NIST5\",\"X11\",\"Scrypt\",\"POS 3.0\",\"Scrypt\",\"Scrypt\",\"Scrypt\",\"X13\",\"X11\",\"X11\",\"Equihash\",\"X11\",\"Scrypt\",\"CryptoNight\",\"SHA-256\",\"SHA-256\",\"X11\",\"Scrypt\",\"Multiple\",\"Scrypt\",\"Scrypt\",\"Scrypt\",\"SHA-256\",\"Scrypt\",\"Scrypt\",\"SHA-256D\",\"PoS\",\"Scrypt\",\"X11\",\"Lyra2Z\",\"PoS\",\"X13\",\"X14\",\"PoS\",\"SHA-256D\",\"Ethash\",\"Equihash\",\"DPoS\",\"X11\",\"Scrypt\",\"X11\",\"X13\",\"X11\",\"PoS\",\"Scrypt\",\"Scrypt\",\"X11\",\"PoS\",\"X11\",\"SHA-256\",\"Scrypt\",\"X11\",\"Scrypt\",\"Scrypt\",\"X11\",\"CryptoNight\",\"Scrypt\",\"Scrypt\",\"Scrypt\",\"Scrypt\",\"Quark\",\"QuBit\",\"Scrypt\",\"CryptoNight\",\"Lyra2RE\",\"Scrypt\",\"SHA-256\",\"X11\",\"Scrypt\",\"X11\",\"Scrypt\",\"CryptoNight-V7\",\"Scrypt\",\"Scrypt\",\"Scrypt\",\"X13\",\"X11\",\"Equihash\",\"Scrypt\",\"Scrypt\",\"Lyra2RE\",\"Scrypt\",\"Dagger-Hashimoto\",\"X11\",\"Blake2S\",\"X11\",\"Scrypt\",\"PoS\",\"X11\",\"NIST5\",\"PoS\",\"X11\",\"Scrypt\",\"Scrypt\",\"Scrypt\",\"SHA-256\",\"X11\",\"Scrypt\",\"Scrypt\",\"SHA-256\",\"PoS\",\"Scrypt\",\"X15\",\"SHA-256\",\"Scrypt\",\"POS 3.0\",\"CryptoNight-V7\",\"536\",\"Argon2d\",\"Blake2b\",\"Cloverhash\",\"CryptoNight\",\"NIST5\",\"X11\",\"NIST5\",\"Skein\",\"Scrypt\",\"X13\",\"Scrypt\",\"X11\",\"X11\",\"Scrypt\",\"CryptoNight\",\"X13\",\"Time Travel\",\"Scrypt\",\"Keccak\",\"SkunkHash v2 Raptor\",\"X11\",\"Skein\",\"SHA-256\",\"X11\",\"Scrypt\",\"VeChainThor Authority\",\"Scrypt\",\"PoS\",\"Scrypt\",\"Scrypt\",\"Scrypt\",\"Scrypt\",\"Scrypt\",\"Scrypt\",\"Scrypt\",\"CryptoNight\",\"SHA-512\",\"Ouroboros\",\"X11\",\"Equihash\",\"NeoScrypt\",\"X11\",\"Scrypt\",\"NeoScrypt\",\"Lyra2REv2\",\"Equihash\",\"Scrypt\",\"SHA-256\",\"NIST5\",\"PHI1612\",\"Dagger\",\"Scrypt\",\"Quark\",\"Scrypt\",\"POS 2.0\",\"Scrypt\",\"SHA-256\",\"X11\",\"NeoScrypt\",\"Ethash\",\"NeoScrypt\",\"X11\",\"DPoS\",\"NIST5\",\"X13\",\"Multiple\",\"Scrypt\",\"CryptoNight\",\"CryptoNight\",\"Ethash\",\"NIST5\",\"Quark\",\"X11\",\"CryptoNight-V7\",\"Scrypt\",\"Scrypt\",\"Scrypt\",\"X11\",\"BLAKE256\",\"X11\",\"NeoScrypt\",\"Quark\",\"NeoScrypt\",\"Scrypt\",\"Scrypt\",\"Scrypt\",\"X11\",\"X11\",\"SHA-256\",\"C11\",\"POS 3.0\",\"Ethash\",\"Scrypt\",\"CryptoNight\",\"SkunkHash\",\"Scrypt\",\"CryptoNight\",\"Scrypt\",\"Dagger\",\"Lyra2REv2\",\"X13\",\"Proof-of-BibleHash\",\"SHA-256 + Hive\",\"Scrypt\",\"Scrypt\",\"X11\",\"C11\",\"Proof-of-Authority\",\"X11\",\"XEVAN\",\"Scrypt\",\"VBFT\",\"Ethash\",\"CryptoNight\",\"Scrypt\",\"IMesh\",\"NIST5\",\"Scrypt\",\"Scrypt\",\"Equihash\",\"Scrypt\",\"Lyra2Z\",\"Green Protocol\",\"PoS\",\"Scrypt\",\"Semux BFT consensus\",\"X11\",\"Quark\",\"PoS\",\"CryptoNight\",\"X16R\",\"Scrypt\",\"NIST5\",\"Lyra2RE\",\"XEVAN\",\"Tribus\",\"Scrypt\",\"Lyra2Z\",\"CryptoNight\",\"CryptoNight Heavy\",\"CryptoNight\",\"Scrypt\",\"Scrypt\",\"Jump Consistent Hash\",\"SHA-256D\",\"CryptoNight\",\"Scrypt\",\"X15\",\"Scrypt\",\"Quark\",\"SHA-256\",\"DPoS\",\"X16R\",\"HMQ1725\",\"X11\",\"X16R\",\"Quark\",\"Quark\",\"Scrypt\",\"Lyra2REv2\",\"Quark\",\"Scrypt\",\"Scrypt\",\"CryptoNight-V7\",\"Cryptonight-GPU\",\"XEVAN\",\"CryptoNight Heavy\",\"X11\",\"X11\",\"Scrypt\",\"PoS\",\"SHA-256\",\"Keccak\",\"X11\",\"X11\",\"Scrypt\",\"SHA-512\",\"X16R\",\"ECC 256K1\",\"Equihash\",\"XEVAN\",\"Lyra2Z\",\"SHA-256\",\"XEVAN\",\"X11\",\"CryptoNight\",\"Quark\",\"Blake\",\"Blake\",\"Equihash\",\"Exosis\",\"Scrypt\",\"Scrypt\",\"Equihash\",\"Quark\",\"Equihash\",\"Quark\",\"Scrypt\",\"QuBit\",\"X11\",\"Scrypt\",\"XEVAN\",\"SHA-256D\",\"X11\",\"SHA-256\",\"X13\",\"SHA-256\",\"X11\",\"DPoS\",\"Scrypt\",\"Scrypt\",\"X11\",\"NeoScrypt\",\"Scrypt\",\"Blake\",\"Scrypt\",\"SHA-256\",\"Scrypt\",\"X11\",\"Scrypt\",\"Scrypt\",\"SHA-256\",\"X11\",\"SHA-256\",\"Scrypt\",\"Scrypt\",\"Scrypt\",\"Groestl\",\"X11\",\"Scrypt\",\"PoS\",\"Scrypt\",\"Scrypt\",\"X11\",\"SHA-256\",\"DPoS\",\"Scrypt\",\"Scrypt\",\"NeoScrypt\",\"SHA3-256\",\"Multiple\",\"X13\",\"Equihash+Scrypt\",\"DPoS\",\"Ethash\",\"DPoS\",\"SHA-256\",\"Leased POS\",\"PoS\",\"TRC10\",\"PoS\",\"SHA-256\",\"Scrypt\",\"CryptoNight\",\"Equihash\",\"Scrypt\"],\"CoinName\":[\"42 Coin\",\"404Coin\",\"EliteCoin\",\"Bitcoin\",\"Ethereum\",\"Litecoin\",\"Dash\",\"Monero\",\"Ethereum Classic\",\"ZCash\",\"Bitshares\",\"DigiByte\",\"BitcoinDark\",\"PayCoin\",\"ProsperCoin\",\"KoboCoin\",\"Spreadcoin\",\"Argentum\",\"Aurora Coin\",\"BlueCoin\",\"MyriadCoin\",\"MoonCoin\",\"ZetaCoin\",\"SexCoin\",\"Quatloo\",\"EnergyCoin\",\"QuarkCoin\",\"Riecoin\",\"Digitalcoin \",\"BitBar\",\"Catcoin\",\"CryptoBullion\",\"CannaCoin\",\"CryptCoin\",\"CasinoCoin\",\"Diamond\",\"Verge\",\"DevCoin\",\"EarthCoin\",\"E-Gulden\",\"Einsteinium\",\"Emerald\",\"Exclusive Coin\",\"FlutterCoin\",\"Franko\",\"FeatherCoin\",\"GrandCoin\",\"GlobalCoin\",\"GoldCoin\",\"HoboNickels\",\"HyperStake\",\"Infinite Coin\",\"IOCoin\",\"IXcoin\",\"KrugerCoin\",\"LuckyCoin\",\"Litebar \",\"MaxCoin\",\"MegaCoin\",\"MediterraneanCoin\",\"MintCoin\",\"MinCoin\",\"MazaCoin\",\"Nautilus Coin\",\"NavCoin\",\"NobleCoin\",\"Namecoin\",\"NyanCoin\",\"OpalCoin\",\"Orbitcoin\",\"PotCoin\",\"PhoenixCoin\",\"Reddcoin\",\"RonPaulCoin\",\"StableCoin\",\"SmartCoin\",\"SuperCoin\",\"SyncCoin\",\"SysCoin\",\"TeslaCoin\",\"TigerCoin\",\"TittieCoin\",\"TorCoin\",\"TerraCoin\",\"UnbreakableCoin\",\"Unobtanium\",\"UroCoin\",\"UnitaryStatus Dollar\",\"UltraCoin\",\"ViaCoin\",\"VeriCoin\",\"Vertcoin\",\"WorldCoin\",\"X11 Coin\",\"Crypti\",\"JouleCoin\",\"StealthCoin\",\"ZCC Coin\",\"ByteCoin\",\"DigitalNote \",\"BurstCoin\",\"StorjCoin\",\"MonaCoin\",\"Neutron\",\"FairCoin\",\"Gulden\",\"RubyCoin\",\"PesetaCoin\",\"Kore\",\"Wild Beast Coin\",\"Dnotes\",\"Flo\",\"8BIT Coin\",\"Sativa Coin\",\"ArtByte\",\"Folding Coin\",\"Ucoin\",\"Unitus\",\"CypherPunkCoin\",\"OmniCron\",\"Vtorrent\",\"GreenCoin\",\"Cryptonite\",\"MasterCoin\",\"SoonCoin\",\"1Credit\",\"IslaCoin\",\"Nexus\",\"MarsCoin \",\"Crypto\",\"Anarchists Prime\",\"Droidz\",\"BowsCoin\",\"Squall Coin\",\"Song Coin\",\"BitZeny\",\"Diggits\",\"Expanse\",\"Paycon\",\"Siacoin\",\"Emercoin\",\"EverGreenCoin\",\"MindCoin\",\"I0coin\",\"Decred\",\"Revolution VR\",\"HOdlcoin\",\"EDRCoin\",\"Hitcoin\",\"Gamecredits\",\"DubaiCoin\",\"CarpeDiemCoin\",\"PWR Coin\",\"BillaryCoin\",\"GPU Coin\",\"Adzcoin\",\"SoilCoin\",\"YoCoin\",\"SibCoin\",\"EuropeCoin\",\"ZeitCoin\",\"SwingCoin\",\"SafeExchangeCoin\",\"Nebuchadnezzar\",\"Francs\",\"BolivarCoin\",\"Ratecoin\",\"Revenu\",\"Clockcoin\",\"VIP Tokens\",\"BitSend\",\"Omni\",\"Let it Ride\",\"PutinCoin\",\"iBankCoin\",\"Frankywillcoin\",\"MudraCoin\",\"PizzaCoin\",\"Lutetium Coin\",\"Komodo\",\"GoldBlocks\",\"CarterCoin\",\"Karbo\",\"BitTokens\",\"ZayedCoin\",\"MustangCoin\",\"ZoneCoin\",\"Circuits of Value\",\"RootCoin\",\"DopeCoin\",\"BitCurrency\",\"DollarCoin\",\"Swiscoin\",\"Shilling\",\"BuzzCoin\",\"Opair\",\"PesoBit\",\"Halloween Coin\",\"ZCoin\",\"CoffeeCoin\",\"RoyalCoin\",\"GanjaCoin V2\",\"TeamUP\",\"LanaCoin\",\"Elementrem\",\"ZClassic\",\"ARK\",\"InsaneCoin\",\"KiloCoin\",\"ArtexCoin\",\"EmberCoin\",\"XenixCoin\",\"FreeCoin\",\"PLNCoin\",\"AquariusCoin\",\"Kurrent\",\"Creatio\",\"Eternity\",\"Eurocoin\",\"BitcoinFast\",\"Stakenet\",\"BitConnect Coin\",\"MoneyCoin\",\"Enigma\",\"Cannabis Industry Coin\",\"Russiacoin\",\"PandaCoin\",\"GameUnits\",\"GAKHcoin\",\"Allsafe\",\"LiteCreed\",\"OsmiumCoin\",\"Bikercoins\",\"HexxCoin\",\"Klingon Empire Darsek\",\"Internet of People\",\"KushCoin\",\"Printerium\",\"PacCoin\",\"Impeach\",\"Citadel\",\"Zilbercoin\",\"FirstCoin\",\"BeaverCoin\",\"FindCoin\",\"VaultCoin\",\"Zero\",\"OpenChat\",\"Canada eCoin\",\"Zoin\",\"RenosCoin\",\"DubaiCoin\",\"VirtacoinPlus\",\"TajCoin\",\"Impact\",\"EB3coin\",\"Atmos\",\"HappyCoin\",\"Coinonat\",\"MacronCoin\",\"Condensate\",\"Independent Money System\",\"ArgusCoin\",\"LomoCoin\",\"ProCurrency\",\"GoldReserve\",\"BenjiRolls\",\"GrowthCoin\",\"ILCoin\",\"Phreak\",\"Degas Coin\",\"HTML5 Coin\",\"Ultimate Secure Cash\",\"EquiTrader\",\"QTUM\",\"Quantum Resistant Ledger\",\"Espers\",\"Dynamic\",\"Nano\",\"ChanCoin\",\"Dinastycoin\",\"Denarius\",\"DigitalPrice\",\"Virta Unique Coin\",\"Bitcoin Planet\",\"Unify\",\"BritCoin\",\"SocialCoin\",\"ArcticCoin\",\"DAS\",\"Linda\",\"LeviarCoin\",\"DeepOnion\",\"Bitcore\",\"gCn Coin\",\"SmartCash\",\"Signatum\",\"Onix\",\"Cream\",\"Bitcoin Cash\",\"Monoeci\",\"Draftcoin\",\"Vechain\",\"Sojourn Coin\",\"Stakecoin\",\"NewYorkCoin\",\"FrazCoin\",\"Kronecoin\",\"AdCoin\",\"Linx\",\"CoinonatX\",\"Ethereum Dark\",\"Sumokoin\",\"Obsidian\",\"Cardano\",\"Regalcoin\",\"BitcoinZ\",\"TrezarCoin\",\"Elements\",\"TerraNovaCoin\",\"VIVO Coin\",\"Rupee\",\"Bitcoin Gold\",\"WomenCoin\",\"Theresa May Coin\",\"NamoCoin\",\"LUXCoin\",\"Pirl\",\"Xios\",\"Bitcloud 2.0\",\"eBoost\",\"KekCoin\",\"BlackholeCoin\",\"Infinity Economics\",\"Pura\",\"Innova\",\"Ellaism\",\"GoByte\",\"Magnet\",\"Lamden Tau\",\"Electra\",\"Bitcoin Diamond\",\"SHIELD\",\"Cash & Back Coin\",\"UltraNote\",\"BitCoal\",\"DaxxCoin\",\"Bulwark\",\"Kalkulus\",\"AC3\",\"Lethean\",\"GermanCoin\",\"LiteCoin Ultra\",\"PopularCoin\",\"PhantomX\",\"Photon\",\"Sucre\",\"SparksPay\",\"Digiwage\",\"GunCoin\",\"IrishCoin\",\"Trollcoin\",\"Litecoin Plus\",\"Monkey Project\",\"Pioneer Coin\",\"UnitedBitcoin\",\"Interzone\",\"TokenPay\",\"1717 Masonic Commemorative Token\",\"My Big Coin\",\"TurtleCoin\",\"MUNcoin\",\"Unified Society USDEX\",\"Niobio Cash\",\"ShareChain\",\"Travelflex\",\"KREDS\",\"Tokyo Coin\",\"BiblePay\",\"LitecoinCash\",\"BitFlip\",\"LottoCoin\",\"Crypto Improvement Fund\",\"Stipend\",\"Poa Network\",\"Pushi\",\"Ellerium\",\"Velox\",\"Ontology\",\"Callisto Network\",\"BitTube\",\"Poseidon\",\"Aidos Kuneen\",\"Bitspace\",\"Briacoin\",\"Ignition\",\"Bitrolium\",\"MedicCoin\",\"Alpenschillling\",\"Bitcoin Green\",\"Deviant Coin\",\"Abjcoin\",\"Semux\",\"FuturoCoin\",\"Carebit\",\"Zealium\",\"Monero Classic\",\"Proton\",\"iDealCash\",\"Jumpcoin\",\"Infinex\",\"Bitcoin Incognito\",\"KEYCO\",\"HollyWoodCoin\",\"GINcoin\",\"PlatinCoin\",\"Loki\",\"Newton Coin\",\"Swisscoin\",\"Xt3ch\",\"MassGrid\",\"TheVig\",\"PluraCoin\",\"EmaratCoin\",\"Dekado\",\"Lynx\",\"Poseidon Quark\",\"BitcoinWSpectrum\",\"Muse\",\"Motion\",\"PlusOneCoin\",\"Axe\",\"Trivechain\",\"Dystem\",\"Giant\",\"Peony Coin\",\"Absolute Coin\",\"Vitae\",\"HexCoin\",\"TPCash\",\"Webchain\",\"Ryo\",\"Urals Coin\",\"Qwertycoin\",\"ARENON\",\"EUNO\",\"MMOCoin\",\"Ketan\",\"Project Pai\",\"XDNA\",\"PAXEX\",\"Azart\",\"ThunderStake\",\"Kcash\",\"Xchange\",\"Acute Angle Cloud\",\"CrypticCoin\",\"Bettex coin\",\"Actinium\",\"Bitcoin SV\",\"BitMoney\",\"Junson Ming Chan Coin\",\"FREDEnergy\",\"HerbCoin\",\"Universal Molecule\",\"Lithium\",\"PirateCash\",\"Exosis\",\"Block-Logic\",\"Oduwa\",\"Beam\",\"Galilel\",\"Bithereum\",\"Crypto Sports\",\"Credit\",\"SLICE\",\"Dash Platinum\",\"Nasdacoin\",\"Beetle Coin\",\"Titan Coin\",\"Award\",\"BLAST\",\"Bitcoin Rhodium\",\"GlobalToken\",\"Insane Coin\",\"ALAX\",\"LiteDoge\",\"SolarCoin\",\"TruckCoin\",\"UFO Coin\",\"OrangeCoin\",\"BlakeCoin\",\"BitstarCoin\",\"NeosCoin\",\"HyperCoin\",\"PinkCoin\",\"Crypto Escudo\",\"AudioCoin\",\"IncaKoin\",\"Piggy Coin\",\"Crown Coin\",\"Genstake\",\"SmileyCoin\",\"XiaoMiCoin\",\"Groestlcoin\",\"CapriCoin\",\" ClubCoin\",\"Radium\",\"Bata\",\"Pakcoin\",\"Creditbit \",\"OKCash\",\"Lisk\",\"HiCoin\",\"WhiteCoin\",\"FriendshipCoin\",\"Fiii\",\"JoinCoin\",\"Triangles Coin\",\"Vollar\",\"EOS\",\"Reality Clash\",\"Oxycoin\",\"TigerCash\",\"Waves\",\"Particl\",\"BitTorrent\",\"Nxt\",\"ZEPHYR\",\"Gapcoin\",\"Beldex\",\"Horizen\",\"BitcoinPlus\"],\"ProofType\":[\"PoW/PoS\",\"PoW/PoS\",\"PoW/PoS\",\"PoW\",\"PoW\",\"PoW\",\"PoW/PoS\",\"PoW\",\"PoW\",\"PoW\",\"PoS\",\"PoW\",\"PoW/PoS\",\"PoS\",\"PoW\",\"PoW/PoS\",\"PoW\",\"PoW\",\"PoW/PoS\",\"PoW/PoS\",\"PoW\",\"PoW\",\"PoW\",\"PoW\",\"PoW\",\"PoW/PoS\",\"PoW\",\"PoW\",\"PoW\",\"PoW/PoS\",\"PoW\",\"PoW/PoS\",\"PoW\",\"PoW\",\"PoC\",\"PoW/PoS\",\"PoW\",\"PoW\",\"PoW\",\"PoW\",\"PoW\",\"PoW\",\"PoS\",\"PoS/PoW/PoT\",\"PoW\",\"PoW\",\"PoW\",\"PoW\",\"PoW\",\"PoW/PoS\",\"PoS\",\"PoW\",\"PoW/PoS\",\"PoW\",\"PoW\",\"PoW\",\"PoW\",\"PoW/PoS\",\"PoW\",\"PoW\",\"PoS\",\"PoW\",\"PoW/PoS\",\"PoS\",\"PoW/PoS\",\"PoW\",\"PoW\",\"PoW\",\"PoW/PoS\",\"PoW/PoS\",\"PoW/PoS\",\"PoW/PoS\",\"PoW/PoS\",\"PoW\",\"PoW\",\"PoW\",\"PoS\",\"PoW/PoS\",\"PoW\",\"PoS\",\"PoW\",\"PoS\",\"PoW/PoS\",\"PoW\",\"PoW\",\"PoW\",\"PoW\",\"PoW/PoS\",\"PoW/PoS\",\"PoW\",\"PoST\",\"PoW\",\"PoW\",\"PoW/PoS\",\"PoS\",\"PoW\",\"PoW/PoS\",\"PoW/PoS\",\"PoW\",\"PoW\",\"PoC\",\"PoS\",\"PoW\",\"PoW/PoS\",\"PoW/PoS\",\"PoW\",\"PoS\",\"PoW\",\"PoW/PoS\",\"PoW\",\"PoS\",\"PoW\",\"PoW/PoS\",\"PoW/PoS\",\"PoW\",\"PoW\",\"PoS\",\"PoW\",\"PoW\",\"PoW\",\"PoW/PoS\",\"PoW\",\"PoW\",\"PoW\",\"PoW\",\"PoW\",\"PoW/PoS\",\"PoW/nPoS\",\"PoW\",\"PoW\",\"PoW\",\"PoW/PoS\",\"PoW\",\"PoS/PoW\",\"PoW\",\"PoW\",\"PoS\",\"PoW\",\"PoW/PoS\",\"PoW\",\"PoW/PoS\",\"PoW/PoS\",\"PoW\",\"PoW\",\"PoW/PoS\",\"PoW\",\"PoW\",\"PoW/PoS\",\"PoW/PoS\",\"PoW\",\"PoW/PoS\",\"PoW\",\"PoW/PoS\",\"PoW/PoS\",\"PoS\",\"PoW\",\"PoW\",\"PoW\",\"PoW\",\"PoW/PoS\",\"PoS\",\"PoW/PoS\",\"PoC\",\"PoS\",\"PoW\",\"PoW\",\"PoW/PoS\",\"PoW/PoS\",\"PoW/PoS\",\"PoW/PoS\",\"PoW/PoS\",\"PoW\",\"PoS\",\"PoW/PoS\",\"PoW/PoS\",\"PoW/PoS\",\"PoS\",\"PoW\",\"PoS\",\"dPoW/PoW\",\"PoW/PoS\",\"PoW/PoS\",\"PoW\",\"PoW/PoS\",\"PoW\",\"PoW/PoS\",\"PoW/PoS\",\"PoW\",\"PoW/PoS\",\"PoW\",\"PoS\",\"PoW\",\"PoW/PoW\",\"PoW\",\"PoW/PoS\",\"PoS\",\"PoW/PoS\",\"PoW/PoS\",\"PoW\",\"PoS\",\"PoS\",\"PoW/PoS\",\"PoS\",\"PoW/PoS\",\"PoW\",\"PoW\",\"DPoS\",\"PoW/PoS\",\"PoW\",\"PoW\",\"PoW/PoS\",\"PoW/PoS\",\"PoS\",\"PoW/PoS\",\"PoW/PoS\",\"PoW\",\"PoS\",\"PoW/PoS\",\"PoW/PoS\",\"PoW/PoS\",\"TPoS\",\"PoW/PoS\",\"PoW/PoS\",\"PoW/PoS\",\"PoW\",\"PoW/PoS\",\"PoS\",\"PoW/PoS\",\"PoW/PoS\",\"PoS\",\"PoW/PoS\",\"PoW\",\"PoW\",\"PoW\",\"PoW/PoS\",\"PoW/PoS\",\"PoW/PoS\",\"PoW/PoS\",\"PoW\",\"PoW/PoS\",\"PoW\",\"PoS\",\"PoW/PoS \",\"PoW\",\"PoS\",\"PoW\",\"PoW\",\"PoW/PoS\",\"PoW\",\"PoW\",\"PoS\",\"PoW\",\"PoW/PoS\",\"PoW/PoS\",\"PoW/PoS\",\"PoW\",\"PoS\",\"PoW/PoS\",\"PoW\",\"PoS\",\"PoW/PoS\",\"PoW/PoS\",\"PoW/PoS\",\"PoW/PoS\",\"PoS\",\"PoW/PoS\",\"PoW\",\"PoS\",\"PoW\",\"PoS\",\"PoW/PoS\",\"PoW/PoS\",\"PoS\",\"PoW\",\"PoS\",\"PoW\",\"PoW/PoS\",\"PoW\",\"PoW\",\"PoW\",\"PoW\",\"PoW/PoS\",\"PoW\",\"PoW/PoS\",\"PoW/PoS\",\"PoW\",\"PoW/PoS\",\"PoW\",\"PoW\",\"PoW\",\"PoW/PoS\",\"PoW\",\"PoW/PoS\",\"PoW\",\"PoW\",\"PoW\",\"PoS\",\"PoW\",\"PoW/PoS\",\"PoW\",\"PoW/PoS\",\"PoS\",\"Proof of Authority\",\"PoW\",\"PoS\",\"PoW\",\"PoW\",\"PoW\",\"PoW\",\"PoW\",\"PoW/PoS\",\"PoW/PoS\",\"PoW\",\"PoS\",\"PoS\",\"PoW/PoS\",\"PoW\",\"PoW/PoS\",\"PoW\",\"PoW/PoS\",\"PoW\",\"PoS\",\"PoW\",\"PoW/PoS\",\"PoW/PoS\",\"PoW/PoS\",\"PoW/PoS\",\"PoW\",\"PoW/PoS\",\"PoW/PoS\",\"PoW\",\"PoS\",\"PoW/PoS\",\"PoS\",\"PoW\",\"PoW\",\"PoW\",\"PoW\",\"PoW/PoS\",\"DPoS\",\"PoW/PoS\",\"PoW/PoS\",\"PoW\",\"PoW/PoS\",\"PoW\",\"PoW\",\"PoW\",\"PoS\",\"PoS\",\"PoW\",\"PoW\",\"PoW/PoS\",\"PoW/PoS\",\"PoW\",\"PoW/PoS\",\"PoW\",\"PoW\",\"PoW\",\"PoS\",\"PoW\",\"PoW\",\"PoW/PoS\",\"PoW/PoS\",\"PoS\",\"PoW\",\"PoW\",\"PoW\",\"PoS\",\"PoS\",\"PoW and PoS\",\"PoW\",\"PoW\",\"PoW/PoS\",\"PoW\",\"PoW\",\"PoW\",\"PoW\",\"PoS\",\"POBh\",\"PoW + Hive\",\"PoW\",\"PoW\",\"PoW\",\"PoW/PoS\",\"PoA\",\"PoW/PoS\",\"PoW/PoS\",\"PoS\",\"PoS\",\"PoW\",\"PoW\",\"PoW\",\"PoW\",\"PoW/PoS\",\"PoW/PoS\",\"PoW/PoS\",\"PoW\",\"PoS\",\"PoW\",\"PoS\",\"PoS\",\"PoW/PoS\",\"DPoS\",\"PoW\",\"PoW/PoS\",\"PoS\",\"PoW\",\"PoS\",\"PoW/PoS\",\"PoW\",\"PoW\",\"PoS/PoW\",\"PoW\",\"PoS\",\"PoW\",\"PoW\",\"PoW\",\"PoW\",\"PoW/PoS\",\"PoS\",\"PoW\",\"PoW/PoS\",\"PoW\",\"PoW/PoS\",\"PoS\",\"HPoW\",\"PoS\",\"PoS\",\"PoS\",\"PoW\",\"PoW\",\"PoW\",\"PoW/PoS\",\"PoS\",\"PoW/PoS\",\"PoS\",\"PoW/PoS\",\"PoS\",\"PoW\",\"PoW/PoS\",\"PoW\",\"PoW\",\"PoW\",\"PoW\",\"PoS\",\"PoW/PoS\",\"PoS\",\"PoS\",\"PoW\",\"PoW/PoS\",\"PoS\",\"PoW\",\"PoW/PoS\",\"Zero-Knowledge Proof\",\"PoW\",\"DPOS\",\"PoW\",\"PoS\",\"PoW\",\"PoW\",\"Pos\",\"PoS\",\"PoW\",\"PoW/PoS\",\"PoW\",\"PoW\",\"PoS\",\"PoW\",\"PoW\",\"PoW/PoS\",\"PoW\",\"PoW/PoS\",\"PoW\",\"PoS\",\"PoW/PoS\",\"PoW\",\"PoS\",\"PoW/PoS\",\"PoW/PoS\",\"PoW/PoS\",\"PoW/PoS\",\"PoW\",\"PoW\",\"PoW\",\"PoW/PoS\",\"DPoS\",\"PoW/PoS\",\"PoW\",\"PoW/PoS\",\"PoW\",\"PoW/PoS\",\"PoW\",\"PoW/PoS\",\"PoS\",\"PoW/PoS\",\"PoW/PoS\",\"PoW\",\"PoW/PoS\",\"PoW/PoS\",\"PoW/PoS\",\"PoW\",\"PoW/PoS\",\"PoW\",\"PoW/PoS\",\"PoW\",\"PoW/PoS\",\"PoW/PoS\",\"PoS\",\"PoW\",\"PoW\",\"Proof of Trust\",\"PoW/PoS\",\"DPoS\",\"PoS\",\"PoW/PoS\",\"PoW/PoS\",\"DPoC\",\"PoW\",\"PoW/PoS\",\"PoW\",\"DPoS\",\"PoW\",\"DPoS\",\"PoS\",\"LPoS\",\"PoS\",\"DPoS\",\"PoS/LPoS\",\"DPoS\",\"PoW/PoS\",\"PoW\",\"PoW\",\"PoS\"],\"TotalCoinSupply\":[\"42\",\"532000000\",\"314159265359\",\"21000000\",\"0\",\"84000000\",\"22000000\",\"0\",\"210000000\",\"21000000\",\"3600570502\",\"21000000000\",\"22000000\",\"12500000\",\"21000000\",\"350000000\",\"20000000\",\"64000000\",\"16768584\",\"0\",\"2000000000\",\"384000000000\",\"169795588\",\"250000000\",\"100000000\",\"0\",\"247000000\",\"84000000\",\"48166000\",\"500000\",\"21000000 \",\"1000000\",\"13140000\",\"18000000\",\"40000000000\",\"4380000\",\"16555000000\",\"21000000000\",\"13500000000\",\"21000000 \",\"299792458\",\"32000000\",\"0\",\"0\",\"11235813\",\"336000000\",\"1420609614\",\"70000000\",\"72245700\",\"120000000\",\"0\",\"90600000000\",\"22000000\",\"21000000\",\"265420800\",\"20000000\",\"1350000\",\"100000000\",\"42000000\",\"200000000\",\"0\",\"10000000\",\"2419200000\",\"16180000\",\"0\",\"15000000000\",\"21000000\",\"337000000\",\"0\",\"3770000\",\"420000000\",\"98000000\",\"0\",\"21000000\",\"250000000\",\"51200000\",\"0\",\"1000\",\"888000000\",\"100000000\",\"47011968\",\"2300000000\",\"10000000\",\"42000000\",\"80000000\",\"250000\",\"0\",\"1600000000\",\"100000000\",\"23000000\",\"0\",\"84000000\",\"265420800\",\"5500000\",\"0\",\"45000000\",\"0\",\"1000000000\",\"184467440735\",\"10000000000\",\"2158812800\",\"500000000\",\"105120000\",\"68000000\",\"0\",\"1680000000\",\"0\",\"166386000\",\"12000000\",\"2628000\",\"500000000\",\"160000000\",\"0\",\"10000000\",\"1000000000\",\"1000000000\",\"20000000\",\"0\",\"0\",\"3371337\",\"20000000\",\"10000000000\",\"1840000000\",\"619478\",\"21000000\",\"92000000000\",\"0\",\"78000000\",\"33000000\",\"65789100\",\"53760000\",\"5060000\",\"21000000\",\"0\",\"210240000\",\"250000000\",\"100000000\",\"16906397\",\"50000000\",\"0\",\"1000000000\",\"26298000\",\"16000000\",\"21000000\",\"21000000\",\"210000000\",\"81962100\",\"22000000\",\"26550000000\",\"84000000\",\"10500000\",\"21626280000 \",\"0\",\"42000000\",\"221052632\",\"84000000\",\"30000000\",\"168351300\",\"24000000\",\"384000000\",\" 99000000000\",\"40000000\",\"2147483647\",\"20000000\",\"20000000\",\"25000000\",\"75000000\",\"222725000\",\"525000000\",\"90000000\",\"139000000\",\"616448\",\"33500000\",\"2000000000\",\"44333333\",\"100000000\",\"200000000\",\"25000000\",\"657000000\",\"200000000\",\"50000000\",\"90000000\",\"10000000\",\"21000000\",\"9736000\",\"3000000\",\"21000000\",\"1200000000\",\"0\",\"200000000\",\"0\",\"10638298\",\"3100000000\",\"30000000\",\"20000000000\",\"74000000\",\"0\",\"1500000000\",\"21400000\",\"39999898\",\"2500124\",\"100000000\",\"301000000\",\"7506000000\",\"26205539\",\"21000000\",\"125000000\",\"30000000\",\"10000000000\",\"500000000\",\"850000000\",\"3853326.77707314\",\"50000000\",\"38540000 \",\"42000000\",\"228000000\",\"20000000\",\"60000000\",\"20000000\",\"33000000\",\"76500000\",\"28000000\",\"650659833\",\"5000000\",\"21000000\",\"144000000\",\"32514916898\",\"13000000\",\"3315789\",\"15000000\",\"78835200\",\"2714286\",\"25000000\",\"9999999\",\"500000000\",\"21000000\",\"9354000\",\"20000000\",\"100000000000\",\"21933333\",\"185000000\",\"55000000\",\"110000000\",\"3360000\",\"14524851.4827\",\"1000000000\",\"17000000\",\"1000000000\",\"100000000 \",\"21000000\",\"34426423\",\"2232901\",\"100000000\",\"36900000\",\"110000000\",\"4000000000\",\"110290030\",\"100000000\",\"48252000\",\"400000000\",\"500000000\",\"21212121\",\"28600000\",\"1000000000\",\"75000000000\",\"40000000\",\"35520400\",\"2000000000\",\"2500000000\",\"30000000\",\"105000000\",\"90000000000\",\"200084200\",\"72000000\",\"100000000\",\"105000000\",\"50000000000\",\"0\",\"340282367\",\"30000000\",\"2000000000\",\"10000000\",\"100000000\",\"120000000\",\"100000000\",\"19276800\",\"30000000\",\" 75000000\",\"60000000\",\"18900000\",\"50000000000\",\"54000000\",\"18898187.6216583\",\"21000000\",\"200000000000\",\"5000000000\",\"137500000\",\"1100000000\",\"100000000\",\"21000000\",\"9507271\",\"17405891.19707116\",\"86712634466\",\"10500000000\",\"61599965\",\"0\",\"20000000\",\"84000000\",\"100000000\",\"100000000\",\"48252000\",\"4200000\",\"88888888\",\"91388946\",\"45000000000\",\"27000000\",\"21000000000\",\"400000000\",\"1800000000\",\"15733333\",\"27000000\",\"24000000\",\"21000000\",\"25000000000\",\"100000000\",\"1200000000\",\"60000000\",\"156306732.71\",\"21000000\",\"200000000\",\"100000000\",\"21000000\",\"14788275.991\",\"9000000000\",\"350000000\",\"45000000\",\"280000000\",\"31800000\",\"144000000\",\"500000000\",\"30000000000\",\"210000000\",\"660000000\",\"210000000\",\"85000000000\",\"12500000\",\"10000000000\",\"27716121\",\"20000000\",\"550000000\",\"999481516\",\"50000000000\",\"150000000\",\"4999999999\",\"50000000\",\" 90000000000\",\"19800000\",\"21000000\",\"120000000\",\"500000000\",\"64000000\",\"900000000\",\"4000000\",\"21000000\",\"23000000\",\"20166000\",\"23000000\",\"25000000\",\"1618033\",\"30000000\",\"1000000000000\",\"16600000\",\"232000000\",\"336000000\",\"10000000000\",\"100000000\",\"1100000000\",\"800000000\",\"5200000000\",\"840000000\",\"40000000\",\"18406979840\",\"500000000\",\"19340594\",\"252460800\",\"25000000\",\"60000000\",\"124000000\",\"1000000000\",\"6500000000\",\"1000000000\",\"21000000\",\"25000000\",\"50000000\",\"3000000\",\"5000000\",\"70000000\",\"500000000\",\"300000000\",\"21000000\",\"88000000\",\"30000000\",\"100000000\",\"100000000\",\"200000000\",\"80000000\",\"18400000\",\"45000000\",\"5121951220\",\"21000000\",\"26280000\",\"21000000\",\"18000000\",\"26000000\",\"10500000\",\"600000518\",\"150000000\",\"184000000000\",\"10200000000\",\"44000000\",\"168000000\",\"100000000\",\"1000000000\",\"84000000\",\"90000000\",\"92000000000\",\"650000000 \",\"100262205\",\"18081806 \",\"22075700\",\"21000000\",\"21000000\",\"82546564\",\"21000000\",\"5151000\",\"16880000000\",\"52500000\",\"100000000\",\"22105263\",\"1000000000\",\"1750000000\",\"88188888\",\"210000000\",\"184470000000\",\"55000000\",\"50000000\",\"260000000\",\"210000000\",\"2100000000\",\"366000000\",\"100000000\",\"25000000\",\"18000000000\",\"1000000000\",\"100000000\",\"1000000000\",\"7600000000\",\"50000000\",\"84000000\",\"21000000\",\"70000000000\",\"0\",\"8080000000\",\"54000000\",\"105120001.44\",\"25228800\",\"105000000\",\"21000000\",\"120000000\",\"21000000\",\"262800000\",\"19035999\",\"30886000\",\"13370000\",\"74800000000\",\"100000000\",\"19700000\",\"84000000\",\"500000000\",\"5000000000\",\"420000000\",\"64000000\",\"2100000\",\"168000000\",\"30000000\",\"1000000000\",\"35000000000\",\"98100000000\",\"0\",\"4000000000\",\"200000000\",\"7000000000\",\"54256119\",\"21000000\",\"0\",\"500000000\",\"1000000000\",\"10500000000\",\"190000000\",\"1000000000\",\"42000000\",\"15000000\",\"50000000000\",\"400000000\",\"105000000\",\"208000000\",\"160000000\",\"9000000\",\"5000000\",\"182000000\",\"16504333\",\"105000000\",\"159918400\",\"10008835635\",\"300000000\",\"60168145\",\"5000000000\",\"2800000\",\"120000\",\"2100000000\",\"0\",\"24487944\",\"0\",\"1000000000\",\"100000000\",\"8634140\",\"990000000000\",\"1000000000\",\"2000000000\",\"250000000\",\"1400222610\",\"21000000\",\"1000000\"],\"TotalCoinsMined\":{\"__ndarray__\":\"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\",\"dtype\":\"float64\",\"order\":\"little\",\"shape\":[533]},\"class\":{\"__ndarray__\":\"AAAAAAAAAAAAAAAAAQAAAAEAAAABAAAAAAAAAAEAAAABAAAAAQAAAAAAAAABAAAAAAAAAAAAAAABAAAAAAAAAAEAAAABAAAAAAAAAAAAAAABAAAAAQAAAAEAAAABAAAAAQAAAAAAAAABAAAAAQAAAAEAAAAAAAAAAQAAAAAAAAABAAAAAQAAAAAAAAAAAAAAAQAAAAEAAAABAAAAAQAAAAEAAAABAAAAAAAAAAAAAAABAAAAAQAAAAEAAAABAAAAAQAAAAAAAAAAAAAAAQAAAAAAAAABAAAAAQAAAAEAAAABAAAAAAAAAAEAAAABAAAAAAAAAAEAAAAAAAAAAAAAAAAAAAABAAAAAQAAAAEAAAAAAAAAAAAAAAAAAAAAAAAAAAAAAAEAAAABAAAAAQAAAAAAAAAAAAAAAQAAAAAAAAABAAAAAAAAAAAAAAABAAAAAQAAAAEAAAABAAAAAAAAAAAAAAABAAAAAAAAAAEAAAABAAAAAAAAAAAAAAABAAAAAAAAAAAAAAABAAAAAQAAAAAAAAAAAAAAAQAAAAAAAAAAAAAAAQAAAAAAAAABAAAAAAAAAAEAAAAAAAAAAQAAAAAAAAAAAAAAAQAAAAEAAAAAAAAAAQAAAAEAAAABAAAAAAAAAAEAAAABAAAAAQAAAAEAAAABAAAAAAAAAAAAAAABAAAAAQAAAAEAAAAAAAAAAQAAAAAAAAABAAAAAQAAAAAAAAABAAAAAAAAAAEAAAAAAAAAAAAAAAEAAAABAAAAAAAAAAEAAAABAAAAAAAAAAAAAAABAAAAAAAAAAEAAAAAAAAAAAAAAAAAAAABAAAAAQAAAAEAAAABAAAAAAAAAAAAAAAAAAAAAAAAAAAAAAABAAAAAQAAAAAAAAAAAAAAAAAAAAAAAAAAAAAAAQAAAAAAAAAAAAAAAAAAAAAAAAAAAAAAAQAAAAAAAAABAAAAAAAAAAAAAAABAAAAAAAAAAEAAAAAAAAAAAAAAAEAAAAAAAAAAQAAAAAAAAABAAAAAAAAAAEAAAAAAAAAAAAAAAAAAAAAAAAAAQAAAAAAAAAAAAAAAAAAAAAAAAAAAAAAAQAAAAEAAAAAAAAAAAAAAAEAAAABAAAAAAAAAAAAAAAAAAAAAAAAAAAAAAABAAAAAAAAAAAAAAAAAAAAAAAAAAAAAAAAAAAAAAAAAAAAAAABAAAAAAAAAAAAAAAAAAAAAAAAAAAAAAAAAAAAAQAAAAEAAAABAAAAAAAAAAAAAAAAAAAAAAAAAAEAAAAAAAAAAQAAAAAAAAAAAAAAAQAAAAAAAAABAAAAAQAAAAAAAAABAAAAAQAAAAAAAAABAAAAAAAAAAAAAAAAAAAAAQAAAAAAAAAAAAAAAQAAAAAAAAAAAAAAAAAAAAAAAAAAAAAAAAAAAAAAAAABAAAAAAAAAAEAAAAAAAAAAAAAAAAAAAAAAAAAAQAAAAAAAAABAAAAAAAAAAEAAAABAAAAAQAAAAEAAAAAAAAAAQAAAAAAAAAAAAAAAQAAAAAAAAABAAAAAQAAAAEAAAAAAAAAAQAAAAAAAAABAAAAAQAAAAEAAAAAAAAAAQAAAAAAAAABAAAAAAAAAAAAAAAAAAAAAQAAAAAAAAABAAAAAQAAAAEAAAABAAAAAQAAAAAAAAAAAAAAAQAAAAAAAAAAAAAAAAAAAAEAAAAAAAAAAQAAAAAAAAABAAAAAAAAAAEAAAAAAAAAAAAAAAAAAAAAAAAAAQAAAAAAAAAAAAAAAQAAAAAAAAAAAAAAAAAAAAEAAAABAAAAAQAAAAEAAAAAAAAAAAAAAAAAAAAAAAAAAQAAAAAAAAABAAAAAQAAAAEAAAAAAAAAAAAAAAEAAAABAAAAAAAAAAAAAAABAAAAAAAAAAEAAAABAAAAAQAAAAAAAAABAAAAAQAAAAAAAAAAAAAAAAAAAAEAAAABAAAAAQAAAAAAAAAAAAAAAAAAAAEAAAABAAAAAAAAAAEAAAABAAAAAQAAAAEAAAAAAAAAAwAAAAMAAAABAAAAAQAAAAEAAAAAAAAAAwAAAAAAAAAAAAAAAAAAAAAAAAABAAAAAQAAAAEAAAABAAAAAAAAAAAAAAAAAAAAAQAAAAAAAAABAAAAAAAAAAAAAAAAAAAAAAAAAAEAAAAAAAAAAAAAAAEAAAAAAAAAAAAAAAEAAAABAAAAAAAAAAEAAAAAAAAAAQAAAAEAAAABAAAAAQAAAAAAAAAAAAAAAQAAAAAAAAABAAAAAAAAAAAAAAAAAAAAAAAAAAAAAAAAAAAAAQAAAAEAAAABAAAAAAAAAAAAAAAAAAAAAAAAAAAAAAAAAAAAAQAAAAAAAAABAAAAAQAAAAEAAAABAAAAAAAAAAAAAAAAAAAAAAAAAAEAAAAAAAAAAAAAAAEAAAAAAAAAAAAAAAEAAAAAAAAAAQAAAAAAAAABAAAAAQAAAAAAAAAAAAAAAQAAAAAAAAABAAAAAQAAAAEAAAABAAAAAQAAAAAAAAABAAAAAAAAAAEAAAAAAAAAAAAAAAEAAAAAAAAAAAAAAAAAAAAAAAAAAAAAAAEAAAABAAAAAQAAAAAAAAAAAAAAAAAAAAEAAAAAAAAAAQAAAAAAAAABAAAAAAAAAAAAAAAAAAAAAAAAAAEAAAAAAAAAAAAAAAAAAAABAAAAAAAAAAEAAAAAAAAAAQAAAAAAAAAAAAAAAAAAAAEAAAABAAAAAAAAAAAAAAAAAAAAAAAAAAAAAAAAAAAAAwAAAAEAAAAAAAAAAQAAAAAAAAABAAAAAAAAAAAAAAADAAAAAAAAAAIAAAAAAAAAAAAAAAAAAAABAAAAAQAAAAAAAAA=\",\"dtype\":\"int32\",\"order\":\"little\",\"shape\":[533]}},\"selected\":{\"id\":\"1114\"},\"selection_policy\":{\"id\":\"1148\"}},\"id\":\"1113\",\"type\":\"ColumnDataSource\"},{\"attributes\":{},\"id\":\"1140\",\"type\":\"NumberFormatter\"},{\"attributes\":{\"editor\":{\"id\":\"1141\"},\"field\":\"class\",\"formatter\":{\"id\":\"1140\"},\"title\":\"class\"},\"id\":\"1142\",\"type\":\"TableColumn\"},{\"attributes\":{},\"id\":\"1121\",\"type\":\"StringEditor\"},{\"attributes\":{\"margin\":[5,5,5,5],\"name\":\"HSpacer01908\",\"sizing_mode\":\"stretch_width\"},\"id\":\"1150\",\"type\":\"Spacer\"},{\"attributes\":{},\"id\":\"1120\",\"type\":\"StringFormatter\"},{\"attributes\":{},\"id\":\"1116\",\"type\":\"StringEditor\"},{\"attributes\":{},\"id\":\"1130\",\"type\":\"StringFormatter\"},{\"attributes\":{\"columns\":[{\"id\":\"1117\"},{\"id\":\"1122\"},{\"id\":\"1127\"},{\"id\":\"1132\"},{\"id\":\"1137\"},{\"id\":\"1142\"}],\"height\":300,\"reorderable\":false,\"source\":{\"id\":\"1113\"},\"view\":{\"id\":\"1147\"},\"width\":700},\"id\":\"1145\",\"type\":\"DataTable\"},{\"attributes\":{\"editor\":{\"id\":\"1116\"},\"field\":\"CoinName\",\"formatter\":{\"id\":\"1115\"},\"title\":\"CoinName\"},\"id\":\"1117\",\"type\":\"TableColumn\"},{\"attributes\":{},\"id\":\"1125\",\"type\":\"StringFormatter\"},{\"attributes\":{\"children\":[{\"id\":\"1112\"},{\"id\":\"1145\"},{\"id\":\"1150\"}],\"margin\":[0,0,0,0],\"name\":\"Row01903\",\"tags\":[\"embedded\"]},\"id\":\"1111\",\"type\":\"Row\"},{\"attributes\":{\"format\":\"0,0.0[00000]\"},\"id\":\"1135\",\"type\":\"NumberFormatter\"},{\"attributes\":{\"source\":{\"id\":\"1113\"}},\"id\":\"1147\",\"type\":\"CDSView\"},{\"attributes\":{},\"id\":\"1148\",\"type\":\"UnionRenderers\"},{\"attributes\":{\"editor\":{\"id\":\"1121\"},\"field\":\"Algorithm\",\"formatter\":{\"id\":\"1120\"},\"title\":\"Algorithm\"},\"id\":\"1122\",\"type\":\"TableColumn\"},{\"attributes\":{},\"id\":\"1126\",\"type\":\"StringEditor\"},{\"attributes\":{},\"id\":\"1141\",\"type\":\"IntEditor\"}],\"root_ids\":[\"1111\"]},\"title\":\"Bokeh Application\",\"version\":\"2.4.1\"}};\n",
       "    var render_items = [{\"docid\":\"4620ad7f-b570-472a-9aa6-b7fd8b1bd992\",\"root_ids\":[\"1111\"],\"roots\":{\"1111\":\"5f8a5c83-ad13-49f9-9ede-0cab9b6503cc\"}}];\n",
       "    root.Bokeh.embed.embed_items_notebook(docs_json, render_items);\n",
       "  }\n",
       "  if (root.Bokeh !== undefined && root.Bokeh.Panel !== undefined) {\n",
       "    embed_document(root);\n",
       "  } else {\n",
       "    var attempts = 0;\n",
       "    var timer = setInterval(function(root) {\n",
       "      if (root.Bokeh !== undefined && root.Bokeh.Panel !== undefined) {\n",
       "        clearInterval(timer);\n",
       "        embed_document(root);\n",
       "      } else if (document.readyState == \"complete\") {\n",
       "        attempts++;\n",
       "        if (attempts > 200) {\n",
       "          clearInterval(timer);\n",
       "          console.log(\"Bokeh: ERROR: Unable to run BokehJS code because BokehJS library is missing\");\n",
       "        }\n",
       "      }\n",
       "    }, 25, root)\n",
       "  }\n",
       "})(window);</script>"
      ],
      "text/plain": [
       ":Table   [CoinName,Algorithm,ProofType,TotalCoinSupply,TotalCoinsMined,class]"
      ]
     },
     "execution_count": 39,
     "metadata": {
      "application/vnd.holoviews_exec.v0+json": {
       "id": "1111"
      }
     },
     "output_type": "execute_result"
    }
   ],
   "source": [
    "# Create a table with tradable cryptocurrencies.\n",
    "clustered_df.hvplot.table(columns=['CoinName', 'Algorithm', 'ProofType','TotalCoinSupply','TotalCoinsMined','class'], sortable=True, selectable=True)\n"
   ]
  },
  {
   "cell_type": "code",
   "execution_count": 47,
   "id": "a7fa35e1",
   "metadata": {},
   "outputs": [
    {
     "name": "stdout",
     "output_type": "stream",
     "text": [
      "533\n"
     ]
    }
   ],
   "source": [
    "# Print the total number of tradable cryptocurrencies.\n",
    "print(len(clustered_df['CoinName']))\n"
   ]
  },
  {
   "cell_type": "code",
   "execution_count": 52,
   "id": "0e5e4ab5",
   "metadata": {},
   "outputs": [
    {
     "data": {
      "text/plain": [
       "array([[4.20000000e-11, 5.94230127e-03],\n",
       "       [5.32000000e-04, 7.00182308e-03],\n",
       "       [3.14159265e-01, 3.53420682e-02],\n",
       "       ...,\n",
       "       [1.40022261e-03, 6.92655266e-03],\n",
       "       [2.10000000e-05, 5.94962775e-03],\n",
       "       [1.00000000e-06, 5.94243008e-03]])"
      ]
     },
     "execution_count": 52,
     "metadata": {},
     "output_type": "execute_result"
    }
   ],
   "source": [
    "# Scaling data to create the scatter plot with tradable cryptocurrencies.\n",
    "df_scaled=MinMaxScaler().fit_transform(clustered_df[['TotalCoinSupply','TotalCoinsMined']])\n",
    "df_scaled"
   ]
  },
  {
   "cell_type": "code",
   "execution_count": 53,
   "id": "34d116f9",
   "metadata": {},
   "outputs": [
    {
     "data": {
      "text/html": [
       "<div>\n",
       "<style scoped>\n",
       "    .dataframe tbody tr th:only-of-type {\n",
       "        vertical-align: middle;\n",
       "    }\n",
       "\n",
       "    .dataframe tbody tr th {\n",
       "        vertical-align: top;\n",
       "    }\n",
       "\n",
       "    .dataframe thead th {\n",
       "        text-align: right;\n",
       "    }\n",
       "</style>\n",
       "<table border=\"1\" class=\"dataframe\">\n",
       "  <thead>\n",
       "    <tr style=\"text-align: right;\">\n",
       "      <th></th>\n",
       "      <th>TotalCoinSupply</th>\n",
       "      <th>TotalCoinsMined</th>\n",
       "      <th>CoinName</th>\n",
       "      <th>class</th>\n",
       "    </tr>\n",
       "    <tr>\n",
       "      <th>Unnamed: 0</th>\n",
       "      <th></th>\n",
       "      <th></th>\n",
       "      <th></th>\n",
       "      <th></th>\n",
       "    </tr>\n",
       "  </thead>\n",
       "  <tbody>\n",
       "    <tr>\n",
       "      <th>42</th>\n",
       "      <td>4.200000e-11</td>\n",
       "      <td>0.005942</td>\n",
       "      <td>42 Coin</td>\n",
       "      <td>0</td>\n",
       "    </tr>\n",
       "    <tr>\n",
       "      <th>404</th>\n",
       "      <td>5.320000e-04</td>\n",
       "      <td>0.007002</td>\n",
       "      <td>404Coin</td>\n",
       "      <td>0</td>\n",
       "    </tr>\n",
       "    <tr>\n",
       "      <th>1337</th>\n",
       "      <td>3.141593e-01</td>\n",
       "      <td>0.035342</td>\n",
       "      <td>EliteCoin</td>\n",
       "      <td>0</td>\n",
       "    </tr>\n",
       "    <tr>\n",
       "      <th>BTC</th>\n",
       "      <td>2.100000e-05</td>\n",
       "      <td>0.005960</td>\n",
       "      <td>Bitcoin</td>\n",
       "      <td>1</td>\n",
       "    </tr>\n",
       "    <tr>\n",
       "      <th>ETH</th>\n",
       "      <td>0.000000e+00</td>\n",
       "      <td>0.006050</td>\n",
       "      <td>Ethereum</td>\n",
       "      <td>1</td>\n",
       "    </tr>\n",
       "    <tr>\n",
       "      <th>LTC</th>\n",
       "      <td>8.400000e-05</td>\n",
       "      <td>0.006006</td>\n",
       "      <td>Litecoin</td>\n",
       "      <td>1</td>\n",
       "    </tr>\n",
       "    <tr>\n",
       "      <th>DASH</th>\n",
       "      <td>2.200000e-05</td>\n",
       "      <td>0.005951</td>\n",
       "      <td>Dash</td>\n",
       "      <td>0</td>\n",
       "    </tr>\n",
       "    <tr>\n",
       "      <th>XMR</th>\n",
       "      <td>0.000000e+00</td>\n",
       "      <td>0.005960</td>\n",
       "      <td>Monero</td>\n",
       "      <td>1</td>\n",
       "    </tr>\n",
       "    <tr>\n",
       "      <th>ETC</th>\n",
       "      <td>2.100000e-04</td>\n",
       "      <td>0.006056</td>\n",
       "      <td>Ethereum Classic</td>\n",
       "      <td>1</td>\n",
       "    </tr>\n",
       "    <tr>\n",
       "      <th>ZEC</th>\n",
       "      <td>2.100000e-05</td>\n",
       "      <td>0.005950</td>\n",
       "      <td>ZCash</td>\n",
       "      <td>1</td>\n",
       "    </tr>\n",
       "  </tbody>\n",
       "</table>\n",
       "</div>"
      ],
      "text/plain": [
       "            TotalCoinSupply  TotalCoinsMined          CoinName  class\n",
       "Unnamed: 0                                                           \n",
       "42             4.200000e-11         0.005942           42 Coin      0\n",
       "404            5.320000e-04         0.007002           404Coin      0\n",
       "1337           3.141593e-01         0.035342         EliteCoin      0\n",
       "BTC            2.100000e-05         0.005960           Bitcoin      1\n",
       "ETH            0.000000e+00         0.006050          Ethereum      1\n",
       "LTC            8.400000e-05         0.006006          Litecoin      1\n",
       "DASH           2.200000e-05         0.005951              Dash      0\n",
       "XMR            0.000000e+00         0.005960            Monero      1\n",
       "ETC            2.100000e-04         0.006056  Ethereum Classic      1\n",
       "ZEC            2.100000e-05         0.005950             ZCash      1"
      ]
     },
     "execution_count": 53,
     "metadata": {},
     "output_type": "execute_result"
    }
   ],
   "source": [
    "# Create a new DataFrame that has the scaled data with the clustered_df DataFrame index.\n",
    "plot_df=pd.DataFrame(data=df_scaled,columns=['TotalCoinSupply','TotalCoinsMined'],index=clustered_df.index)\n",
    "\n",
    "# Add the \"CoinName\" column from the clustered_df DataFrame to the new DataFrame.\n",
    "plot_df['CoinName']=clustered_df['CoinName']\n",
    "\n",
    "# Add the \"Class\" column from the clustered_df DataFrame to the new DataFrame. \n",
    "plot_df['class']=clustered_df['class']\n",
    "\n",
    "plot_df.head(10)"
   ]
  },
  {
   "cell_type": "code",
   "execution_count": 54,
   "id": "a5c4dc8b",
   "metadata": {},
   "outputs": [
    {
     "data": {},
     "metadata": {},
     "output_type": "display_data"
    },
    {
     "data": {
      "application/vnd.holoviews_exec.v0+json": "",
      "text/html": [
       "<div id='1508'>\n",
       "\n",
       "\n",
       "\n",
       "\n",
       "\n",
       "  <div class=\"bk-root\" id=\"bb3f7948-2210-4e66-90b5-21b194e6bd18\" data-root-id=\"1508\"></div>\n",
       "</div>\n",
       "<script type=\"application/javascript\">(function(root) {\n",
       "  function embed_document(root) {\n",
       "    var docs_json = {\"6c6693af-4746-462e-aa32-430fa3a46e7b\":{\"defs\":[{\"extends\":null,\"module\":null,\"name\":\"ReactiveHTML1\",\"overrides\":[],\"properties\":[]},{\"extends\":null,\"module\":null,\"name\":\"FlexBox1\",\"overrides\":[],\"properties\":[{\"default\":\"flex-start\",\"kind\":null,\"name\":\"align_content\"},{\"default\":\"flex-start\",\"kind\":null,\"name\":\"align_items\"},{\"default\":\"row\",\"kind\":null,\"name\":\"flex_direction\"},{\"default\":\"wrap\",\"kind\":null,\"name\":\"flex_wrap\"},{\"default\":\"flex-start\",\"kind\":null,\"name\":\"justify_content\"}]},{\"extends\":null,\"module\":null,\"name\":\"GridStack1\",\"overrides\":[],\"properties\":[{\"default\":\"warn\",\"kind\":null,\"name\":\"mode\"},{\"default\":null,\"kind\":null,\"name\":\"ncols\"},{\"default\":null,\"kind\":null,\"name\":\"nrows\"},{\"default\":true,\"kind\":null,\"name\":\"allow_resize\"},{\"default\":true,\"kind\":null,\"name\":\"allow_drag\"},{\"default\":[],\"kind\":null,\"name\":\"state\"}]},{\"extends\":null,\"module\":null,\"name\":\"click1\",\"overrides\":[],\"properties\":[{\"default\":\"\",\"kind\":null,\"name\":\"terminal_output\"},{\"default\":\"\",\"kind\":null,\"name\":\"debug_name\"},{\"default\":0,\"kind\":null,\"name\":\"clears\"}]},{\"extends\":null,\"module\":null,\"name\":\"NotificationAreaBase1\",\"overrides\":[],\"properties\":[{\"default\":\"bottom-right\",\"kind\":null,\"name\":\"position\"},{\"default\":0,\"kind\":null,\"name\":\"_clear\"}]},{\"extends\":null,\"module\":null,\"name\":\"NotificationArea1\",\"overrides\":[],\"properties\":[{\"default\":[],\"kind\":null,\"name\":\"notifications\"},{\"default\":\"bottom-right\",\"kind\":null,\"name\":\"position\"},{\"default\":0,\"kind\":null,\"name\":\"_clear\"},{\"default\":[{\"background\":\"#ffc107\",\"icon\":{\"className\":\"fas fa-exclamation-triangle\",\"color\":\"white\",\"tagName\":\"i\"},\"type\":\"warning\"},{\"background\":\"#007bff\",\"icon\":{\"className\":\"fas fa-info-circle\",\"color\":\"white\",\"tagName\":\"i\"},\"type\":\"info\"}],\"kind\":null,\"name\":\"types\"}]},{\"extends\":null,\"module\":null,\"name\":\"Notification\",\"overrides\":[],\"properties\":[{\"default\":null,\"kind\":null,\"name\":\"background\"},{\"default\":3000,\"kind\":null,\"name\":\"duration\"},{\"default\":null,\"kind\":null,\"name\":\"icon\"},{\"default\":\"\",\"kind\":null,\"name\":\"message\"},{\"default\":null,\"kind\":null,\"name\":\"notification_type\"},{\"default\":false,\"kind\":null,\"name\":\"_destroyed\"}]},{\"extends\":null,\"module\":null,\"name\":\"TemplateActions1\",\"overrides\":[],\"properties\":[{\"default\":0,\"kind\":null,\"name\":\"open_modal\"},{\"default\":0,\"kind\":null,\"name\":\"close_modal\"}]},{\"extends\":null,\"module\":null,\"name\":\"MaterialTemplateActions1\",\"overrides\":[],\"properties\":[{\"default\":0,\"kind\":null,\"name\":\"open_modal\"},{\"default\":0,\"kind\":null,\"name\":\"close_modal\"}]}],\"roots\":{\"references\":[{\"attributes\":{\"angle\":{\"value\":0.0},\"fill_alpha\":{\"value\":1.0},\"fill_color\":{\"value\":\"#fc4f30\"},\"hatch_alpha\":{\"value\":1.0},\"hatch_color\":{\"value\":\"#fc4f30\"},\"hatch_scale\":{\"value\":12.0},\"hatch_weight\":{\"value\":1.0},\"line_alpha\":{\"value\":1.0},\"line_cap\":{\"value\":\"butt\"},\"line_color\":{\"value\":\"#fc4f30\"},\"line_dash\":{\"value\":[]},\"line_dash_offset\":{\"value\":0},\"line_join\":{\"value\":\"bevel\"},\"line_width\":{\"value\":1},\"marker\":{\"value\":\"circle\"},\"size\":{\"value\":5.477225575051661},\"x\":{\"field\":\"TotalCoinsMined\"},\"y\":{\"field\":\"TotalCoinSupply\"}},\"id\":\"1594\",\"type\":\"Scatter\"},{\"attributes\":{\"source\":{\"id\":\"1552\"}},\"id\":\"1559\",\"type\":\"CDSView\"},{\"attributes\":{},\"id\":\"1521\",\"type\":\"LinearScale\"},{\"attributes\":{\"source\":{\"id\":\"1619\"}},\"id\":\"1626\",\"type\":\"CDSView\"},{\"attributes\":{\"click_policy\":\"mute\",\"coordinates\":null,\"group\":null,\"items\":[{\"id\":\"1571\"},{\"id\":\"1593\"},{\"id\":\"1617\"},{\"id\":\"1643\"}],\"location\":[0,0],\"title\":\"class\"},\"id\":\"1570\",\"type\":\"Legend\"},{\"attributes\":{\"fill_alpha\":{\"value\":0.2},\"fill_color\":{\"value\":\"#6d904f\"},\"hatch_alpha\":{\"value\":0.2},\"hatch_color\":{\"value\":\"#6d904f\"},\"line_alpha\":{\"value\":0.2},\"line_color\":{\"value\":\"#6d904f\"},\"size\":{\"value\":5.477225575051661},\"x\":{\"field\":\"TotalCoinsMined\"},\"y\":{\"field\":\"TotalCoinSupply\"}},\"id\":\"1624\",\"type\":\"Scatter\"},{\"attributes\":{},\"id\":\"1596\",\"type\":\"Selection\"},{\"attributes\":{\"label\":{\"value\":\"2\"},\"renderers\":[{\"id\":\"1601\"}]},\"id\":\"1617\",\"type\":\"LegendItem\"},{\"attributes\":{\"fill_alpha\":{\"value\":0.2},\"fill_color\":{\"value\":\"#30a2da\"},\"hatch_alpha\":{\"value\":0.2},\"hatch_color\":{\"value\":\"#30a2da\"},\"line_alpha\":{\"value\":0.2},\"line_color\":{\"value\":\"#30a2da\"},\"size\":{\"value\":5.477225575051661},\"x\":{\"field\":\"TotalCoinsMined\"},\"y\":{\"field\":\"TotalCoinSupply\"}},\"id\":\"1557\",\"type\":\"Scatter\"},{\"attributes\":{\"callback\":null,\"renderers\":[{\"id\":\"1558\"},{\"id\":\"1579\"},{\"id\":\"1601\"},{\"id\":\"1625\"}],\"tags\":[\"hv_created\"],\"tooltips\":[[\"class\",\"@{class}\"],[\"TotalCoinsMined\",\"@{TotalCoinsMined}\"],[\"TotalCoinSupply\",\"@{TotalCoinSupply}\"],[\"CoinName\",\"@{CoinName}\"]]},\"id\":\"1512\",\"type\":\"HoverTool\"},{\"attributes\":{\"label\":{\"value\":\"0\"},\"renderers\":[{\"id\":\"1558\"}]},\"id\":\"1571\",\"type\":\"LegendItem\"},{\"attributes\":{},\"id\":\"1640\",\"type\":\"UnionRenderers\"},{\"attributes\":{\"label\":{\"value\":\"3\"},\"renderers\":[{\"id\":\"1625\"}]},\"id\":\"1643\",\"type\":\"LegendItem\"},{\"attributes\":{\"coordinates\":null,\"data_source\":{\"id\":\"1619\"},\"glyph\":{\"id\":\"1622\"},\"group\":null,\"hover_glyph\":null,\"muted_glyph\":{\"id\":\"1624\"},\"nonselection_glyph\":{\"id\":\"1623\"},\"selection_glyph\":{\"id\":\"1644\"},\"view\":{\"id\":\"1626\"}},\"id\":\"1625\",\"type\":\"GlyphRenderer\"},{\"attributes\":{\"coordinates\":null,\"data_source\":{\"id\":\"1552\"},\"glyph\":{\"id\":\"1555\"},\"group\":null,\"hover_glyph\":null,\"muted_glyph\":{\"id\":\"1557\"},\"nonselection_glyph\":{\"id\":\"1556\"},\"selection_glyph\":{\"id\":\"1572\"},\"view\":{\"id\":\"1559\"}},\"id\":\"1558\",\"type\":\"GlyphRenderer\"},{\"attributes\":{\"data\":{\"CoinName\":[\"42 Coin\",\"404Coin\",\"EliteCoin\",\"Dash\",\"Bitshares\",\"BitcoinDark\",\"PayCoin\",\"KoboCoin\",\"Aurora Coin\",\"BlueCoin\",\"EnergyCoin\",\"BitBar\",\"CryptoBullion\",\"CasinoCoin\",\"Diamond\",\"Exclusive Coin\",\"FlutterCoin\",\"HoboNickels\",\"HyperStake\",\"IOCoin\",\"MaxCoin\",\"MintCoin\",\"MazaCoin\",\"Nautilus Coin\",\"NavCoin\",\"OpalCoin\",\"Orbitcoin\",\"PotCoin\",\"PhoenixCoin\",\"Reddcoin\",\"SuperCoin\",\"SyncCoin\",\"TeslaCoin\",\"TittieCoin\",\"TorCoin\",\"UnitaryStatus Dollar\",\"UltraCoin\",\"VeriCoin\",\"X11 Coin\",\"Crypti\",\"StealthCoin\",\"ZCC Coin\",\"BurstCoin\",\"StorjCoin\",\"Neutron\",\"FairCoin\",\"RubyCoin\",\"Kore\",\"Dnotes\",\"8BIT Coin\",\"Sativa Coin\",\"Ucoin\",\"Vtorrent\",\"IslaCoin\",\"Nexus\",\"Droidz\",\"Squall Coin\",\"Diggits\",\"Paycon\",\"Emercoin\",\"EverGreenCoin\",\"Decred\",\"EDRCoin\",\"Hitcoin\",\"DubaiCoin\",\"PWR Coin\",\"BillaryCoin\",\"GPU Coin\",\"EuropeCoin\",\"ZeitCoin\",\"SwingCoin\",\"SafeExchangeCoin\",\"Nebuchadnezzar\",\"Ratecoin\",\"Revenu\",\"Clockcoin\",\"VIP Tokens\",\"BitSend\",\"Let it Ride\",\"PutinCoin\",\"iBankCoin\",\"Frankywillcoin\",\"MudraCoin\",\"Lutetium Coin\",\"GoldBlocks\",\"CarterCoin\",\"BitTokens\",\"MustangCoin\",\"ZoneCoin\",\"RootCoin\",\"BitCurrency\",\"Swiscoin\",\"BuzzCoin\",\"Opair\",\"PesoBit\",\"Halloween Coin\",\"CoffeeCoin\",\"RoyalCoin\",\"GanjaCoin V2\",\"TeamUP\",\"LanaCoin\",\"ARK\",\"InsaneCoin\",\"EmberCoin\",\"XenixCoin\",\"FreeCoin\",\"PLNCoin\",\"AquariusCoin\",\"Creatio\",\"Eternity\",\"Eurocoin\",\"BitcoinFast\",\"Stakenet\",\"BitConnect Coin\",\"MoneyCoin\",\"Enigma\",\"Russiacoin\",\"PandaCoin\",\"GameUnits\",\"GAKHcoin\",\"Allsafe\",\"LiteCreed\",\"Klingon Empire Darsek\",\"Internet of People\",\"KushCoin\",\"Printerium\",\"Impeach\",\"Zilbercoin\",\"FirstCoin\",\"FindCoin\",\"OpenChat\",\"RenosCoin\",\"VirtacoinPlus\",\"TajCoin\",\"Impact\",\"Atmos\",\"HappyCoin\",\"MacronCoin\",\"Condensate\",\"Independent Money System\",\"ArgusCoin\",\"LomoCoin\",\"ProCurrency\",\"GoldReserve\",\"GrowthCoin\",\"Phreak\",\"Degas Coin\",\"HTML5 Coin\",\"Ultimate Secure Cash\",\"QTUM\",\"Espers\",\"Denarius\",\"Virta Unique Coin\",\"Bitcoin Planet\",\"BritCoin\",\"Linda\",\"DeepOnion\",\"Signatum\",\"Cream\",\"Monoeci\",\"Draftcoin\",\"Vechain\",\"Stakecoin\",\"CoinonatX\",\"Ethereum Dark\",\"Obsidian\",\"Cardano\",\"Regalcoin\",\"TrezarCoin\",\"TerraNovaCoin\",\"Rupee\",\"WomenCoin\",\"Theresa May Coin\",\"NamoCoin\",\"LUXCoin\",\"Xios\",\"Bitcloud 2.0\",\"KekCoin\",\"BlackholeCoin\",\"Infinity Economics\",\"Magnet\",\"Lamden Tau\",\"Electra\",\"Bitcoin Diamond\",\"Cash & Back Coin\",\"Bulwark\",\"Kalkulus\",\"GermanCoin\",\"LiteCoin Ultra\",\"PhantomX\",\"Digiwage\",\"Trollcoin\",\"Litecoin Plus\",\"Monkey Project\",\"TokenPay\",\"1717 Masonic Commemorative Token\",\"My Big Coin\",\"Unified Society USDEX\",\"Tokyo Coin\",\"Stipend\",\"Pushi\",\"Ellerium\",\"Velox\",\"Ontology\",\"Bitspace\",\"Briacoin\",\"Ignition\",\"MedicCoin\",\"Bitcoin Green\",\"Deviant Coin\",\"Abjcoin\",\"Semux\",\"Carebit\",\"Zealium\",\"Proton\",\"iDealCash\",\"Bitcoin Incognito\",\"HollyWoodCoin\",\"Swisscoin\",\"Xt3ch\",\"TheVig\",\"EmaratCoin\",\"Dekado\",\"Lynx\",\"Poseidon Quark\",\"BitcoinWSpectrum\",\"Muse\",\"Trivechain\",\"Dystem\",\"Giant\",\"Peony Coin\",\"Absolute Coin\",\"Vitae\",\"TPCash\",\"ARENON\",\"EUNO\",\"MMOCoin\",\"Ketan\",\"XDNA\",\"PAXEX\",\"ThunderStake\",\"Kcash\",\"Acute Angle Cloud\",\"Bettex coin\",\"BitMoney\",\"Junson Ming Chan Coin\",\"HerbCoin\",\"Oduwa\",\"Galilel\",\"Crypto Sports\",\"Credit\",\"Dash Platinum\",\"Nasdacoin\",\"Beetle Coin\",\"Titan Coin\",\"Award\",\"Insane Coin\",\"ALAX\",\"LiteDoge\",\"TruckCoin\",\"OrangeCoin\",\"BitstarCoin\",\"NeosCoin\",\"HyperCoin\",\"PinkCoin\",\"AudioCoin\",\"IncaKoin\",\"Piggy Coin\",\"Genstake\",\"XiaoMiCoin\",\"CapriCoin\",\" ClubCoin\",\"Radium\",\"Creditbit \",\"OKCash\",\"Lisk\",\"HiCoin\",\"WhiteCoin\",\"FriendshipCoin\",\"Triangles Coin\",\"EOS\",\"Oxycoin\",\"TigerCash\",\"Particl\",\"Nxt\",\"ZEPHYR\",\"Gapcoin\",\"BitcoinPlus\"],\"TotalCoinSupply\":{\"__ndarray__\":\"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\",\"dtype\":\"float64\",\"order\":\"little\",\"shape\":[288]},\"TotalCoinsMined\":{\"__ndarray__\":\"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\",\"dtype\":\"float64\",\"order\":\"little\",\"shape\":[288]},\"class\":[0,0,0,0,0,0,0,0,0,0,0,0,0,0,0,0,0,0,0,0,0,0,0,0,0,0,0,0,0,0,0,0,0,0,0,0,0,0,0,0,0,0,0,0,0,0,0,0,0,0,0,0,0,0,0,0,0,0,0,0,0,0,0,0,0,0,0,0,0,0,0,0,0,0,0,0,0,0,0,0,0,0,0,0,0,0,0,0,0,0,0,0,0,0,0,0,0,0,0,0,0,0,0,0,0,0,0,0,0,0,0,0,0,0,0,0,0,0,0,0,0,0,0,0,0,0,0,0,0,0,0,0,0,0,0,0,0,0,0,0,0,0,0,0,0,0,0,0,0,0,0,0,0,0,0,0,0,0,0,0,0,0,0,0,0,0,0,0,0,0,0,0,0,0,0,0,0,0,0,0,0,0,0,0,0,0,0,0,0,0,0,0,0,0,0,0,0,0,0,0,0,0,0,0,0,0,0,0,0,0,0,0,0,0,0,0,0,0,0,0,0,0,0,0,0,0,0,0,0,0,0,0,0,0,0,0,0,0,0,0,0,0,0,0,0,0,0,0,0,0,0,0,0,0,0,0,0,0,0,0,0,0,0,0,0,0,0,0,0,0,0,0,0,0,0,0,0,0,0,0,0,0,0,0,0,0,0,0]},\"selected\":{\"id\":\"1553\"},\"selection_policy\":{\"id\":\"1567\"}},\"id\":\"1552\",\"type\":\"ColumnDataSource\"},{\"attributes\":{\"angle\":{\"value\":0.0},\"fill_alpha\":{\"value\":1.0},\"fill_color\":{\"value\":\"#30a2da\"},\"hatch_alpha\":{\"value\":1.0},\"hatch_color\":{\"value\":\"#30a2da\"},\"hatch_scale\":{\"value\":12.0},\"hatch_weight\":{\"value\":1.0},\"line_alpha\":{\"value\":1.0},\"line_cap\":{\"value\":\"butt\"},\"line_color\":{\"value\":\"#30a2da\"},\"line_dash\":{\"value\":[]},\"line_dash_offset\":{\"value\":0},\"line_join\":{\"value\":\"bevel\"},\"line_width\":{\"value\":1},\"marker\":{\"value\":\"circle\"},\"size\":{\"value\":5.477225575051661},\"x\":{\"field\":\"TotalCoinsMined\"},\"y\":{\"field\":\"TotalCoinSupply\"}},\"id\":\"1572\",\"type\":\"Scatter\"},{\"attributes\":{\"fill_alpha\":{\"value\":0.1},\"fill_color\":{\"value\":\"#30a2da\"},\"hatch_alpha\":{\"value\":0.1},\"hatch_color\":{\"value\":\"#30a2da\"},\"line_alpha\":{\"value\":0.1},\"line_color\":{\"value\":\"#30a2da\"},\"size\":{\"value\":5.477225575051661},\"x\":{\"field\":\"TotalCoinsMined\"},\"y\":{\"field\":\"TotalCoinSupply\"}},\"id\":\"1556\",\"type\":\"Scatter\"},{\"attributes\":{\"data\":{\"CoinName\":[\"BiblePay\",\"LitecoinCash\",\"Poa Network\",\"Fiii\",\"Waves\"],\"TotalCoinSupply\":{\"__ndarray__\":\"lPYGX5hMdT+8eapDboZLP4RaKOGWizA/exSuR+F6dD8sQxzr4jYaPw==\",\"dtype\":\"float64\",\"order\":\"little\",\"shape\":[5]},\"TotalCoinsMined\":{\"__ndarray__\":\"eHs1s8Ogfz9wjSUfGfd6P+HRjF0/Lnk/AAAAAAAAAAC5C/Q2PsB4Pw==\",\"dtype\":\"float64\",\"order\":\"little\",\"shape\":[5]},\"class\":[3,3,3,3,3]},\"selected\":{\"id\":\"1620\"},\"selection_policy\":{\"id\":\"1640\"}},\"id\":\"1619\",\"type\":\"ColumnDataSource\"},{\"attributes\":{},\"id\":\"1523\",\"type\":\"LinearScale\"},{\"attributes\":{\"data\":{\"CoinName\":[\"BitTorrent\"],\"TotalCoinSupply\":{\"__ndarray__\":\"rkfhehSu7z8=\",\"dtype\":\"float64\",\"order\":\"little\",\"shape\":[1]},\"TotalCoinsMined\":{\"__ndarray__\":\"AAAAAAAA8D8=\",\"dtype\":\"float64\",\"order\":\"little\",\"shape\":[1]},\"class\":[2]},\"selected\":{\"id\":\"1596\"},\"selection_policy\":{\"id\":\"1614\"}},\"id\":\"1595\",\"type\":\"ColumnDataSource\"},{\"attributes\":{\"below\":[{\"id\":\"1525\"}],\"center\":[{\"id\":\"1528\"},{\"id\":\"1532\"}],\"height\":300,\"left\":[{\"id\":\"1529\"}],\"margin\":[5,5,5,5],\"min_border_bottom\":10,\"min_border_left\":10,\"min_border_right\":10,\"min_border_top\":10,\"renderers\":[{\"id\":\"1558\"},{\"id\":\"1579\"},{\"id\":\"1601\"},{\"id\":\"1625\"}],\"right\":[{\"id\":\"1570\"}],\"sizing_mode\":\"fixed\",\"title\":{\"id\":\"1517\"},\"toolbar\":{\"id\":\"1539\"},\"width\":700,\"x_range\":{\"id\":\"1510\"},\"x_scale\":{\"id\":\"1521\"},\"y_range\":{\"id\":\"1511\"},\"y_scale\":{\"id\":\"1523\"}},\"id\":\"1516\",\"subtype\":\"Figure\",\"type\":\"Plot\"},{\"attributes\":{},\"id\":\"1574\",\"type\":\"Selection\"},{\"attributes\":{\"coordinates\":null,\"group\":null,\"text_color\":\"black\",\"text_font_size\":\"12pt\"},\"id\":\"1517\",\"type\":\"Title\"},{\"attributes\":{\"fill_alpha\":{\"value\":0.1},\"fill_color\":{\"value\":\"#6d904f\"},\"hatch_alpha\":{\"value\":0.1},\"hatch_color\":{\"value\":\"#6d904f\"},\"line_alpha\":{\"value\":0.1},\"line_color\":{\"value\":\"#6d904f\"},\"size\":{\"value\":5.477225575051661},\"x\":{\"field\":\"TotalCoinsMined\"},\"y\":{\"field\":\"TotalCoinSupply\"}},\"id\":\"1623\",\"type\":\"Scatter\"},{\"attributes\":{\"fill_alpha\":{\"value\":0.2},\"fill_color\":{\"value\":\"#e5ae38\"},\"hatch_alpha\":{\"value\":0.2},\"hatch_color\":{\"value\":\"#e5ae38\"},\"line_alpha\":{\"value\":0.2},\"line_color\":{\"value\":\"#e5ae38\"},\"size\":{\"value\":5.477225575051661},\"x\":{\"field\":\"TotalCoinsMined\"},\"y\":{\"field\":\"TotalCoinSupply\"}},\"id\":\"1600\",\"type\":\"Scatter\"},{\"attributes\":{},\"id\":\"1534\",\"type\":\"PanTool\"},{\"attributes\":{\"axis\":{\"id\":\"1525\"},\"coordinates\":null,\"grid_line_color\":null,\"group\":null,\"ticker\":null},\"id\":\"1528\",\"type\":\"Grid\"},{\"attributes\":{\"fill_color\":{\"value\":\"#e5ae38\"},\"hatch_color\":{\"value\":\"#e5ae38\"},\"line_color\":{\"value\":\"#e5ae38\"},\"size\":{\"value\":5.477225575051661},\"x\":{\"field\":\"TotalCoinsMined\"},\"y\":{\"field\":\"TotalCoinSupply\"}},\"id\":\"1598\",\"type\":\"Scatter\"},{\"attributes\":{\"fill_color\":{\"value\":\"#6d904f\"},\"hatch_color\":{\"value\":\"#6d904f\"},\"line_color\":{\"value\":\"#6d904f\"},\"size\":{\"value\":5.477225575051661},\"x\":{\"field\":\"TotalCoinsMined\"},\"y\":{\"field\":\"TotalCoinSupply\"}},\"id\":\"1622\",\"type\":\"Scatter\"},{\"attributes\":{\"axis_label\":\"TotalCoinsMined\",\"coordinates\":null,\"formatter\":{\"id\":\"1547\"},\"group\":null,\"major_label_policy\":{\"id\":\"1548\"},\"ticker\":{\"id\":\"1526\"}},\"id\":\"1525\",\"type\":\"LinearAxis\"},{\"attributes\":{\"fill_alpha\":{\"value\":0.1},\"fill_color\":{\"value\":\"#e5ae38\"},\"hatch_alpha\":{\"value\":0.1},\"hatch_color\":{\"value\":\"#e5ae38\"},\"line_alpha\":{\"value\":0.1},\"line_color\":{\"value\":\"#e5ae38\"},\"size\":{\"value\":5.477225575051661},\"x\":{\"field\":\"TotalCoinsMined\"},\"y\":{\"field\":\"TotalCoinSupply\"}},\"id\":\"1599\",\"type\":\"Scatter\"},{\"attributes\":{},\"id\":\"1614\",\"type\":\"UnionRenderers\"},{\"attributes\":{\"margin\":[5,5,5,5],\"name\":\"HSpacer03014\",\"sizing_mode\":\"stretch_width\"},\"id\":\"1773\",\"type\":\"Spacer\"},{\"attributes\":{},\"id\":\"1535\",\"type\":\"WheelZoomTool\"},{\"attributes\":{\"coordinates\":null,\"data_source\":{\"id\":\"1595\"},\"glyph\":{\"id\":\"1598\"},\"group\":null,\"hover_glyph\":null,\"muted_glyph\":{\"id\":\"1600\"},\"nonselection_glyph\":{\"id\":\"1599\"},\"selection_glyph\":{\"id\":\"1618\"},\"view\":{\"id\":\"1602\"}},\"id\":\"1601\",\"type\":\"GlyphRenderer\"},{\"attributes\":{},\"id\":\"1526\",\"type\":\"BasicTicker\"},{\"attributes\":{\"axis_label\":\"TotalCoinSupply\",\"coordinates\":null,\"formatter\":{\"id\":\"1550\"},\"group\":null,\"major_label_policy\":{\"id\":\"1551\"},\"ticker\":{\"id\":\"1530\"}},\"id\":\"1529\",\"type\":\"LinearAxis\"},{\"attributes\":{\"axis\":{\"id\":\"1529\"},\"coordinates\":null,\"dimension\":1,\"grid_line_color\":null,\"group\":null,\"ticker\":null},\"id\":\"1532\",\"type\":\"Grid\"},{\"attributes\":{},\"id\":\"1530\",\"type\":\"BasicTicker\"},{\"attributes\":{},\"id\":\"1548\",\"type\":\"AllLabels\"},{\"attributes\":{},\"id\":\"1533\",\"type\":\"SaveTool\"},{\"attributes\":{\"source\":{\"id\":\"1595\"}},\"id\":\"1602\",\"type\":\"CDSView\"},{\"attributes\":{\"overlay\":{\"id\":\"1538\"}},\"id\":\"1536\",\"type\":\"BoxZoomTool\"},{\"attributes\":{\"fill_alpha\":{\"value\":0.2},\"fill_color\":{\"value\":\"#fc4f30\"},\"hatch_alpha\":{\"value\":0.2},\"hatch_color\":{\"value\":\"#fc4f30\"},\"line_alpha\":{\"value\":0.2},\"line_color\":{\"value\":\"#fc4f30\"},\"size\":{\"value\":5.477225575051661},\"x\":{\"field\":\"TotalCoinsMined\"},\"y\":{\"field\":\"TotalCoinSupply\"}},\"id\":\"1578\",\"type\":\"Scatter\"},{\"attributes\":{},\"id\":\"1537\",\"type\":\"ResetTool\"},{\"attributes\":{\"bottom_units\":\"screen\",\"coordinates\":null,\"fill_alpha\":0.5,\"fill_color\":\"lightgrey\",\"group\":null,\"left_units\":\"screen\",\"level\":\"overlay\",\"line_alpha\":1.0,\"line_color\":\"black\",\"line_dash\":[4,4],\"line_width\":2,\"right_units\":\"screen\",\"syncable\":false,\"top_units\":\"screen\"},\"id\":\"1538\",\"type\":\"BoxAnnotation\"},{\"attributes\":{\"label\":{\"value\":\"1\"},\"renderers\":[{\"id\":\"1579\"}]},\"id\":\"1593\",\"type\":\"LegendItem\"},{\"attributes\":{\"fill_color\":{\"value\":\"#fc4f30\"},\"hatch_color\":{\"value\":\"#fc4f30\"},\"line_color\":{\"value\":\"#fc4f30\"},\"size\":{\"value\":5.477225575051661},\"x\":{\"field\":\"TotalCoinsMined\"},\"y\":{\"field\":\"TotalCoinSupply\"}},\"id\":\"1576\",\"type\":\"Scatter\"},{\"attributes\":{\"margin\":[5,5,5,5],\"name\":\"HSpacer03013\",\"sizing_mode\":\"stretch_width\"},\"id\":\"1509\",\"type\":\"Spacer\"},{\"attributes\":{},\"id\":\"1567\",\"type\":\"UnionRenderers\"},{\"attributes\":{\"fill_alpha\":{\"value\":0.1},\"fill_color\":{\"value\":\"#fc4f30\"},\"hatch_alpha\":{\"value\":0.1},\"hatch_color\":{\"value\":\"#fc4f30\"},\"line_alpha\":{\"value\":0.1},\"line_color\":{\"value\":\"#fc4f30\"},\"size\":{\"value\":5.477225575051661},\"x\":{\"field\":\"TotalCoinsMined\"},\"y\":{\"field\":\"TotalCoinSupply\"}},\"id\":\"1577\",\"type\":\"Scatter\"},{\"attributes\":{\"coordinates\":null,\"data_source\":{\"id\":\"1573\"},\"glyph\":{\"id\":\"1576\"},\"group\":null,\"hover_glyph\":null,\"muted_glyph\":{\"id\":\"1578\"},\"nonselection_glyph\":{\"id\":\"1577\"},\"selection_glyph\":{\"id\":\"1594\"},\"view\":{\"id\":\"1580\"}},\"id\":\"1579\",\"type\":\"GlyphRenderer\"},{\"attributes\":{\"children\":[{\"id\":\"1509\"},{\"id\":\"1516\"},{\"id\":\"1773\"}],\"margin\":[0,0,0,0],\"name\":\"Row03009\",\"tags\":[\"embedded\"]},\"id\":\"1508\",\"type\":\"Row\"},{\"attributes\":{\"angle\":{\"value\":0.0},\"fill_alpha\":{\"value\":1.0},\"fill_color\":{\"value\":\"#6d904f\"},\"hatch_alpha\":{\"value\":1.0},\"hatch_color\":{\"value\":\"#6d904f\"},\"hatch_scale\":{\"value\":12.0},\"hatch_weight\":{\"value\":1.0},\"line_alpha\":{\"value\":1.0},\"line_cap\":{\"value\":\"butt\"},\"line_color\":{\"value\":\"#6d904f\"},\"line_dash\":{\"value\":[]},\"line_dash_offset\":{\"value\":0},\"line_join\":{\"value\":\"bevel\"},\"line_width\":{\"value\":1},\"marker\":{\"value\":\"circle\"},\"size\":{\"value\":5.477225575051661},\"x\":{\"field\":\"TotalCoinsMined\"},\"y\":{\"field\":\"TotalCoinSupply\"}},\"id\":\"1644\",\"type\":\"Scatter\"},{\"attributes\":{},\"id\":\"1551\",\"type\":\"AllLabels\"},{\"attributes\":{},\"id\":\"1590\",\"type\":\"UnionRenderers\"},{\"attributes\":{\"data\":{\"CoinName\":[\"Bitcoin\",\"Ethereum\",\"Litecoin\",\"Monero\",\"Ethereum Classic\",\"ZCash\",\"DigiByte\",\"ProsperCoin\",\"Spreadcoin\",\"Argentum\",\"MyriadCoin\",\"MoonCoin\",\"ZetaCoin\",\"SexCoin\",\"Quatloo\",\"QuarkCoin\",\"Riecoin\",\"Digitalcoin \",\"Catcoin\",\"CannaCoin\",\"CryptCoin\",\"Verge\",\"DevCoin\",\"EarthCoin\",\"E-Gulden\",\"Einsteinium\",\"Emerald\",\"Franko\",\"FeatherCoin\",\"GrandCoin\",\"GlobalCoin\",\"GoldCoin\",\"Infinite Coin\",\"IXcoin\",\"KrugerCoin\",\"LuckyCoin\",\"Litebar \",\"MegaCoin\",\"MediterraneanCoin\",\"MinCoin\",\"NobleCoin\",\"Namecoin\",\"NyanCoin\",\"RonPaulCoin\",\"StableCoin\",\"SmartCoin\",\"SysCoin\",\"TigerCoin\",\"TerraCoin\",\"UnbreakableCoin\",\"Unobtanium\",\"UroCoin\",\"ViaCoin\",\"Vertcoin\",\"WorldCoin\",\"JouleCoin\",\"ByteCoin\",\"DigitalNote \",\"MonaCoin\",\"Gulden\",\"PesetaCoin\",\"Wild Beast Coin\",\"Flo\",\"ArtByte\",\"Folding Coin\",\"Unitus\",\"CypherPunkCoin\",\"OmniCron\",\"GreenCoin\",\"Cryptonite\",\"MasterCoin\",\"SoonCoin\",\"1Credit\",\"MarsCoin \",\"Crypto\",\"Anarchists Prime\",\"BowsCoin\",\"Song Coin\",\"BitZeny\",\"Expanse\",\"Siacoin\",\"MindCoin\",\"I0coin\",\"Revolution VR\",\"HOdlcoin\",\"Gamecredits\",\"CarpeDiemCoin\",\"Adzcoin\",\"SoilCoin\",\"YoCoin\",\"SibCoin\",\"Francs\",\"BolivarCoin\",\"Omni\",\"PizzaCoin\",\"Komodo\",\"Karbo\",\"ZayedCoin\",\"Circuits of Value\",\"DopeCoin\",\"DollarCoin\",\"Shilling\",\"ZCoin\",\"Elementrem\",\"ZClassic\",\"KiloCoin\",\"ArtexCoin\",\"Kurrent\",\"Cannabis Industry Coin\",\"OsmiumCoin\",\"Bikercoins\",\"HexxCoin\",\"PacCoin\",\"Citadel\",\"BeaverCoin\",\"VaultCoin\",\"Zero\",\"Canada eCoin\",\"Zoin\",\"DubaiCoin\",\"EB3coin\",\"Coinonat\",\"BenjiRolls\",\"ILCoin\",\"EquiTrader\",\"Quantum Resistant Ledger\",\"Dynamic\",\"Nano\",\"ChanCoin\",\"Dinastycoin\",\"DigitalPrice\",\"Unify\",\"SocialCoin\",\"ArcticCoin\",\"DAS\",\"LeviarCoin\",\"Bitcore\",\"gCn Coin\",\"SmartCash\",\"Onix\",\"Bitcoin Cash\",\"Sojourn Coin\",\"NewYorkCoin\",\"FrazCoin\",\"Kronecoin\",\"AdCoin\",\"Linx\",\"Sumokoin\",\"BitcoinZ\",\"Elements\",\"VIVO Coin\",\"Bitcoin Gold\",\"Pirl\",\"eBoost\",\"Pura\",\"Innova\",\"Ellaism\",\"GoByte\",\"SHIELD\",\"UltraNote\",\"BitCoal\",\"DaxxCoin\",\"AC3\",\"Lethean\",\"PopularCoin\",\"Photon\",\"Sucre\",\"SparksPay\",\"GunCoin\",\"IrishCoin\",\"Pioneer Coin\",\"UnitedBitcoin\",\"Interzone\",\"TurtleCoin\",\"MUNcoin\",\"Niobio Cash\",\"ShareChain\",\"Travelflex\",\"KREDS\",\"BitFlip\",\"LottoCoin\",\"Crypto Improvement Fund\",\"Callisto Network\",\"BitTube\",\"Poseidon\",\"Aidos Kuneen\",\"Bitrolium\",\"Alpenschillling\",\"FuturoCoin\",\"Monero Classic\",\"Jumpcoin\",\"Infinex\",\"KEYCO\",\"GINcoin\",\"PlatinCoin\",\"Loki\",\"Newton Coin\",\"MassGrid\",\"PluraCoin\",\"Motion\",\"PlusOneCoin\",\"Axe\",\"HexCoin\",\"Webchain\",\"Ryo\",\"Urals Coin\",\"Qwertycoin\",\"Project Pai\",\"Azart\",\"Xchange\",\"CrypticCoin\",\"Actinium\",\"Bitcoin SV\",\"FREDEnergy\",\"Universal Molecule\",\"Lithium\",\"PirateCash\",\"Exosis\",\"Block-Logic\",\"Beam\",\"Bithereum\",\"SLICE\",\"BLAST\",\"Bitcoin Rhodium\",\"GlobalToken\",\"SolarCoin\",\"UFO Coin\",\"BlakeCoin\",\"Crypto Escudo\",\"Crown Coin\",\"SmileyCoin\",\"Groestlcoin\",\"Bata\",\"Pakcoin\",\"JoinCoin\",\"Vollar\",\"Reality Clash\",\"Beldex\",\"Horizen\"],\"TotalCoinSupply\":{\"__ndarray__\":\"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\",\"dtype\":\"float64\",\"order\":\"little\",\"shape\":[239]},\"TotalCoinsMined\":{\"__ndarray__\":\"T0U1aNRpeD+DShhpVch4PysIq9tTmXg/zS2dthBpeD+aaiYsT854P4gevVu6Xng/vkovoRnQkT/pdyQfB114PzQTv5+xYng/EVkERs5jeD9Ir01Mfkh/P+6Ju1z0Vng/kC3YBCkKeT8CgDzstt54P2xMpoyzXng/FEcmDj1oeT/CRVCaH4t4P4AlKoUqeng/CG6NZY5eeD+hc2Q36Ft4P3REUTg3XHg/BeqLk7t2lj/nJL2oa2OZPyD4i71G+pI/dkvohfhseD+H3mTMZj15P5UgaHp7a3g/OUdgWShYeD8Vc1W/qDJ5PzILHIPW+Xs/1CiorhmceD9YoXr10IJ4P+VXYvYez7g/kW5LvChteD8MPbhZafZ4P7Au2IdNa3g/pSqJAB5YeD8WBQbIH394P2W6iEqGgXg/aXD1yxBdeD9UkcR1EwmBP9DymF54Zng/fuuzcl23eT/BTaXzHVh4PwR1w0RzcHg/d9m81+ZxeD9qKkRfFah6P8YdlDHLhHg/KmkWURpveD/CIGRjWll4Pwfa9X0qV3g/yjlfwTlYeD/XzbxmVG94PynXAaTVjHg/ccaVC+PUeD/6CAwcOYB4P8EmMmsCa8g/yMNTtGZfij8XK1xywZ54Pyfht6nvC3o/W2xArb7neD+/InBfJVd4P0xqVy9H93g/RTzn2GeZez+uslsaa0x7P7bntOWCm3g/vr2QB6hdeD82vjl5oWF4P42oHuyOpoU/C7nyTu5Aez/iZ9VPm1d4Pxi3Z38TZHg/ieuGHQxXeD8VaUhN4Xh4Pw07AopsZXg/8nfRR3tmeD+z8/NBqGd4P40t+/I9eXg/zsyPYJGmeD8DKgY5AWJ4PxzyHMb1DqQ/G7sgTKlneD/a1PD4D214P/K5eXoPNHk/6ysoRgJjeD8Gq9nfe6B4P7rDi1wqcJw/k6bCUXOGeD+y4e9C9Vx4PxwIzeOfV3g/HgNaeyFpeD+CHwZt3114P6bQm6RUZXg/hf7BfppXeD8oQpW9Z1h4Py4zkGD70Hg/bXSPyTBfeD88eqBLh114P//ilhnXc3w/z9UTqPrReD+1HnDzimB4P5WC12SpYng/MrGeSOxeeD/QJz6/i3J4Pw2lZ2jdXHg//V8gQKIleT/XZSdHiLp7P+3wwYiQl3g/z9qL/PtXeD/zbSxQ5Vd4PyC1uW/OYHg/1mlfCO5YeD8mRVjSVYx6P0JRu/6AYng/SOxzBTxaeD8Egllr8nZ4P/zeFv49Xng/mnPTARTAeD9rD5cje2p4P2qEHzFOWXg/xiSAtXCaeD+XNe3unGF4PwyzfYhNbHg/cmQYXmTCfT8BS//ZWWV4P3DEkjikn3g/93o09MhreD8XY2HrP+N4P0Xx7s5Vang/CxYB3x3Ifz8LUoGn83t4P9n3++8Lang/aJoSQWVceD9hOuHDX3J4P/yI1k63WXg/CK9Mft1leD+VlJahsml4P7VI7Mqqt8U/6g2hlT3HgD8IpDhF6Nd4P65F89jmaXg/AwRcH3dXeD8SEtQnBSTDP2D1N/QrYXg/lH7uzFRpeD+8j+HlU3l4P6z0yT90eng/oNLrzl9geD+ihXT5D+OGP0b7mlpguoE/nBZvOldbeD/viqcKEWl4P1CMoiW9eng/IYEJhTvAeD9e69vNbw95P/oXy7eqXXg/dFODrGJkeD+rxQxfGF14PytPFmYpUno//PNwpiDpmT8VR1BDsVt4P7ZJHt1ke3o/qcFiq4SreD/zm0Fhiid6P/zi2h1nUoQ/IDBSJP6Coj+fWpY6aFt4P+Pji4U3X3g/PlfogZuSeT/giIbI14Z4P4WiKYThX3g/PS1w2y9seD9bWCdSgGN4P05MkTakXK4/meVQEQdceD/QvHpU+ON4P/DS/PzzXZA//yplqPTHeD+qzodKzPx6Px5afgsPZHg/xK25mhX8lD+2/AY+bTV5P3L+Dn6pW3k/DkJPqzyreD+BHCBrPVt4Px3Pu85GcXg/hPDIZxWieD+bI9mpvXN4P9NdohBweHg/1mATgdFneD8VERFYI214P6qNDV1SXHg/LnIIvspXeD9RoqxxT154PwbDhQ8LV3g/bXcZ/B5reD96bcjDq0WoP7L1noYA5ng/c8BhNqmkej+B6fiSgl94P797T5wOYHg/VzhhJzZceD9+1yIvclh4P69QX85bZ3g//k/1nxpceD9GcZT/emZ4Py5fKyeQHLs/nNhn3gF9gD9Pzh5QPFx4P25malo5YXg/zacghgXhhD8ZfYd1T2V4P2/1xATmaXg/EcOQ/18CgD+zHxu/nVh4Pz8O5qSjZ3g/c7sNnyRleD/Eu8jLYVd4P1bT/u8afHg/jTsqgod8eD/rb1xzb3F4PwgRDleQZHg/P+/xjQOOeD8W4hfHL1h4P23wQ9kKsHg/wVzHR3WReD/sBYuZ9AiEPxMbGOaLb3g//gtAXW2Mez8uM/g0KG94P+JKu4VwQKI/FgatCyGkeD9JDbwyRlx4P7t8FQBToHg/9sy4sHZaeD+5C/Q2PsB4P3k/5Mm8cHg/pCWdUgRffD8lVMcJo154Pw==\",\"dtype\":\"float64\",\"order\":\"little\",\"shape\":[239]},\"class\":[1,1,1,1,1,1,1,1,1,1,1,1,1,1,1,1,1,1,1,1,1,1,1,1,1,1,1,1,1,1,1,1,1,1,1,1,1,1,1,1,1,1,1,1,1,1,1,1,1,1,1,1,1,1,1,1,1,1,1,1,1,1,1,1,1,1,1,1,1,1,1,1,1,1,1,1,1,1,1,1,1,1,1,1,1,1,1,1,1,1,1,1,1,1,1,1,1,1,1,1,1,1,1,1,1,1,1,1,1,1,1,1,1,1,1,1,1,1,1,1,1,1,1,1,1,1,1,1,1,1,1,1,1,1,1,1,1,1,1,1,1,1,1,1,1,1,1,1,1,1,1,1,1,1,1,1,1,1,1,1,1,1,1,1,1,1,1,1,1,1,1,1,1,1,1,1,1,1,1,1,1,1,1,1,1,1,1,1,1,1,1,1,1,1,1,1,1,1,1,1,1,1,1,1,1,1,1,1,1,1,1,1,1,1,1,1,1,1,1,1,1,1,1,1,1,1,1,1,1,1,1,1,1,1,1,1,1,1,1]},\"selected\":{\"id\":\"1574\"},\"selection_policy\":{\"id\":\"1590\"}},\"id\":\"1573\",\"type\":\"ColumnDataSource\"},{\"attributes\":{\"source\":{\"id\":\"1573\"}},\"id\":\"1580\",\"type\":\"CDSView\"},{\"attributes\":{\"tools\":[{\"id\":\"1512\"},{\"id\":\"1533\"},{\"id\":\"1534\"},{\"id\":\"1535\"},{\"id\":\"1536\"},{\"id\":\"1537\"}]},\"id\":\"1539\",\"type\":\"Toolbar\"},{\"attributes\":{\"angle\":{\"value\":0.0},\"fill_alpha\":{\"value\":1.0},\"fill_color\":{\"value\":\"#e5ae38\"},\"hatch_alpha\":{\"value\":1.0},\"hatch_color\":{\"value\":\"#e5ae38\"},\"hatch_scale\":{\"value\":12.0},\"hatch_weight\":{\"value\":1.0},\"line_alpha\":{\"value\":1.0},\"line_cap\":{\"value\":\"butt\"},\"line_color\":{\"value\":\"#e5ae38\"},\"line_dash\":{\"value\":[]},\"line_dash_offset\":{\"value\":0},\"line_join\":{\"value\":\"bevel\"},\"line_width\":{\"value\":1},\"marker\":{\"value\":\"circle\"},\"size\":{\"value\":5.477225575051661},\"x\":{\"field\":\"TotalCoinsMined\"},\"y\":{\"field\":\"TotalCoinSupply\"}},\"id\":\"1618\",\"type\":\"Scatter\"},{\"attributes\":{},\"id\":\"1550\",\"type\":\"BasicTickFormatter\"},{\"attributes\":{\"end\":1.1,\"reset_end\":1.1,\"reset_start\":-0.1,\"start\":-0.1,\"tags\":[[[\"TotalCoinSupply\",\"TotalCoinSupply\",null]]]},\"id\":\"1511\",\"type\":\"Range1d\"},{\"attributes\":{\"fill_color\":{\"value\":\"#30a2da\"},\"hatch_color\":{\"value\":\"#30a2da\"},\"line_color\":{\"value\":\"#30a2da\"},\"size\":{\"value\":5.477225575051661},\"x\":{\"field\":\"TotalCoinsMined\"},\"y\":{\"field\":\"TotalCoinSupply\"}},\"id\":\"1555\",\"type\":\"Scatter\"},{\"attributes\":{},\"id\":\"1620\",\"type\":\"Selection\"},{\"attributes\":{},\"id\":\"1553\",\"type\":\"Selection\"},{\"attributes\":{},\"id\":\"1547\",\"type\":\"BasicTickFormatter\"},{\"attributes\":{\"end\":1.042857142857143,\"reset_end\":1.042857142857143,\"reset_start\":-0.04285714285714286,\"start\":-0.04285714285714286,\"tags\":[[[\"TotalCoinsMined\",\"TotalCoinsMined\",null]]]},\"id\":\"1510\",\"type\":\"Range1d\"}],\"root_ids\":[\"1508\"]},\"title\":\"Bokeh Application\",\"version\":\"2.4.1\"}};\n",
       "    var render_items = [{\"docid\":\"6c6693af-4746-462e-aa32-430fa3a46e7b\",\"root_ids\":[\"1508\"],\"roots\":{\"1508\":\"bb3f7948-2210-4e66-90b5-21b194e6bd18\"}}];\n",
       "    root.Bokeh.embed.embed_items_notebook(docs_json, render_items);\n",
       "  }\n",
       "  if (root.Bokeh !== undefined && root.Bokeh.Panel !== undefined) {\n",
       "    embed_document(root);\n",
       "  } else {\n",
       "    var attempts = 0;\n",
       "    var timer = setInterval(function(root) {\n",
       "      if (root.Bokeh !== undefined && root.Bokeh.Panel !== undefined) {\n",
       "        clearInterval(timer);\n",
       "        embed_document(root);\n",
       "      } else if (document.readyState == \"complete\") {\n",
       "        attempts++;\n",
       "        if (attempts > 200) {\n",
       "          clearInterval(timer);\n",
       "          console.log(\"Bokeh: ERROR: Unable to run BokehJS code because BokehJS library is missing\");\n",
       "        }\n",
       "      }\n",
       "    }, 25, root)\n",
       "  }\n",
       "})(window);</script>"
      ],
      "text/plain": [
       ":NdOverlay   [class]\n",
       "   :Scatter   [TotalCoinsMined]   (TotalCoinSupply,CoinName)"
      ]
     },
     "execution_count": 54,
     "metadata": {
      "application/vnd.holoviews_exec.v0+json": {
       "id": "1508"
      }
     },
     "output_type": "execute_result"
    }
   ],
   "source": [
    "# Create a hvplot.scatter plot using x=\"TotalCoinsMined\" and y=\"TotalCoinSupply\".\n",
    "plot_df.hvplot.scatter(x=\"TotalCoinsMined\", y=\"TotalCoinSupply\", by=\"class\",hover_cols=['CoinName'])"
   ]
  },
  {
   "cell_type": "code",
   "execution_count": null,
   "id": "4114d327",
   "metadata": {},
   "outputs": [],
   "source": []
  }
 ],
 "metadata": {
  "kernelspec": {
   "display_name": "Python 3 (ipykernel)",
   "language": "python",
   "name": "python3"
  },
  "language_info": {
   "codemirror_mode": {
    "name": "ipython",
    "version": 3
   },
   "file_extension": ".py",
   "mimetype": "text/x-python",
   "name": "python",
   "nbconvert_exporter": "python",
   "pygments_lexer": "ipython3",
   "version": "3.9.7"
  }
 },
 "nbformat": 4,
 "nbformat_minor": 5
}
